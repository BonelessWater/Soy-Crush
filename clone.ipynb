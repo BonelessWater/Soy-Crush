pip install git+https://github.com/BonelessWater/Soy-Crush.git


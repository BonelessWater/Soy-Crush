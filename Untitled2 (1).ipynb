{
  "cells": [
    {
      "cell_type": "code",
      "execution_count": 2,
      "metadata": {
        "id": "42fc6wDfY0Jx"
      },
      "outputs": [],
      "source": [
        "import numpy as np\n",
        "import pandas as pd\n",
        "import matplotlib.pyplot as plt\n",
        "from statsmodels.tsa.seasonal import seasonal_decompose\n",
        "import scipy"
      ]
    },
    {
      "cell_type": "code",
      "execution_count": 3,
      "metadata": {
        "colab": {
          "base_uri": "https://localhost:8080/",
          "height": 423
        },
        "id": "8HOsQxpSY1y2",
        "outputId": "d9301300-b408-48d2-9f59-7f29bca40603"
      },
      "outputs": [
        {
          "data": {
            "text/html": [
              "<div>\n",
              "<style scoped>\n",
              "    .dataframe tbody tr th:only-of-type {\n",
              "        vertical-align: middle;\n",
              "    }\n",
              "\n",
              "    .dataframe tbody tr th {\n",
              "        vertical-align: top;\n",
              "    }\n",
              "\n",
              "    .dataframe thead th {\n",
              "        text-align: right;\n",
              "    }\n",
              "</style>\n",
              "<table border=\"1\" class=\"dataframe\">\n",
              "  <thead>\n",
              "    <tr style=\"text-align: right;\">\n",
              "      <th></th>\n",
              "      <th>time</th>\n",
              "      <th>symbol</th>\n",
              "      <th>open</th>\n",
              "      <th>high</th>\n",
              "      <th>low</th>\n",
              "      <th>close</th>\n",
              "      <th>volume</th>\n",
              "    </tr>\n",
              "  </thead>\n",
              "  <tbody>\n",
              "    <tr>\n",
              "      <th>0</th>\n",
              "      <td>2012-03-16 00:00:00+00</td>\n",
              "      <td>ZL.c.0</td>\n",
              "      <td>55.49</td>\n",
              "      <td>55.61</td>\n",
              "      <td>55.16</td>\n",
              "      <td>55.43</td>\n",
              "      <td>32856</td>\n",
              "    </tr>\n",
              "    <tr>\n",
              "      <th>1</th>\n",
              "      <td>2012-03-18 00:00:00+00</td>\n",
              "      <td>ZL.c.0</td>\n",
              "      <td>55.50</td>\n",
              "      <td>55.60</td>\n",
              "      <td>55.45</td>\n",
              "      <td>55.55</td>\n",
              "      <td>443</td>\n",
              "    </tr>\n",
              "    <tr>\n",
              "      <th>2</th>\n",
              "      <td>2012-03-19 00:00:00+00</td>\n",
              "      <td>ZL.c.0</td>\n",
              "      <td>55.52</td>\n",
              "      <td>55.57</td>\n",
              "      <td>54.91</td>\n",
              "      <td>55.35</td>\n",
              "      <td>35088</td>\n",
              "    </tr>\n",
              "    <tr>\n",
              "      <th>3</th>\n",
              "      <td>2012-03-20 00:00:00+00</td>\n",
              "      <td>ZL.c.0</td>\n",
              "      <td>55.36</td>\n",
              "      <td>55.36</td>\n",
              "      <td>54.33</td>\n",
              "      <td>54.40</td>\n",
              "      <td>45301</td>\n",
              "    </tr>\n",
              "    <tr>\n",
              "      <th>4</th>\n",
              "      <td>2012-03-21 00:00:00+00</td>\n",
              "      <td>ZL.c.0</td>\n",
              "      <td>54.45</td>\n",
              "      <td>54.65</td>\n",
              "      <td>54.24</td>\n",
              "      <td>54.43</td>\n",
              "      <td>41879</td>\n",
              "    </tr>\n",
              "    <tr>\n",
              "      <th>...</th>\n",
              "      <td>...</td>\n",
              "      <td>...</td>\n",
              "      <td>...</td>\n",
              "      <td>...</td>\n",
              "      <td>...</td>\n",
              "      <td>...</td>\n",
              "      <td>...</td>\n",
              "    </tr>\n",
              "    <tr>\n",
              "      <th>3199</th>\n",
              "      <td>2025-01-30 00:00:00+00</td>\n",
              "      <td>ZL.c.0</td>\n",
              "      <td>45.00</td>\n",
              "      <td>45.17</td>\n",
              "      <td>44.10</td>\n",
              "      <td>44.97</td>\n",
              "      <td>33650</td>\n",
              "    </tr>\n",
              "    <tr>\n",
              "      <th>3200</th>\n",
              "      <td>2025-01-31 00:00:00+00</td>\n",
              "      <td>ZL.c.0</td>\n",
              "      <td>45.09</td>\n",
              "      <td>46.81</td>\n",
              "      <td>44.78</td>\n",
              "      <td>46.15</td>\n",
              "      <td>100018</td>\n",
              "    </tr>\n",
              "    <tr>\n",
              "      <th>3201</th>\n",
              "      <td>2025-02-03 00:00:00+00</td>\n",
              "      <td>ZL.c.0</td>\n",
              "      <td>47.01</td>\n",
              "      <td>47.54</td>\n",
              "      <td>46.15</td>\n",
              "      <td>46.39</td>\n",
              "      <td>73332</td>\n",
              "    </tr>\n",
              "    <tr>\n",
              "      <th>3202</th>\n",
              "      <td>2025-02-04 00:00:00+00</td>\n",
              "      <td>ZL.c.0</td>\n",
              "      <td>45.72</td>\n",
              "      <td>46.22</td>\n",
              "      <td>44.64</td>\n",
              "      <td>45.79</td>\n",
              "      <td>64536</td>\n",
              "    </tr>\n",
              "    <tr>\n",
              "      <th>3203</th>\n",
              "      <td>2025-02-05 00:00:00+00</td>\n",
              "      <td>ZL.c.0</td>\n",
              "      <td>45.79</td>\n",
              "      <td>45.99</td>\n",
              "      <td>44.77</td>\n",
              "      <td>45.06</td>\n",
              "      <td>42054</td>\n",
              "    </tr>\n",
              "  </tbody>\n",
              "</table>\n",
              "<p>3204 rows × 7 columns</p>\n",
              "</div>"
            ],
            "text/plain": [
              "                        time  symbol   open   high    low  close  volume\n",
              "0     2012-03-16 00:00:00+00  ZL.c.0  55.49  55.61  55.16  55.43   32856\n",
              "1     2012-03-18 00:00:00+00  ZL.c.0  55.50  55.60  55.45  55.55     443\n",
              "2     2012-03-19 00:00:00+00  ZL.c.0  55.52  55.57  54.91  55.35   35088\n",
              "3     2012-03-20 00:00:00+00  ZL.c.0  55.36  55.36  54.33  54.40   45301\n",
              "4     2012-03-21 00:00:00+00  ZL.c.0  54.45  54.65  54.24  54.43   41879\n",
              "...                      ...     ...    ...    ...    ...    ...     ...\n",
              "3199  2025-01-30 00:00:00+00  ZL.c.0  45.00  45.17  44.10  44.97   33650\n",
              "3200  2025-01-31 00:00:00+00  ZL.c.0  45.09  46.81  44.78  46.15  100018\n",
              "3201  2025-02-03 00:00:00+00  ZL.c.0  47.01  47.54  46.15  46.39   73332\n",
              "3202  2025-02-04 00:00:00+00  ZL.c.0  45.72  46.22  44.64  45.79   64536\n",
              "3203  2025-02-05 00:00:00+00  ZL.c.0  45.79  45.99  44.77  45.06   42054\n",
              "\n",
              "[3204 rows x 7 columns]"
            ]
          },
          "execution_count": 3,
          "metadata": {},
          "output_type": "execute_result"
        }
      ],
      "source": [
        "soybean_oil = pd.read_csv(\"data/Zl Soybean Oil.csv\",skiprows=range(1, 501))\n",
        "soybean_meal = pd.read_csv(\"data/Zm Soybean Meal.csv\", skiprows=range(1, 501))\n",
        "soybean_mini = pd.read_csv(\"data/Zs Soybean Mini.csv\", skiprows=range(1, 501))\n",
        "soybean_oil\n",
        "\n"
      ]
    },
    {
      "cell_type": "code",
      "execution_count": 4,
      "metadata": {
        "id": "R8HBO0_XY4AD"
      },
      "outputs": [],
      "source": [
        "soybean_spread_open = (11 * soybean_oil['open']) + (48 * soybean_meal['open']) - (50 * soybean_mini['open'])\n",
        "soybean_spread_high = (11 * soybean_oil['high']) + (48 * soybean_meal['high']) - (50 * soybean_mini['low'])\n",
        "soybean_spread_low = (11 * soybean_oil['low']) + (48 * soybean_meal['low']) - (50 * soybean_mini['high'])\n",
        "soybean_spread_close = (11 * soybean_oil['close']) + (48 * soybean_meal['close']) - (50 * soybean_mini['close'])\n",
        "soybean_spread_volume = (soybean_oil['volume'] + soybean_meal['volume'] + soybean_mini['volume']) // 3"
      ]
    },
    {
      "cell_type": "code",
      "execution_count": 5,
      "metadata": {
        "id": "7pfBpP3HY5g7"
      },
      "outputs": [],
      "source": [
        "def fractional_difference(series, alpha, window_size):\n",
        "    series = np.array(series)\n",
        "\n",
        "\n",
        "    diff_series = np.zeros_like(series)\n",
        "\n",
        "\n",
        "    for t in range(window_size, len(series)):\n",
        "        diff = 0\n",
        "        for k in range(window_size):\n",
        "\n",
        "            binomial_coeff = scipy.special.comb(alpha, k)\n",
        "\n",
        "            diff += (-1) ** k * binomial_coeff * series[t - k - 1]\n",
        "\n",
        "\n",
        "        diff_series[t] = diff\n",
        "\n",
        "    return diff_series\n",
        "\n",
        "differentiated_spread = fractional_difference(soybean_spread_close, 1, 3)\n",
        "differentiated_spread_volume = fractional_difference(soybean_spread_volume, 1, 3)"
      ]
    },
    {
      "cell_type": "code",
      "execution_count": 6,
      "metadata": {
        "colab": {
          "base_uri": "https://localhost:8080/",
          "height": 434
        },
        "id": "qQAqdBiTY6i9",
        "outputId": "d3e2bd31-7713-45ce-8719-3fca4cdc031a"
      },
      "outputs": [
        {
          "data": {
            "image/png": "[encoded data removed]",
            "text/plain": [
              "<Figure size 1000x600 with 1 Axes>"
            ]
          },
          "metadata": {},
          "output_type": "display_data"
        }
      ],
      "source": [
        "plt.figure(figsize=(10, 6))\n",
        "plt.plot(differentiated_spread, linestyle='-', color='b', label='Differentiated Data')\n",
        "plt.title('Differentiated Data (diff_manual)')\n",
        "plt.xlabel('Time')\n",
        "plt.ylabel('Value')\n",
        "plt.legend()\n",
        "plt.grid()\n",
        "plt.show()"
      ]
    },
    {
      "cell_type": "code",
      "execution_count": 7,
      "metadata": {
        "id": "dnKgyqXUY90s"
      },
      "outputs": [],
      "source": [
        "\n",
        "differentiated_spread = differentiated_spread[~np.isnan(differentiated_spread)]\n",
        "differentiated_spread_volume = differentiated_spread_volume[~np.isnan(differentiated_spread_volume)]\n",
        "# 1. Cyclical Component\n",
        "decomposition = seasonal_decompose(differentiated_spread, model='additive', period=50)\n",
        "cyclical_component = decomposition.resid\n",
        "\n",
        "# 2. Rolling Volatility\n",
        "rolling_volatility = pd.Series(differentiated_spread).rolling(window=20).std().values\n",
        "\n",
        "# 3. Seasonal Pattern\n",
        "seasonal_sin = np.sin(2 * np.pi * np.arange(len(differentiated_spread)) / 365)\n",
        "seasonal_cos = np.cos(2 * np.pi * np.arange(len(differentiated_spread)) / 365)\n",
        "\n",
        "# 4. Normalized Volume-Weighted\n",
        "volume_weighted = (differentiated_spread * differentiated_spread_volume) / differentiated_spread_volume.sum()\n",
        "norm_volume_weighted = (volume_weighted - volume_weighted.mean()) / volume_weighted.std()\n"
      ]
    },
    {
      "cell_type": "code",
      "execution_count": 8,
      "metadata": {
        "colab": {
          "base_uri": "https://localhost:8080/",
          "height": 399
        },
        "id": "GAVYhFUxY_6M",
        "outputId": "47a997f9-2147-4140-88e5-84a367bcce81"
      },
      "outputs": [
        {
          "name": "stderr",
          "output_type": "stream",
          "text": [
            "[I 2025-02-09 11:01:01,691] A new study created in memory with name: no-name-d7e162d7-06bc-478d-a306-3b34ec1905d4\n",
            "Best trial: 0. Best value: 0.624342:   1%|          | 1/100 [00:06<10:26,  6.32s/it]"
          ]
        },
        {
          "name": "stdout",
          "output_type": "stream",
          "text": [
            "[I 2025-02-09 11:01:08,017] Trial 0 finished with value: 0.6243418901688853 and parameters: {'booster': 'gbtree', 'max_depth': 5, 'learning_rate': 0.0010730926835896305, 'n_estimators': 1350, 'subsample': 0.6042400887999406, 'colsample_bytree': 0.5315332918896261, 'reg_alpha': 2.5183192273607676e-08, 'reg_lambda': 0.30237997530295696, 'min_child_weight': 8, 'gamma': 1.2673073180952073e-06}. Best is trial 0 with value: 0.6243418901688853.\n"
          ]
        },
        {
          "name": "stderr",
          "output_type": "stream",
          "text": [
            "Best trial: 1. Best value: 0.651262:   2%|▏         | 2/100 [00:13<11:11,  6.85s/it]"
          ]
        },
        {
          "name": "stdout",
          "output_type": "stream",
          "text": [
            "[I 2025-02-09 11:01:15,240] Trial 1 finished with value: 0.6512618836948946 and parameters: {'booster': 'gbtree', 'max_depth': 8, 'learning_rate': 0.013384382601285957, 'n_estimators': 1200, 'subsample': 0.9713344840333672, 'colsample_bytree': 0.6415573766128096, 'reg_alpha': 1.3865500491256474e-08, 'reg_lambda': 0.05764435858142196, 'min_child_weight': 10, 'gamma': 7.062718614765464e-08}. Best is trial 1 with value: 0.6512618836948946.\n"
          ]
        },
        {
          "name": "stderr",
          "output_type": "stream",
          "text": [
            "Best trial: 1. Best value: 0.651262:   3%|▎         | 3/100 [00:15<07:38,  4.72s/it]"
          ]
        },
        {
          "name": "stdout",
          "output_type": "stream",
          "text": [
            "[I 2025-02-09 11:01:17,426] Trial 2 finished with value: 0.6061187981580783 and parameters: {'booster': 'gbtree', 'max_depth': 5, 'learning_rate': 0.0025795184580006134, 'n_estimators': 150, 'subsample': 0.9684077068093913, 'colsample_bytree': 0.5651958122866291, 'reg_alpha': 5.596301564522268e-08, 'reg_lambda': 0.0006858879536015484, 'min_child_weight': 8, 'gamma': 1.5409621502136527e-06}. Best is trial 1 with value: 0.6512618836948946.\n"
          ]
        },
        {
          "name": "stderr",
          "output_type": "stream",
          "text": [
            "c:\\Users\\domdd\\Documents\\GitHub\\Soy-Crush\\.venv\\Lib\\site-packages\\xgboost\\core.py:158: UserWarning: [11:01:17] WARNING: C:\\buildkite-agent\\builds\\buildkite-windows-cpu-autoscaling-group-i-08cbc0333d8d4aae1-1\\xgboost\\xgboost-ci-windows\\src\\learner.cc:740: \n",
            "Parameters: { \"colsample_bytree\", \"gamma\", \"max_depth\", \"min_child_weight\", \"subsample\" } are not used.\n",
            "\n",
            "  warnings.warn(smsg, UserWarning)\n",
            "c:\\Users\\domdd\\Documents\\GitHub\\Soy-Crush\\.venv\\Lib\\site-packages\\xgboost\\core.py:158: UserWarning: [11:01:18] WARNING: C:\\buildkite-agent\\builds\\buildkite-windows-cpu-autoscaling-group-i-08cbc0333d8d4aae1-1\\xgboost\\xgboost-ci-windows\\src\\learner.cc:740: \n",
            "Parameters: { \"colsample_bytree\", \"gamma\", \"max_depth\", \"min_child_weight\", \"subsample\" } are not used.\n",
            "\n",
            "  warnings.warn(smsg, UserWarning)\n",
            "c:\\Users\\domdd\\Documents\\GitHub\\Soy-Crush\\.venv\\Lib\\site-packages\\xgboost\\core.py:158: UserWarning: [11:01:18] WARNING: C:\\buildkite-agent\\builds\\buildkite-windows-cpu-autoscaling-group-i-08cbc0333d8d4aae1-1\\xgboost\\xgboost-ci-windows\\src\\learner.cc:740: \n",
            "Parameters: { \"colsample_bytree\", \"gamma\", \"max_depth\", \"min_child_weight\", \"subsample\" } are not used.\n",
            "\n",
            "  warnings.warn(smsg, UserWarning)\n",
            "c:\\Users\\domdd\\Documents\\GitHub\\Soy-Crush\\.venv\\Lib\\site-packages\\xgboost\\core.py:158: UserWarning: [11:01:18] WARNING: C:\\buildkite-agent\\builds\\buildkite-windows-cpu-autoscaling-group-i-08cbc0333d8d4aae1-1\\xgboost\\xgboost-ci-windows\\src\\learner.cc:740: \n",
            "Parameters: { \"colsample_bytree\", \"gamma\", \"max_depth\", \"min_child_weight\", \"subsample\" } are not used.\n",
            "\n",
            "  warnings.warn(smsg, UserWarning)\n",
            "c:\\Users\\domdd\\Documents\\GitHub\\Soy-Crush\\.venv\\Lib\\site-packages\\xgboost\\core.py:158: UserWarning: [11:01:19] WARNING: C:\\buildkite-agent\\builds\\buildkite-windows-cpu-autoscaling-group-i-08cbc0333d8d4aae1-1\\xgboost\\xgboost-ci-windows\\src\\learner.cc:740: \n",
            "Parameters: { \"colsample_bytree\", \"gamma\", \"max_depth\", \"min_child_weight\", \"subsample\" } are not used.\n",
            "\n",
            "  warnings.warn(smsg, UserWarning)\n",
            "Best trial: 3. Best value: 0.668726:   4%|▍         | 4/100 [00:17<05:47,  3.62s/it]"
          ]
        },
        {
          "name": "stdout",
          "output_type": "stream",
          "text": [
            "[I 2025-02-09 11:01:19,361] Trial 3 finished with value: 0.6687264936161047 and parameters: {'booster': 'gblinear', 'max_depth': 7, 'learning_rate': 0.02108632536294029, 'n_estimators': 350, 'subsample': 0.8299482771104436, 'colsample_bytree': 0.8179565875859729, 'reg_alpha': 0.00017904996552085858, 'reg_lambda': 7.168157491020794e-08, 'min_child_weight': 8, 'gamma': 0.004999654128446803}. Best is trial 3 with value: 0.6687264936161047.\n"
          ]
        },
        {
          "name": "stderr",
          "output_type": "stream",
          "text": [
            "c:\\Users\\domdd\\Documents\\GitHub\\Soy-Crush\\.venv\\Lib\\site-packages\\xgboost\\core.py:158: UserWarning: [11:01:19] WARNING: C:\\buildkite-agent\\builds\\buildkite-windows-cpu-autoscaling-group-i-08cbc0333d8d4aae1-1\\xgboost\\xgboost-ci-windows\\src\\learner.cc:740: \n",
            "Parameters: { \"colsample_bytree\", \"gamma\", \"max_depth\", \"min_child_weight\", \"subsample\" } are not used.\n",
            "\n",
            "  warnings.warn(smsg, UserWarning)\n",
            "c:\\Users\\domdd\\Documents\\GitHub\\Soy-Crush\\.venv\\Lib\\site-packages\\xgboost\\core.py:158: UserWarning: [11:01:20] WARNING: C:\\buildkite-agent\\builds\\buildkite-windows-cpu-autoscaling-group-i-08cbc0333d8d4aae1-1\\xgboost\\xgboost-ci-windows\\src\\learner.cc:740: \n",
            "Parameters: { \"colsample_bytree\", \"gamma\", \"max_depth\", \"min_child_weight\", \"subsample\" } are not used.\n",
            "\n",
            "  warnings.warn(smsg, UserWarning)\n",
            "c:\\Users\\domdd\\Documents\\GitHub\\Soy-Crush\\.venv\\Lib\\site-packages\\xgboost\\core.py:158: UserWarning: [11:01:20] WARNING: C:\\buildkite-agent\\builds\\buildkite-windows-cpu-autoscaling-group-i-08cbc0333d8d4aae1-1\\xgboost\\xgboost-ci-windows\\src\\learner.cc:740: \n",
            "Parameters: { \"colsample_bytree\", \"gamma\", \"max_depth\", \"min_child_weight\", \"subsample\" } are not used.\n",
            "\n",
            "  warnings.warn(smsg, UserWarning)\n",
            "c:\\Users\\domdd\\Documents\\GitHub\\Soy-Crush\\.venv\\Lib\\site-packages\\xgboost\\core.py:158: UserWarning: [11:01:20] WARNING: C:\\buildkite-agent\\builds\\buildkite-windows-cpu-autoscaling-group-i-08cbc0333d8d4aae1-1\\xgboost\\xgboost-ci-windows\\src\\learner.cc:740: \n",
            "Parameters: { \"colsample_bytree\", \"gamma\", \"max_depth\", \"min_child_weight\", \"subsample\" } are not used.\n",
            "\n",
            "  warnings.warn(smsg, UserWarning)\n",
            "c:\\Users\\domdd\\Documents\\GitHub\\Soy-Crush\\.venv\\Lib\\site-packages\\xgboost\\core.py:158: UserWarning: [11:01:21] WARNING: C:\\buildkite-agent\\builds\\buildkite-windows-cpu-autoscaling-group-i-08cbc0333d8d4aae1-1\\xgboost\\xgboost-ci-windows\\src\\learner.cc:740: \n",
            "Parameters: { \"colsample_bytree\", \"gamma\", \"max_depth\", \"min_child_weight\", \"subsample\" } are not used.\n",
            "\n",
            "  warnings.warn(smsg, UserWarning)\n",
            "Best trial: 3. Best value: 0.668726:   5%|▌         | 5/100 [00:19<04:51,  3.07s/it]"
          ]
        },
        {
          "name": "stdout",
          "output_type": "stream",
          "text": [
            "[I 2025-02-09 11:01:21,461] Trial 4 finished with value: 0.5660435963434651 and parameters: {'booster': 'gblinear', 'max_depth': 6, 'learning_rate': 0.00018792399805873494, 'n_estimators': 700, 'subsample': 0.9461215789955613, 'colsample_bytree': 0.6418219774326457, 'reg_alpha': 1.6536210761469164e-07, 'reg_lambda': 0.0001954977520870568, 'min_child_weight': 10, 'gamma': 0.11653957975342592}. Best is trial 3 with value: 0.6687264936161047.\n"
          ]
        },
        {
          "name": "stderr",
          "output_type": "stream",
          "text": [
            "c:\\Users\\domdd\\Documents\\GitHub\\Soy-Crush\\.venv\\Lib\\site-packages\\xgboost\\core.py:158: UserWarning: [11:01:21] WARNING: C:\\buildkite-agent\\builds\\buildkite-windows-cpu-autoscaling-group-i-08cbc0333d8d4aae1-1\\xgboost\\xgboost-ci-windows\\src\\learner.cc:740: \n",
            "Parameters: { \"colsample_bytree\", \"gamma\", \"max_depth\", \"min_child_weight\", \"subsample\" } are not used.\n",
            "\n",
            "  warnings.warn(smsg, UserWarning)\n",
            "c:\\Users\\domdd\\Documents\\GitHub\\Soy-Crush\\.venv\\Lib\\site-packages\\xgboost\\core.py:158: UserWarning: [11:01:22] WARNING: C:\\buildkite-agent\\builds\\buildkite-windows-cpu-autoscaling-group-i-08cbc0333d8d4aae1-1\\xgboost\\xgboost-ci-windows\\src\\learner.cc:740: \n",
            "Parameters: { \"colsample_bytree\", \"gamma\", \"max_depth\", \"min_child_weight\", \"subsample\" } are not used.\n",
            "\n",
            "  warnings.warn(smsg, UserWarning)\n",
            "c:\\Users\\domdd\\Documents\\GitHub\\Soy-Crush\\.venv\\Lib\\site-packages\\xgboost\\core.py:158: UserWarning: [11:01:22] WARNING: C:\\buildkite-agent\\builds\\buildkite-windows-cpu-autoscaling-group-i-08cbc0333d8d4aae1-1\\xgboost\\xgboost-ci-windows\\src\\learner.cc:740: \n",
            "Parameters: { \"colsample_bytree\", \"gamma\", \"max_depth\", \"min_child_weight\", \"subsample\" } are not used.\n",
            "\n",
            "  warnings.warn(smsg, UserWarning)\n",
            "c:\\Users\\domdd\\Documents\\GitHub\\Soy-Crush\\.venv\\Lib\\site-packages\\xgboost\\core.py:158: UserWarning: [11:01:22] WARNING: C:\\buildkite-agent\\builds\\buildkite-windows-cpu-autoscaling-group-i-08cbc0333d8d4aae1-1\\xgboost\\xgboost-ci-windows\\src\\learner.cc:740: \n",
            "Parameters: { \"colsample_bytree\", \"gamma\", \"max_depth\", \"min_child_weight\", \"subsample\" } are not used.\n",
            "\n",
            "  warnings.warn(smsg, UserWarning)\n",
            "c:\\Users\\domdd\\Documents\\GitHub\\Soy-Crush\\.venv\\Lib\\site-packages\\xgboost\\core.py:158: UserWarning: [11:01:23] WARNING: C:\\buildkite-agent\\builds\\buildkite-windows-cpu-autoscaling-group-i-08cbc0333d8d4aae1-1\\xgboost\\xgboost-ci-windows\\src\\learner.cc:740: \n",
            "Parameters: { \"colsample_bytree\", \"gamma\", \"max_depth\", \"min_child_weight\", \"subsample\" } are not used.\n",
            "\n",
            "  warnings.warn(smsg, UserWarning)\n",
            "Best trial: 3. Best value: 0.668726:   6%|▌         | 6/100 [00:21<04:12,  2.68s/it]"
          ]
        },
        {
          "name": "stdout",
          "output_type": "stream",
          "text": [
            "[I 2025-02-09 11:01:23,391] Trial 5 finished with value: 0.5022178067764771 and parameters: {'booster': 'gblinear', 'max_depth': 6, 'learning_rate': 0.002534972593188058, 'n_estimators': 800, 'subsample': 0.9639360363334113, 'colsample_bytree': 0.53454757001826, 'reg_alpha': 0.5643432113419911, 'reg_lambda': 2.005334591038348e-06, 'min_child_weight': 3, 'gamma': 0.00011124419905093742}. Best is trial 3 with value: 0.6687264936161047.\n"
          ]
        },
        {
          "name": "stderr",
          "output_type": "stream",
          "text": [
            "Best trial: 3. Best value: 0.668726:   7%|▋         | 7/100 [00:24<04:01,  2.60s/it]"
          ]
        },
        {
          "name": "stdout",
          "output_type": "stream",
          "text": [
            "[I 2025-02-09 11:01:25,803] Trial 6 finished with value: 0.6138029900674528 and parameters: {'booster': 'gbtree', 'max_depth': 3, 'learning_rate': 0.0005498709265444107, 'n_estimators': 500, 'subsample': 0.5296447069612671, 'colsample_bytree': 0.6712587946091679, 'reg_alpha': 0.0007655650735799845, 'reg_lambda': 0.615165395811423, 'min_child_weight': 3, 'gamma': 0.012621250859246569}. Best is trial 3 with value: 0.6687264936161047.\n"
          ]
        },
        {
          "name": "stderr",
          "output_type": "stream",
          "text": [
            "c:\\Users\\domdd\\Documents\\GitHub\\Soy-Crush\\.venv\\Lib\\site-packages\\xgboost\\core.py:158: UserWarning: [11:01:26] WARNING: C:\\buildkite-agent\\builds\\buildkite-windows-cpu-autoscaling-group-i-08cbc0333d8d4aae1-1\\xgboost\\xgboost-ci-windows\\src\\learner.cc:740: \n",
            "Parameters: { \"colsample_bytree\", \"gamma\", \"max_depth\", \"min_child_weight\", \"subsample\" } are not used.\n",
            "\n",
            "  warnings.warn(smsg, UserWarning)\n",
            "c:\\Users\\domdd\\Documents\\GitHub\\Soy-Crush\\.venv\\Lib\\site-packages\\xgboost\\core.py:158: UserWarning: [11:01:26] WARNING: C:\\buildkite-agent\\builds\\buildkite-windows-cpu-autoscaling-group-i-08cbc0333d8d4aae1-1\\xgboost\\xgboost-ci-windows\\src\\learner.cc:740: \n",
            "Parameters: { \"colsample_bytree\", \"gamma\", \"max_depth\", \"min_child_weight\", \"subsample\" } are not used.\n",
            "\n",
            "  warnings.warn(smsg, UserWarning)\n",
            "c:\\Users\\domdd\\Documents\\GitHub\\Soy-Crush\\.venv\\Lib\\site-packages\\xgboost\\core.py:158: UserWarning: [11:01:27] WARNING: C:\\buildkite-agent\\builds\\buildkite-windows-cpu-autoscaling-group-i-08cbc0333d8d4aae1-1\\xgboost\\xgboost-ci-windows\\src\\learner.cc:740: \n",
            "Parameters: { \"colsample_bytree\", \"gamma\", \"max_depth\", \"min_child_weight\", \"subsample\" } are not used.\n",
            "\n",
            "  warnings.warn(smsg, UserWarning)\n",
            "c:\\Users\\domdd\\Documents\\GitHub\\Soy-Crush\\.venv\\Lib\\site-packages\\xgboost\\core.py:158: UserWarning: [11:01:28] WARNING: C:\\buildkite-agent\\builds\\buildkite-windows-cpu-autoscaling-group-i-08cbc0333d8d4aae1-1\\xgboost\\xgboost-ci-windows\\src\\learner.cc:740: \n",
            "Parameters: { \"colsample_bytree\", \"gamma\", \"max_depth\", \"min_child_weight\", \"subsample\" } are not used.\n",
            "\n",
            "  warnings.warn(smsg, UserWarning)\n",
            "c:\\Users\\domdd\\Documents\\GitHub\\Soy-Crush\\.venv\\Lib\\site-packages\\xgboost\\core.py:158: UserWarning: [11:01:28] WARNING: C:\\buildkite-agent\\builds\\buildkite-windows-cpu-autoscaling-group-i-08cbc0333d8d4aae1-1\\xgboost\\xgboost-ci-windows\\src\\learner.cc:740: \n",
            "Parameters: { \"colsample_bytree\", \"gamma\", \"max_depth\", \"min_child_weight\", \"subsample\" } are not used.\n",
            "\n",
            "  warnings.warn(smsg, UserWarning)\n",
            "Best trial: 3. Best value: 0.668726:   8%|▊         | 8/100 [00:27<04:11,  2.73s/it]"
          ]
        },
        {
          "name": "stdout",
          "output_type": "stream",
          "text": [
            "[I 2025-02-09 11:01:28,817] Trial 7 finished with value: 0.5677012886118512 and parameters: {'booster': 'gblinear', 'max_depth': 4, 'learning_rate': 0.00013892547253279184, 'n_estimators': 1250, 'subsample': 0.8920486556339857, 'colsample_bytree': 0.9145190977529621, 'reg_alpha': 0.0001360391756818323, 'reg_lambda': 6.835380057647092e-07, 'min_child_weight': 1, 'gamma': 0.05774477808200846}. Best is trial 3 with value: 0.6687264936161047.\n"
          ]
        },
        {
          "name": "stderr",
          "output_type": "stream",
          "text": [
            "c:\\Users\\domdd\\Documents\\GitHub\\Soy-Crush\\.venv\\Lib\\site-packages\\xgboost\\core.py:158: UserWarning: [11:01:29] WARNING: C:\\buildkite-agent\\builds\\buildkite-windows-cpu-autoscaling-group-i-08cbc0333d8d4aae1-1\\xgboost\\xgboost-ci-windows\\src\\learner.cc:740: \n",
            "Parameters: { \"colsample_bytree\", \"gamma\", \"max_depth\", \"min_child_weight\", \"subsample\" } are not used.\n",
            "\n",
            "  warnings.warn(smsg, UserWarning)\n",
            "c:\\Users\\domdd\\Documents\\GitHub\\Soy-Crush\\.venv\\Lib\\site-packages\\xgboost\\core.py:158: UserWarning: [11:01:29] WARNING: C:\\buildkite-agent\\builds\\buildkite-windows-cpu-autoscaling-group-i-08cbc0333d8d4aae1-1\\xgboost\\xgboost-ci-windows\\src\\learner.cc:740: \n",
            "Parameters: { \"colsample_bytree\", \"gamma\", \"max_depth\", \"min_child_weight\", \"subsample\" } are not used.\n",
            "\n",
            "  warnings.warn(smsg, UserWarning)\n",
            "c:\\Users\\domdd\\Documents\\GitHub\\Soy-Crush\\.venv\\Lib\\site-packages\\xgboost\\core.py:158: UserWarning: [11:01:30] WARNING: C:\\buildkite-agent\\builds\\buildkite-windows-cpu-autoscaling-group-i-08cbc0333d8d4aae1-1\\xgboost\\xgboost-ci-windows\\src\\learner.cc:740: \n",
            "Parameters: { \"colsample_bytree\", \"gamma\", \"max_depth\", \"min_child_weight\", \"subsample\" } are not used.\n",
            "\n",
            "  warnings.warn(smsg, UserWarning)\n",
            "c:\\Users\\domdd\\Documents\\GitHub\\Soy-Crush\\.venv\\Lib\\site-packages\\xgboost\\core.py:158: UserWarning: [11:01:30] WARNING: C:\\buildkite-agent\\builds\\buildkite-windows-cpu-autoscaling-group-i-08cbc0333d8d4aae1-1\\xgboost\\xgboost-ci-windows\\src\\learner.cc:740: \n",
            "Parameters: { \"colsample_bytree\", \"gamma\", \"max_depth\", \"min_child_weight\", \"subsample\" } are not used.\n",
            "\n",
            "  warnings.warn(smsg, UserWarning)\n",
            "c:\\Users\\domdd\\Documents\\GitHub\\Soy-Crush\\.venv\\Lib\\site-packages\\xgboost\\core.py:158: UserWarning: [11:01:30] WARNING: C:\\buildkite-agent\\builds\\buildkite-windows-cpu-autoscaling-group-i-08cbc0333d8d4aae1-1\\xgboost\\xgboost-ci-windows\\src\\learner.cc:740: \n",
            "Parameters: { \"colsample_bytree\", \"gamma\", \"max_depth\", \"min_child_weight\", \"subsample\" } are not used.\n",
            "\n",
            "  warnings.warn(smsg, UserWarning)\n",
            "Best trial: 3. Best value: 0.668726:   9%|▉         | 9/100 [00:29<03:52,  2.55s/it]"
          ]
        },
        {
          "name": "stdout",
          "output_type": "stream",
          "text": [
            "[I 2025-02-09 11:01:30,977] Trial 8 finished with value: 0.4964171479945125 and parameters: {'booster': 'gblinear', 'max_depth': 6, 'learning_rate': 0.028226870782991624, 'n_estimators': 1000, 'subsample': 0.6490314719749237, 'colsample_bytree': 0.9886022336970859, 'reg_alpha': 0.1002549454320918, 'reg_lambda': 2.4970507126677954e-08, 'min_child_weight': 9, 'gamma': 7.149033513388269e-05}. Best is trial 3 with value: 0.6687264936161047.\n"
          ]
        },
        {
          "name": "stderr",
          "output_type": "stream",
          "text": [
            "c:\\Users\\domdd\\Documents\\GitHub\\Soy-Crush\\.venv\\Lib\\site-packages\\xgboost\\core.py:158: UserWarning: [11:01:31] WARNING: C:\\buildkite-agent\\builds\\buildkite-windows-cpu-autoscaling-group-i-08cbc0333d8d4aae1-1\\xgboost\\xgboost-ci-windows\\src\\learner.cc:740: \n",
            "Parameters: { \"dropout_rate\" } are not used.\n",
            "\n",
            "  warnings.warn(smsg, UserWarning)\n",
            "c:\\Users\\domdd\\Documents\\GitHub\\Soy-Crush\\.venv\\Lib\\site-packages\\xgboost\\core.py:158: UserWarning: [11:05:17] WARNING: C:\\buildkite-agent\\builds\\buildkite-windows-cpu-autoscaling-group-i-08cbc0333d8d4aae1-1\\xgboost\\xgboost-ci-windows\\src\\learner.cc:740: \n",
            "Parameters: { \"dropout_rate\" } are not used.\n",
            "\n",
            "  warnings.warn(smsg, UserWarning)\n",
            "c:\\Users\\domdd\\Documents\\GitHub\\Soy-Crush\\.venv\\Lib\\site-packages\\xgboost\\core.py:158: UserWarning: [11:09:14] WARNING: C:\\buildkite-agent\\builds\\buildkite-windows-cpu-autoscaling-group-i-08cbc0333d8d4aae1-1\\xgboost\\xgboost-ci-windows\\src\\learner.cc:740: \n",
            "Parameters: { \"dropout_rate\" } are not used.\n",
            "\n",
            "  warnings.warn(smsg, UserWarning)\n",
            "c:\\Users\\domdd\\Documents\\GitHub\\Soy-Crush\\.venv\\Lib\\site-packages\\xgboost\\core.py:158: UserWarning: [11:13:00] WARNING: C:\\buildkite-agent\\builds\\buildkite-windows-cpu-autoscaling-group-i-08cbc0333d8d4aae1-1\\xgboost\\xgboost-ci-windows\\src\\learner.cc:740: \n",
            "Parameters: { \"dropout_rate\" } are not used.\n",
            "\n",
            "  warnings.warn(smsg, UserWarning)\n",
            "c:\\Users\\domdd\\Documents\\GitHub\\Soy-Crush\\.venv\\Lib\\site-packages\\xgboost\\core.py:158: UserWarning: [11:16:56] WARNING: C:\\buildkite-agent\\builds\\buildkite-windows-cpu-autoscaling-group-i-08cbc0333d8d4aae1-1\\xgboost\\xgboost-ci-windows\\src\\learner.cc:740: \n",
            "Parameters: { \"dropout_rate\" } are not used.\n",
            "\n",
            "  warnings.warn(smsg, UserWarning)\n",
            "Best trial: 3. Best value: 0.668726:  10%|█         | 10/100 [20:04<9:06:57, 364.64s/it]"
          ]
        },
        {
          "name": "stdout",
          "output_type": "stream",
          "text": [
            "[I 2025-02-09 11:21:06,397] Trial 9 finished with value: 0.6484307490450404 and parameters: {'booster': 'dart', 'max_depth': 7, 'learning_rate': 0.004054864070364265, 'n_estimators': 1400, 'subsample': 0.6394279643913244, 'colsample_bytree': 0.6390296041917076, 'reg_alpha': 0.0020762991107695686, 'reg_lambda': 0.05634204517841073, 'min_child_weight': 10, 'gamma': 6.54362313075505e-08, 'dropout_rate': 0.33184647435159176}. Best is trial 3 with value: 0.6687264936161047.\n"
          ]
        },
        {
          "name": "stderr",
          "output_type": "stream",
          "text": [
            "c:\\Users\\domdd\\Documents\\GitHub\\Soy-Crush\\.venv\\Lib\\site-packages\\xgboost\\core.py:158: UserWarning: [11:21:06] WARNING: C:\\buildkite-agent\\builds\\buildkite-windows-cpu-autoscaling-group-i-08cbc0333d8d4aae1-1\\xgboost\\xgboost-ci-windows\\src\\learner.cc:740: \n",
            "Parameters: { \"dropout_rate\" } are not used.\n",
            "\n",
            "  warnings.warn(smsg, UserWarning)\n",
            "c:\\Users\\domdd\\Documents\\GitHub\\Soy-Crush\\.venv\\Lib\\site-packages\\xgboost\\core.py:158: UserWarning: [11:21:10] WARNING: C:\\buildkite-agent\\builds\\buildkite-windows-cpu-autoscaling-group-i-08cbc0333d8d4aae1-1\\xgboost\\xgboost-ci-windows\\src\\learner.cc:740: \n",
            "Parameters: { \"dropout_rate\" } are not used.\n",
            "\n",
            "  warnings.warn(smsg, UserWarning)\n",
            "c:\\Users\\domdd\\Documents\\GitHub\\Soy-Crush\\.venv\\Lib\\site-packages\\xgboost\\core.py:158: UserWarning: [11:21:13] WARNING: C:\\buildkite-agent\\builds\\buildkite-windows-cpu-autoscaling-group-i-08cbc0333d8d4aae1-1\\xgboost\\xgboost-ci-windows\\src\\learner.cc:740: \n",
            "Parameters: { \"dropout_rate\" } are not used.\n",
            "\n",
            "  warnings.warn(smsg, UserWarning)\n",
            "c:\\Users\\domdd\\Documents\\GitHub\\Soy-Crush\\.venv\\Lib\\site-packages\\xgboost\\core.py:158: UserWarning: [11:21:16] WARNING: C:\\buildkite-agent\\builds\\buildkite-windows-cpu-autoscaling-group-i-08cbc0333d8d4aae1-1\\xgboost\\xgboost-ci-windows\\src\\learner.cc:740: \n",
            "Parameters: { \"dropout_rate\" } are not used.\n",
            "\n",
            "  warnings.warn(smsg, UserWarning)\n",
            "c:\\Users\\domdd\\Documents\\GitHub\\Soy-Crush\\.venv\\Lib\\site-packages\\xgboost\\core.py:158: UserWarning: [11:21:20] WARNING: C:\\buildkite-agent\\builds\\buildkite-windows-cpu-autoscaling-group-i-08cbc0333d8d4aae1-1\\xgboost\\xgboost-ci-windows\\src\\learner.cc:740: \n",
            "Parameters: { \"dropout_rate\" } are not used.\n",
            "\n",
            "  warnings.warn(smsg, UserWarning)\n",
            "Best trial: 3. Best value: 0.668726:  11%|█         | 11/100 [20:21<6:23:04, 258.25s/it]"
          ]
        },
        {
          "name": "stdout",
          "output_type": "stream",
          "text": [
            "[I 2025-02-09 11:21:23,423] Trial 10 finished with value: 0.6408065658910613 and parameters: {'booster': 'dart', 'max_depth': 10, 'learning_rate': 0.09314370473425718, 'n_estimators': 150, 'subsample': 0.8014669796364239, 'colsample_bytree': 0.8139608458941376, 'reg_alpha': 3.6147865380903587e-06, 'reg_lambda': 1.3205983734979259e-08, 'min_child_weight': 6, 'gamma': 0.0018085790911734026, 'dropout_rate': 0.9291368701866551}. Best is trial 3 with value: 0.6687264936161047.\n"
          ]
        },
        {
          "name": "stderr",
          "output_type": "stream",
          "text": [
            "Best trial: 3. Best value: 0.668726:  12%|█▏        | 12/100 [20:26<4:25:28, 181.00s/it]"
          ]
        },
        {
          "name": "stdout",
          "output_type": "stream",
          "text": [
            "[I 2025-02-09 11:21:27,741] Trial 11 finished with value: 0.6491367430757531 and parameters: {'booster': 'gbtree', 'max_depth': 9, 'learning_rate': 0.01491304503199828, 'n_estimators': 450, 'subsample': 0.7983825731342734, 'colsample_bytree': 0.7804553762699877, 'reg_alpha': 4.432823174595151e-06, 'reg_lambda': 0.004748879194530791, 'min_child_weight': 7, 'gamma': 1.20762348235478e-08}. Best is trial 3 with value: 0.6687264936161047.\n"
          ]
        },
        {
          "name": "stderr",
          "output_type": "stream",
          "text": [
            "c:\\Users\\domdd\\Documents\\GitHub\\Soy-Crush\\.venv\\Lib\\site-packages\\xgboost\\core.py:158: UserWarning: [11:21:28] WARNING: C:\\buildkite-agent\\builds\\buildkite-windows-cpu-autoscaling-group-i-08cbc0333d8d4aae1-1\\xgboost\\xgboost-ci-windows\\src\\learner.cc:740: \n",
            "Parameters: { \"colsample_bytree\", \"gamma\", \"max_depth\", \"min_child_weight\", \"subsample\" } are not used.\n",
            "\n",
            "  warnings.warn(smsg, UserWarning)\n",
            "c:\\Users\\domdd\\Documents\\GitHub\\Soy-Crush\\.venv\\Lib\\site-packages\\xgboost\\core.py:158: UserWarning: [11:21:28] WARNING: C:\\buildkite-agent\\builds\\buildkite-windows-cpu-autoscaling-group-i-08cbc0333d8d4aae1-1\\xgboost\\xgboost-ci-windows\\src\\learner.cc:740: \n",
            "Parameters: { \"colsample_bytree\", \"gamma\", \"max_depth\", \"min_child_weight\", \"subsample\" } are not used.\n",
            "\n",
            "  warnings.warn(smsg, UserWarning)\n",
            "c:\\Users\\domdd\\Documents\\GitHub\\Soy-Crush\\.venv\\Lib\\site-packages\\xgboost\\core.py:158: UserWarning: [11:21:28] WARNING: C:\\buildkite-agent\\builds\\buildkite-windows-cpu-autoscaling-group-i-08cbc0333d8d4aae1-1\\xgboost\\xgboost-ci-windows\\src\\learner.cc:740: \n",
            "Parameters: { \"colsample_bytree\", \"gamma\", \"max_depth\", \"min_child_weight\", \"subsample\" } are not used.\n",
            "\n",
            "  warnings.warn(smsg, UserWarning)\n",
            "c:\\Users\\domdd\\Documents\\GitHub\\Soy-Crush\\.venv\\Lib\\site-packages\\xgboost\\core.py:158: UserWarning: [11:21:29] WARNING: C:\\buildkite-agent\\builds\\buildkite-windows-cpu-autoscaling-group-i-08cbc0333d8d4aae1-1\\xgboost\\xgboost-ci-windows\\src\\learner.cc:740: \n",
            "Parameters: { \"colsample_bytree\", \"gamma\", \"max_depth\", \"min_child_weight\", \"subsample\" } are not used.\n",
            "\n",
            "  warnings.warn(smsg, UserWarning)\n",
            "c:\\Users\\domdd\\Documents\\GitHub\\Soy-Crush\\.venv\\Lib\\site-packages\\xgboost\\core.py:158: UserWarning: [11:21:29] WARNING: C:\\buildkite-agent\\builds\\buildkite-windows-cpu-autoscaling-group-i-08cbc0333d8d4aae1-1\\xgboost\\xgboost-ci-windows\\src\\learner.cc:740: \n",
            "Parameters: { \"colsample_bytree\", \"gamma\", \"max_depth\", \"min_child_weight\", \"subsample\" } are not used.\n",
            "\n",
            "  warnings.warn(smsg, UserWarning)\n",
            "Best trial: 12. Best value: 0.688728:  13%|█▎        | 13/100 [20:28<3:03:54, 126.84s/it]"
          ]
        },
        {
          "name": "stdout",
          "output_type": "stream",
          "text": [
            "[I 2025-02-09 11:21:29,941] Trial 12 finished with value: 0.6887275573009771 and parameters: {'booster': 'gblinear', 'max_depth': 8, 'learning_rate': 0.014099383367433492, 'n_estimators': 1050, 'subsample': 0.8501508639512606, 'colsample_bytree': 0.7386757112823339, 'reg_alpha': 5.0914854884215126e-06, 'reg_lambda': 5.354037992859077e-06, 'min_child_weight': 5, 'gamma': 0.00029048342876242467}. Best is trial 12 with value: 0.6887275573009771.\n"
          ]
        },
        {
          "name": "stderr",
          "output_type": "stream",
          "text": [
            "c:\\Users\\domdd\\Documents\\GitHub\\Soy-Crush\\.venv\\Lib\\site-packages\\xgboost\\core.py:158: UserWarning: [11:21:30] WARNING: C:\\buildkite-agent\\builds\\buildkite-windows-cpu-autoscaling-group-i-08cbc0333d8d4aae1-1\\xgboost\\xgboost-ci-windows\\src\\learner.cc:740: \n",
            "Parameters: { \"colsample_bytree\", \"gamma\", \"max_depth\", \"min_child_weight\", \"subsample\" } are not used.\n",
            "\n",
            "  warnings.warn(smsg, UserWarning)\n",
            "c:\\Users\\domdd\\Documents\\GitHub\\Soy-Crush\\.venv\\Lib\\site-packages\\xgboost\\core.py:158: UserWarning: [11:21:30] WARNING: C:\\buildkite-agent\\builds\\buildkite-windows-cpu-autoscaling-group-i-08cbc0333d8d4aae1-1\\xgboost\\xgboost-ci-windows\\src\\learner.cc:740: \n",
            "Parameters: { \"colsample_bytree\", \"gamma\", \"max_depth\", \"min_child_weight\", \"subsample\" } are not used.\n",
            "\n",
            "  warnings.warn(smsg, UserWarning)\n",
            "c:\\Users\\domdd\\Documents\\GitHub\\Soy-Crush\\.venv\\Lib\\site-packages\\xgboost\\core.py:158: UserWarning: [11:21:31] WARNING: C:\\buildkite-agent\\builds\\buildkite-windows-cpu-autoscaling-group-i-08cbc0333d8d4aae1-1\\xgboost\\xgboost-ci-windows\\src\\learner.cc:740: \n",
            "Parameters: { \"colsample_bytree\", \"gamma\", \"max_depth\", \"min_child_weight\", \"subsample\" } are not used.\n",
            "\n",
            "  warnings.warn(smsg, UserWarning)\n",
            "c:\\Users\\domdd\\Documents\\GitHub\\Soy-Crush\\.venv\\Lib\\site-packages\\xgboost\\core.py:158: UserWarning: [11:21:31] WARNING: C:\\buildkite-agent\\builds\\buildkite-windows-cpu-autoscaling-group-i-08cbc0333d8d4aae1-1\\xgboost\\xgboost-ci-windows\\src\\learner.cc:740: \n",
            "Parameters: { \"colsample_bytree\", \"gamma\", \"max_depth\", \"min_child_weight\", \"subsample\" } are not used.\n",
            "\n",
            "  warnings.warn(smsg, UserWarning)\n",
            "c:\\Users\\domdd\\Documents\\GitHub\\Soy-Crush\\.venv\\Lib\\site-packages\\xgboost\\core.py:158: UserWarning: [11:21:31] WARNING: C:\\buildkite-agent\\builds\\buildkite-windows-cpu-autoscaling-group-i-08cbc0333d8d4aae1-1\\xgboost\\xgboost-ci-windows\\src\\learner.cc:740: \n",
            "Parameters: { \"colsample_bytree\", \"gamma\", \"max_depth\", \"min_child_weight\", \"subsample\" } are not used.\n",
            "\n",
            "  warnings.warn(smsg, UserWarning)\n",
            "Best trial: 13. Best value: 0.706443:  14%|█▍        | 14/100 [20:30<2:07:48, 89.17s/it] "
          ]
        },
        {
          "name": "stdout",
          "output_type": "stream",
          "text": [
            "[I 2025-02-09 11:21:32,072] Trial 13 finished with value: 0.706442854303811 and parameters: {'booster': 'gblinear', 'max_depth': 8, 'learning_rate': 0.058194921613366805, 'n_estimators': 1000, 'subsample': 0.8743703809135803, 'colsample_bytree': 0.8483395220478184, 'reg_alpha': 4.548989202579354e-06, 'reg_lambda': 5.0626421692849415e-06, 'min_child_weight': 5, 'gamma': 0.0008070650820008006}. Best is trial 13 with value: 0.706442854303811.\n"
          ]
        },
        {
          "name": "stderr",
          "output_type": "stream",
          "text": [
            "c:\\Users\\domdd\\Documents\\GitHub\\Soy-Crush\\.venv\\Lib\\site-packages\\xgboost\\core.py:158: UserWarning: [11:21:32] WARNING: C:\\buildkite-agent\\builds\\buildkite-windows-cpu-autoscaling-group-i-08cbc0333d8d4aae1-1\\xgboost\\xgboost-ci-windows\\src\\learner.cc:740: \n",
            "Parameters: { \"colsample_bytree\", \"gamma\", \"max_depth\", \"min_child_weight\", \"subsample\" } are not used.\n",
            "\n",
            "  warnings.warn(smsg, UserWarning)\n",
            "c:\\Users\\domdd\\Documents\\GitHub\\Soy-Crush\\.venv\\Lib\\site-packages\\xgboost\\core.py:158: UserWarning: [11:21:32] WARNING: C:\\buildkite-agent\\builds\\buildkite-windows-cpu-autoscaling-group-i-08cbc0333d8d4aae1-1\\xgboost\\xgboost-ci-windows\\src\\learner.cc:740: \n",
            "Parameters: { \"colsample_bytree\", \"gamma\", \"max_depth\", \"min_child_weight\", \"subsample\" } are not used.\n",
            "\n",
            "  warnings.warn(smsg, UserWarning)\n",
            "c:\\Users\\domdd\\Documents\\GitHub\\Soy-Crush\\.venv\\Lib\\site-packages\\xgboost\\core.py:158: UserWarning: [11:21:33] WARNING: C:\\buildkite-agent\\builds\\buildkite-windows-cpu-autoscaling-group-i-08cbc0333d8d4aae1-1\\xgboost\\xgboost-ci-windows\\src\\learner.cc:740: \n",
            "Parameters: { \"colsample_bytree\", \"gamma\", \"max_depth\", \"min_child_weight\", \"subsample\" } are not used.\n",
            "\n",
            "  warnings.warn(smsg, UserWarning)\n",
            "c:\\Users\\domdd\\Documents\\GitHub\\Soy-Crush\\.venv\\Lib\\site-packages\\xgboost\\core.py:158: UserWarning: [11:21:33] WARNING: C:\\buildkite-agent\\builds\\buildkite-windows-cpu-autoscaling-group-i-08cbc0333d8d4aae1-1\\xgboost\\xgboost-ci-windows\\src\\learner.cc:740: \n",
            "Parameters: { \"colsample_bytree\", \"gamma\", \"max_depth\", \"min_child_weight\", \"subsample\" } are not used.\n",
            "\n",
            "  warnings.warn(smsg, UserWarning)\n",
            "c:\\Users\\domdd\\Documents\\GitHub\\Soy-Crush\\.venv\\Lib\\site-packages\\xgboost\\core.py:158: UserWarning: [11:21:34] WARNING: C:\\buildkite-agent\\builds\\buildkite-windows-cpu-autoscaling-group-i-08cbc0333d8d4aae1-1\\xgboost\\xgboost-ci-windows\\src\\learner.cc:740: \n",
            "Parameters: { \"colsample_bytree\", \"gamma\", \"max_depth\", \"min_child_weight\", \"subsample\" } are not used.\n",
            "\n",
            "  warnings.warn(smsg, UserWarning)\n",
            "Best trial: 14. Best value: 0.707553:  15%|█▌        | 15/100 [20:32<1:29:10, 62.95s/it]"
          ]
        },
        {
          "name": "stdout",
          "output_type": "stream",
          "text": [
            "[I 2025-02-09 11:21:34,251] Trial 14 finished with value: 0.707553263279096 and parameters: {'booster': 'gblinear', 'max_depth': 9, 'learning_rate': 0.08069625338151805, 'n_estimators': 1000, 'subsample': 0.7182076381862477, 'colsample_bytree': 0.8913125867479472, 'reg_alpha': 2.723318014362203e-06, 'reg_lambda': 6.1070331675863355e-06, 'min_child_weight': 4, 'gamma': 0.0002792744212439365}. Best is trial 14 with value: 0.707553263279096.\n"
          ]
        },
        {
          "name": "stderr",
          "output_type": "stream",
          "text": [
            "c:\\Users\\domdd\\Documents\\GitHub\\Soy-Crush\\.venv\\Lib\\site-packages\\xgboost\\core.py:158: UserWarning: [11:21:34] WARNING: C:\\buildkite-agent\\builds\\buildkite-windows-cpu-autoscaling-group-i-08cbc0333d8d4aae1-1\\xgboost\\xgboost-ci-windows\\src\\learner.cc:740: \n",
            "Parameters: { \"colsample_bytree\", \"gamma\", \"max_depth\", \"min_child_weight\", \"subsample\" } are not used.\n",
            "\n",
            "  warnings.warn(smsg, UserWarning)\n",
            "c:\\Users\\domdd\\Documents\\GitHub\\Soy-Crush\\.venv\\Lib\\site-packages\\xgboost\\core.py:158: UserWarning: [11:21:34] WARNING: C:\\buildkite-agent\\builds\\buildkite-windows-cpu-autoscaling-group-i-08cbc0333d8d4aae1-1\\xgboost\\xgboost-ci-windows\\src\\learner.cc:740: \n",
            "Parameters: { \"colsample_bytree\", \"gamma\", \"max_depth\", \"min_child_weight\", \"subsample\" } are not used.\n",
            "\n",
            "  warnings.warn(smsg, UserWarning)\n",
            "c:\\Users\\domdd\\Documents\\GitHub\\Soy-Crush\\.venv\\Lib\\site-packages\\xgboost\\core.py:158: UserWarning: [11:21:35] WARNING: C:\\buildkite-agent\\builds\\buildkite-windows-cpu-autoscaling-group-i-08cbc0333d8d4aae1-1\\xgboost\\xgboost-ci-windows\\src\\learner.cc:740: \n",
            "Parameters: { \"colsample_bytree\", \"gamma\", \"max_depth\", \"min_child_weight\", \"subsample\" } are not used.\n",
            "\n",
            "  warnings.warn(smsg, UserWarning)\n",
            "c:\\Users\\domdd\\Documents\\GitHub\\Soy-Crush\\.venv\\Lib\\site-packages\\xgboost\\core.py:158: UserWarning: [11:21:35] WARNING: C:\\buildkite-agent\\builds\\buildkite-windows-cpu-autoscaling-group-i-08cbc0333d8d4aae1-1\\xgboost\\xgboost-ci-windows\\src\\learner.cc:740: \n",
            "Parameters: { \"colsample_bytree\", \"gamma\", \"max_depth\", \"min_child_weight\", \"subsample\" } are not used.\n",
            "\n",
            "  warnings.warn(smsg, UserWarning)\n",
            "c:\\Users\\domdd\\Documents\\GitHub\\Soy-Crush\\.venv\\Lib\\site-packages\\xgboost\\core.py:158: UserWarning: [11:21:36] WARNING: C:\\buildkite-agent\\builds\\buildkite-windows-cpu-autoscaling-group-i-08cbc0333d8d4aae1-1\\xgboost\\xgboost-ci-windows\\src\\learner.cc:740: \n",
            "Parameters: { \"colsample_bytree\", \"gamma\", \"max_depth\", \"min_child_weight\", \"subsample\" } are not used.\n",
            "\n",
            "  warnings.warn(smsg, UserWarning)\n",
            "Best trial: 15. Best value: 0.707703:  16%|█▌        | 16/100 [20:34<1:02:31, 44.66s/it]"
          ]
        },
        {
          "name": "stdout",
          "output_type": "stream",
          "text": [
            "[I 2025-02-09 11:21:36,444] Trial 15 finished with value: 0.7077028337816863 and parameters: {'booster': 'gblinear', 'max_depth': 10, 'learning_rate': 0.08853092335949142, 'n_estimators': 1000, 'subsample': 0.7199944766743858, 'colsample_bytree': 0.8841598155841942, 'reg_alpha': 8.359593799568777e-07, 'reg_lambda': 1.251688572500702e-05, 'min_child_weight': 4, 'gamma': 1.0973438046257638e-05}. Best is trial 15 with value: 0.7077028337816863.\n"
          ]
        },
        {
          "name": "stderr",
          "output_type": "stream",
          "text": [
            "c:\\Users\\domdd\\Documents\\GitHub\\Soy-Crush\\.venv\\Lib\\site-packages\\xgboost\\core.py:158: UserWarning: [11:21:36] WARNING: C:\\buildkite-agent\\builds\\buildkite-windows-cpu-autoscaling-group-i-08cbc0333d8d4aae1-1\\xgboost\\xgboost-ci-windows\\src\\learner.cc:740: \n",
            "Parameters: { \"dropout_rate\" } are not used.\n",
            "\n",
            "  warnings.warn(smsg, UserWarning)\n",
            "c:\\Users\\domdd\\Documents\\GitHub\\Soy-Crush\\.venv\\Lib\\site-packages\\xgboost\\core.py:158: UserWarning: [11:22:44] WARNING: C:\\buildkite-agent\\builds\\buildkite-windows-cpu-autoscaling-group-i-08cbc0333d8d4aae1-1\\xgboost\\xgboost-ci-windows\\src\\learner.cc:740: \n",
            "Parameters: { \"dropout_rate\" } are not used.\n",
            "\n",
            "  warnings.warn(smsg, UserWarning)\n",
            "c:\\Users\\domdd\\Documents\\GitHub\\Soy-Crush\\.venv\\Lib\\site-packages\\xgboost\\core.py:158: UserWarning: [11:23:58] WARNING: C:\\buildkite-agent\\builds\\buildkite-windows-cpu-autoscaling-group-i-08cbc0333d8d4aae1-1\\xgboost\\xgboost-ci-windows\\src\\learner.cc:740: \n",
            "Parameters: { \"dropout_rate\" } are not used.\n",
            "\n",
            "  warnings.warn(smsg, UserWarning)\n",
            "c:\\Users\\domdd\\Documents\\GitHub\\Soy-Crush\\.venv\\Lib\\site-packages\\xgboost\\core.py:158: UserWarning: [11:25:09] WARNING: C:\\buildkite-agent\\builds\\buildkite-windows-cpu-autoscaling-group-i-08cbc0333d8d4aae1-1\\xgboost\\xgboost-ci-windows\\src\\learner.cc:740: \n",
            "Parameters: { \"dropout_rate\" } are not used.\n",
            "\n",
            "  warnings.warn(smsg, UserWarning)\n",
            "c:\\Users\\domdd\\Documents\\GitHub\\Soy-Crush\\.venv\\Lib\\site-packages\\xgboost\\core.py:158: UserWarning: [11:26:24] WARNING: C:\\buildkite-agent\\builds\\buildkite-windows-cpu-autoscaling-group-i-08cbc0333d8d4aae1-1\\xgboost\\xgboost-ci-windows\\src\\learner.cc:740: \n",
            "Parameters: { \"dropout_rate\" } are not used.\n",
            "\n",
            "  warnings.warn(smsg, UserWarning)\n",
            "Best trial: 15. Best value: 0.707703:  17%|█▋        | 17/100 [26:35<3:13:08, 139.62s/it]"
          ]
        },
        {
          "name": "stdout",
          "output_type": "stream",
          "text": [
            "[I 2025-02-09 11:27:36,913] Trial 16 finished with value: 0.6482482722553022 and parameters: {'booster': 'dart', 'max_depth': 10, 'learning_rate': 0.048602923648511355, 'n_estimators': 750, 'subsample': 0.713491637929839, 'colsample_bytree': 0.9165807074197097, 'reg_alpha': 3.875206531069729e-07, 'reg_lambda': 0.00010334551455239365, 'min_child_weight': 3, 'gamma': 1.0826778248133554e-05, 'dropout_rate': 0.16691403631159651}. Best is trial 15 with value: 0.7077028337816863.\n"
          ]
        },
        {
          "name": "stderr",
          "output_type": "stream",
          "text": [
            "c:\\Users\\domdd\\Documents\\GitHub\\Soy-Crush\\.venv\\Lib\\site-packages\\xgboost\\core.py:158: UserWarning: [11:27:37] WARNING: C:\\buildkite-agent\\builds\\buildkite-windows-cpu-autoscaling-group-i-08cbc0333d8d4aae1-1\\xgboost\\xgboost-ci-windows\\src\\learner.cc:740: \n",
            "Parameters: { \"colsample_bytree\", \"gamma\", \"max_depth\", \"min_child_weight\", \"subsample\" } are not used.\n",
            "\n",
            "  warnings.warn(smsg, UserWarning)\n",
            "c:\\Users\\domdd\\Documents\\GitHub\\Soy-Crush\\.venv\\Lib\\site-packages\\xgboost\\core.py:158: UserWarning: [11:27:37] WARNING: C:\\buildkite-agent\\builds\\buildkite-windows-cpu-autoscaling-group-i-08cbc0333d8d4aae1-1\\xgboost\\xgboost-ci-windows\\src\\learner.cc:740: \n",
            "Parameters: { \"colsample_bytree\", \"gamma\", \"max_depth\", \"min_child_weight\", \"subsample\" } are not used.\n",
            "\n",
            "  warnings.warn(smsg, UserWarning)\n",
            "c:\\Users\\domdd\\Documents\\GitHub\\Soy-Crush\\.venv\\Lib\\site-packages\\xgboost\\core.py:158: UserWarning: [11:27:38] WARNING: C:\\buildkite-agent\\builds\\buildkite-windows-cpu-autoscaling-group-i-08cbc0333d8d4aae1-1\\xgboost\\xgboost-ci-windows\\src\\learner.cc:740: \n",
            "Parameters: { \"colsample_bytree\", \"gamma\", \"max_depth\", \"min_child_weight\", \"subsample\" } are not used.\n",
            "\n",
            "  warnings.warn(smsg, UserWarning)\n",
            "c:\\Users\\domdd\\Documents\\GitHub\\Soy-Crush\\.venv\\Lib\\site-packages\\xgboost\\core.py:158: UserWarning: [11:27:38] WARNING: C:\\buildkite-agent\\builds\\buildkite-windows-cpu-autoscaling-group-i-08cbc0333d8d4aae1-1\\xgboost\\xgboost-ci-windows\\src\\learner.cc:740: \n",
            "Parameters: { \"colsample_bytree\", \"gamma\", \"max_depth\", \"min_child_weight\", \"subsample\" } are not used.\n",
            "\n",
            "  warnings.warn(smsg, UserWarning)\n",
            "c:\\Users\\domdd\\Documents\\GitHub\\Soy-Crush\\.venv\\Lib\\site-packages\\xgboost\\core.py:158: UserWarning: [11:27:39] WARNING: C:\\buildkite-agent\\builds\\buildkite-windows-cpu-autoscaling-group-i-08cbc0333d8d4aae1-1\\xgboost\\xgboost-ci-windows\\src\\learner.cc:740: \n",
            "Parameters: { \"colsample_bytree\", \"gamma\", \"max_depth\", \"min_child_weight\", \"subsample\" } are not used.\n",
            "\n",
            "  warnings.warn(smsg, UserWarning)\n",
            "Best trial: 15. Best value: 0.707703:  18%|█▊        | 18/100 [26:37<2:14:25, 98.35s/it] "
          ]
        },
        {
          "name": "stdout",
          "output_type": "stream",
          "text": [
            "[I 2025-02-09 11:27:39,194] Trial 17 finished with value: 0.6712033341520358 and parameters: {'booster': 'gblinear', 'max_depth': 9, 'learning_rate': 0.007362336091922029, 'n_estimators': 1100, 'subsample': 0.7389710284620299, 'colsample_bytree': 0.9026456952485952, 'reg_alpha': 6.5083157333227e-07, 'reg_lambda': 3.545424728228951e-05, 'min_child_weight': 4, 'gamma': 9.036827155318758e-06}. Best is trial 15 with value: 0.7077028337816863.\n"
          ]
        },
        {
          "name": "stderr",
          "output_type": "stream",
          "text": [
            "c:\\Users\\domdd\\Documents\\GitHub\\Soy-Crush\\.venv\\Lib\\site-packages\\xgboost\\core.py:158: UserWarning: [11:27:39] WARNING: C:\\buildkite-agent\\builds\\buildkite-windows-cpu-autoscaling-group-i-08cbc0333d8d4aae1-1\\xgboost\\xgboost-ci-windows\\src\\learner.cc:740: \n",
            "Parameters: { \"colsample_bytree\", \"gamma\", \"max_depth\", \"min_child_weight\", \"subsample\" } are not used.\n",
            "\n",
            "  warnings.warn(smsg, UserWarning)\n",
            "c:\\Users\\domdd\\Documents\\GitHub\\Soy-Crush\\.venv\\Lib\\site-packages\\xgboost\\core.py:158: UserWarning: [11:27:39] WARNING: C:\\buildkite-agent\\builds\\buildkite-windows-cpu-autoscaling-group-i-08cbc0333d8d4aae1-1\\xgboost\\xgboost-ci-windows\\src\\learner.cc:740: \n",
            "Parameters: { \"colsample_bytree\", \"gamma\", \"max_depth\", \"min_child_weight\", \"subsample\" } are not used.\n",
            "\n",
            "  warnings.warn(smsg, UserWarning)\n",
            "c:\\Users\\domdd\\Documents\\GitHub\\Soy-Crush\\.venv\\Lib\\site-packages\\xgboost\\core.py:158: UserWarning: [11:27:40] WARNING: C:\\buildkite-agent\\builds\\buildkite-windows-cpu-autoscaling-group-i-08cbc0333d8d4aae1-1\\xgboost\\xgboost-ci-windows\\src\\learner.cc:740: \n",
            "Parameters: { \"colsample_bytree\", \"gamma\", \"max_depth\", \"min_child_weight\", \"subsample\" } are not used.\n",
            "\n",
            "  warnings.warn(smsg, UserWarning)\n",
            "c:\\Users\\domdd\\Documents\\GitHub\\Soy-Crush\\.venv\\Lib\\site-packages\\xgboost\\core.py:158: UserWarning: [11:27:40] WARNING: C:\\buildkite-agent\\builds\\buildkite-windows-cpu-autoscaling-group-i-08cbc0333d8d4aae1-1\\xgboost\\xgboost-ci-windows\\src\\learner.cc:740: \n",
            "Parameters: { \"colsample_bytree\", \"gamma\", \"max_depth\", \"min_child_weight\", \"subsample\" } are not used.\n",
            "\n",
            "  warnings.warn(smsg, UserWarning)\n",
            "c:\\Users\\domdd\\Documents\\GitHub\\Soy-Crush\\.venv\\Lib\\site-packages\\xgboost\\core.py:158: UserWarning: [11:27:40] WARNING: C:\\buildkite-agent\\builds\\buildkite-windows-cpu-autoscaling-group-i-08cbc0333d8d4aae1-1\\xgboost\\xgboost-ci-windows\\src\\learner.cc:740: \n",
            "Parameters: { \"colsample_bytree\", \"gamma\", \"max_depth\", \"min_child_weight\", \"subsample\" } are not used.\n",
            "\n",
            "  warnings.warn(smsg, UserWarning)\n",
            "Best trial: 18. Best value: 0.709715:  19%|█▉        | 19/100 [26:39<1:33:38, 69.37s/it]"
          ]
        },
        {
          "name": "stdout",
          "output_type": "stream",
          "text": [
            "[I 2025-02-09 11:27:41,039] Trial 18 finished with value: 0.7097151214215088 and parameters: {'booster': 'gblinear', 'max_depth': 10, 'learning_rate': 0.08281360905210593, 'n_estimators': 600, 'subsample': 0.7083327509743729, 'colsample_bytree': 0.9948149105506114, 'reg_alpha': 0.008446506728270811, 'reg_lambda': 3.189823436058843e-07, 'min_child_weight': 1, 'gamma': 0.6544764450419687}. Best is trial 18 with value: 0.7097151214215088.\n"
          ]
        },
        {
          "name": "stderr",
          "output_type": "stream",
          "text": [
            "c:\\Users\\domdd\\Documents\\GitHub\\Soy-Crush\\.venv\\Lib\\site-packages\\xgboost\\core.py:158: UserWarning: [11:27:41] WARNING: C:\\buildkite-agent\\builds\\buildkite-windows-cpu-autoscaling-group-i-08cbc0333d8d4aae1-1\\xgboost\\xgboost-ci-windows\\src\\learner.cc:740: \n",
            "Parameters: { \"colsample_bytree\", \"gamma\", \"max_depth\", \"min_child_weight\", \"subsample\" } are not used.\n",
            "\n",
            "  warnings.warn(smsg, UserWarning)\n",
            "c:\\Users\\domdd\\Documents\\GitHub\\Soy-Crush\\.venv\\Lib\\site-packages\\xgboost\\core.py:158: UserWarning: [11:27:41] WARNING: C:\\buildkite-agent\\builds\\buildkite-windows-cpu-autoscaling-group-i-08cbc0333d8d4aae1-1\\xgboost\\xgboost-ci-windows\\src\\learner.cc:740: \n",
            "Parameters: { \"colsample_bytree\", \"gamma\", \"max_depth\", \"min_child_weight\", \"subsample\" } are not used.\n",
            "\n",
            "  warnings.warn(smsg, UserWarning)\n",
            "c:\\Users\\domdd\\Documents\\GitHub\\Soy-Crush\\.venv\\Lib\\site-packages\\xgboost\\core.py:158: UserWarning: [11:27:42] WARNING: C:\\buildkite-agent\\builds\\buildkite-windows-cpu-autoscaling-group-i-08cbc0333d8d4aae1-1\\xgboost\\xgboost-ci-windows\\src\\learner.cc:740: \n",
            "Parameters: { \"colsample_bytree\", \"gamma\", \"max_depth\", \"min_child_weight\", \"subsample\" } are not used.\n",
            "\n",
            "  warnings.warn(smsg, UserWarning)\n",
            "c:\\Users\\domdd\\Documents\\GitHub\\Soy-Crush\\.venv\\Lib\\site-packages\\xgboost\\core.py:158: UserWarning: [11:27:42] WARNING: C:\\buildkite-agent\\builds\\buildkite-windows-cpu-autoscaling-group-i-08cbc0333d8d4aae1-1\\xgboost\\xgboost-ci-windows\\src\\learner.cc:740: \n",
            "Parameters: { \"colsample_bytree\", \"gamma\", \"max_depth\", \"min_child_weight\", \"subsample\" } are not used.\n",
            "\n",
            "  warnings.warn(smsg, UserWarning)\n",
            "c:\\Users\\domdd\\Documents\\GitHub\\Soy-Crush\\.venv\\Lib\\site-packages\\xgboost\\core.py:158: UserWarning: [11:27:42] WARNING: C:\\buildkite-agent\\builds\\buildkite-windows-cpu-autoscaling-group-i-08cbc0333d8d4aae1-1\\xgboost\\xgboost-ci-windows\\src\\learner.cc:740: \n",
            "Parameters: { \"colsample_bytree\", \"gamma\", \"max_depth\", \"min_child_weight\", \"subsample\" } are not used.\n",
            "\n",
            "  warnings.warn(smsg, UserWarning)\n",
            "Best trial: 18. Best value: 0.709715:  20%|██        | 20/100 [26:41<1:05:27, 49.10s/it]"
          ]
        },
        {
          "name": "stdout",
          "output_type": "stream",
          "text": [
            "[I 2025-02-09 11:27:42,892] Trial 19 finished with value: 0.7073129613922609 and parameters: {'booster': 'gblinear', 'max_depth': 10, 'learning_rate': 0.042091928215103165, 'n_estimators': 600, 'subsample': 0.681691723720623, 'colsample_bytree': 0.9989293931039327, 'reg_alpha': 0.013021265905604833, 'reg_lambda': 1.9951685318057254e-07, 'min_child_weight': 1, 'gamma': 0.4576594719361621}. Best is trial 18 with value: 0.7097151214215088.\n"
          ]
        },
        {
          "name": "stderr",
          "output_type": "stream",
          "text": [
            "c:\\Users\\domdd\\Documents\\GitHub\\Soy-Crush\\.venv\\Lib\\site-packages\\xgboost\\core.py:158: UserWarning: [11:27:43] WARNING: C:\\buildkite-agent\\builds\\buildkite-windows-cpu-autoscaling-group-i-08cbc0333d8d4aae1-1\\xgboost\\xgboost-ci-windows\\src\\learner.cc:740: \n",
            "Parameters: { \"dropout_rate\" } are not used.\n",
            "\n",
            "  warnings.warn(smsg, UserWarning)\n",
            "c:\\Users\\domdd\\Documents\\GitHub\\Soy-Crush\\.venv\\Lib\\site-packages\\xgboost\\core.py:158: UserWarning: [11:29:10] WARNING: C:\\buildkite-agent\\builds\\buildkite-windows-cpu-autoscaling-group-i-08cbc0333d8d4aae1-1\\xgboost\\xgboost-ci-windows\\src\\learner.cc:740: \n",
            "Parameters: { \"dropout_rate\" } are not used.\n",
            "\n",
            "  warnings.warn(smsg, UserWarning)\n",
            "c:\\Users\\domdd\\Documents\\GitHub\\Soy-Crush\\.venv\\Lib\\site-packages\\xgboost\\core.py:158: UserWarning: [11:30:44] WARNING: C:\\buildkite-agent\\builds\\buildkite-windows-cpu-autoscaling-group-i-08cbc0333d8d4aae1-1\\xgboost\\xgboost-ci-windows\\src\\learner.cc:740: \n",
            "Parameters: { \"dropout_rate\" } are not used.\n",
            "\n",
            "  warnings.warn(smsg, UserWarning)\n",
            "c:\\Users\\domdd\\Documents\\GitHub\\Soy-Crush\\.venv\\Lib\\site-packages\\xgboost\\core.py:158: UserWarning: [11:32:18] WARNING: C:\\buildkite-agent\\builds\\buildkite-windows-cpu-autoscaling-group-i-08cbc0333d8d4aae1-1\\xgboost\\xgboost-ci-windows\\src\\learner.cc:740: \n",
            "Parameters: { \"dropout_rate\" } are not used.\n",
            "\n",
            "  warnings.warn(smsg, UserWarning)\n",
            "c:\\Users\\domdd\\Documents\\GitHub\\Soy-Crush\\.venv\\Lib\\site-packages\\xgboost\\core.py:158: UserWarning: [11:34:00] WARNING: C:\\buildkite-agent\\builds\\buildkite-windows-cpu-autoscaling-group-i-08cbc0333d8d4aae1-1\\xgboost\\xgboost-ci-windows\\src\\learner.cc:740: \n",
            "Parameters: { \"dropout_rate\" } are not used.\n",
            "\n",
            "  warnings.warn(smsg, UserWarning)\n",
            "Best trial: 18. Best value: 0.709715:  21%|██        | 21/100 [34:32<3:51:42, 175.98s/it]"
          ]
        },
        {
          "name": "stdout",
          "output_type": "stream",
          "text": [
            "[I 2025-02-09 11:35:34,683] Trial 20 finished with value: 0.6444969341045199 and parameters: {'booster': 'dart', 'max_depth': 9, 'learning_rate': 0.006839040711712704, 'n_estimators': 850, 'subsample': 0.570439512637058, 'colsample_bytree': 0.9590422745806285, 'reg_alpha': 0.01094942484923438, 'reg_lambda': 3.5785429973884897e-07, 'min_child_weight': 2, 'gamma': 0.6817039674279989, 'dropout_rate': 0.8216024669579699}. Best is trial 18 with value: 0.7097151214215088.\n"
          ]
        },
        {
          "name": "stderr",
          "output_type": "stream",
          "text": [
            "c:\\Users\\domdd\\Documents\\GitHub\\Soy-Crush\\.venv\\Lib\\site-packages\\xgboost\\core.py:158: UserWarning: [11:35:35] WARNING: C:\\buildkite-agent\\builds\\buildkite-windows-cpu-autoscaling-group-i-08cbc0333d8d4aae1-1\\xgboost\\xgboost-ci-windows\\src\\learner.cc:740: \n",
            "Parameters: { \"colsample_bytree\", \"gamma\", \"max_depth\", \"min_child_weight\", \"subsample\" } are not used.\n",
            "\n",
            "  warnings.warn(smsg, UserWarning)\n",
            "c:\\Users\\domdd\\Documents\\GitHub\\Soy-Crush\\.venv\\Lib\\site-packages\\xgboost\\core.py:158: UserWarning: [11:35:35] WARNING: C:\\buildkite-agent\\builds\\buildkite-windows-cpu-autoscaling-group-i-08cbc0333d8d4aae1-1\\xgboost\\xgboost-ci-windows\\src\\learner.cc:740: \n",
            "Parameters: { \"colsample_bytree\", \"gamma\", \"max_depth\", \"min_child_weight\", \"subsample\" } are not used.\n",
            "\n",
            "  warnings.warn(smsg, UserWarning)\n",
            "c:\\Users\\domdd\\Documents\\GitHub\\Soy-Crush\\.venv\\Lib\\site-packages\\xgboost\\core.py:158: UserWarning: [11:35:35] WARNING: C:\\buildkite-agent\\builds\\buildkite-windows-cpu-autoscaling-group-i-08cbc0333d8d4aae1-1\\xgboost\\xgboost-ci-windows\\src\\learner.cc:740: \n",
            "Parameters: { \"colsample_bytree\", \"gamma\", \"max_depth\", \"min_child_weight\", \"subsample\" } are not used.\n",
            "\n",
            "  warnings.warn(smsg, UserWarning)\n",
            "c:\\Users\\domdd\\Documents\\GitHub\\Soy-Crush\\.venv\\Lib\\site-packages\\xgboost\\core.py:158: UserWarning: [11:35:36] WARNING: C:\\buildkite-agent\\builds\\buildkite-windows-cpu-autoscaling-group-i-08cbc0333d8d4aae1-1\\xgboost\\xgboost-ci-windows\\src\\learner.cc:740: \n",
            "Parameters: { \"colsample_bytree\", \"gamma\", \"max_depth\", \"min_child_weight\", \"subsample\" } are not used.\n",
            "\n",
            "  warnings.warn(smsg, UserWarning)\n",
            "c:\\Users\\domdd\\Documents\\GitHub\\Soy-Crush\\.venv\\Lib\\site-packages\\xgboost\\core.py:158: UserWarning: [11:35:36] WARNING: C:\\buildkite-agent\\builds\\buildkite-windows-cpu-autoscaling-group-i-08cbc0333d8d4aae1-1\\xgboost\\xgboost-ci-windows\\src\\learner.cc:740: \n",
            "Parameters: { \"colsample_bytree\", \"gamma\", \"max_depth\", \"min_child_weight\", \"subsample\" } are not used.\n",
            "\n",
            "  warnings.warn(smsg, UserWarning)\n",
            "Best trial: 18. Best value: 0.709715:  22%|██▏       | 22/100 [34:35<2:40:57, 123.81s/it]"
          ]
        },
        {
          "name": "stdout",
          "output_type": "stream",
          "text": [
            "[I 2025-02-09 11:35:36,832] Trial 21 finished with value: 0.7071207098953606 and parameters: {'booster': 'gblinear', 'max_depth': 10, 'learning_rate': 0.07610097926917248, 'n_estimators': 900, 'subsample': 0.7514360595796243, 'colsample_bytree': 0.8838256145455121, 'reg_alpha': 2.7800008876187313e-05, 'reg_lambda': 1.5187408072324559e-05, 'min_child_weight': 4, 'gamma': 2.607452126754267e-05}. Best is trial 18 with value: 0.7097151214215088.\n"
          ]
        },
        {
          "name": "stderr",
          "output_type": "stream",
          "text": [
            "c:\\Users\\domdd\\Documents\\GitHub\\Soy-Crush\\.venv\\Lib\\site-packages\\xgboost\\core.py:158: UserWarning: [11:35:37] WARNING: C:\\buildkite-agent\\builds\\buildkite-windows-cpu-autoscaling-group-i-08cbc0333d8d4aae1-1\\xgboost\\xgboost-ci-windows\\src\\learner.cc:740: \n",
            "Parameters: { \"colsample_bytree\", \"gamma\", \"max_depth\", \"min_child_weight\", \"subsample\" } are not used.\n",
            "\n",
            "  warnings.warn(smsg, UserWarning)\n",
            "c:\\Users\\domdd\\Documents\\GitHub\\Soy-Crush\\.venv\\Lib\\site-packages\\xgboost\\core.py:158: UserWarning: [11:35:37] WARNING: C:\\buildkite-agent\\builds\\buildkite-windows-cpu-autoscaling-group-i-08cbc0333d8d4aae1-1\\xgboost\\xgboost-ci-windows\\src\\learner.cc:740: \n",
            "Parameters: { \"colsample_bytree\", \"gamma\", \"max_depth\", \"min_child_weight\", \"subsample\" } are not used.\n",
            "\n",
            "  warnings.warn(smsg, UserWarning)\n",
            "c:\\Users\\domdd\\Documents\\GitHub\\Soy-Crush\\.venv\\Lib\\site-packages\\xgboost\\core.py:158: UserWarning: [11:35:37] WARNING: C:\\buildkite-agent\\builds\\buildkite-windows-cpu-autoscaling-group-i-08cbc0333d8d4aae1-1\\xgboost\\xgboost-ci-windows\\src\\learner.cc:740: \n",
            "Parameters: { \"colsample_bytree\", \"gamma\", \"max_depth\", \"min_child_weight\", \"subsample\" } are not used.\n",
            "\n",
            "  warnings.warn(smsg, UserWarning)\n",
            "c:\\Users\\domdd\\Documents\\GitHub\\Soy-Crush\\.venv\\Lib\\site-packages\\xgboost\\core.py:158: UserWarning: [11:35:38] WARNING: C:\\buildkite-agent\\builds\\buildkite-windows-cpu-autoscaling-group-i-08cbc0333d8d4aae1-1\\xgboost\\xgboost-ci-windows\\src\\learner.cc:740: \n",
            "Parameters: { \"colsample_bytree\", \"gamma\", \"max_depth\", \"min_child_weight\", \"subsample\" } are not used.\n",
            "\n",
            "  warnings.warn(smsg, UserWarning)\n",
            "c:\\Users\\domdd\\Documents\\GitHub\\Soy-Crush\\.venv\\Lib\\site-packages\\xgboost\\core.py:158: UserWarning: [11:35:38] WARNING: C:\\buildkite-agent\\builds\\buildkite-windows-cpu-autoscaling-group-i-08cbc0333d8d4aae1-1\\xgboost\\xgboost-ci-windows\\src\\learner.cc:740: \n",
            "Parameters: { \"colsample_bytree\", \"gamma\", \"max_depth\", \"min_child_weight\", \"subsample\" } are not used.\n",
            "\n",
            "  warnings.warn(smsg, UserWarning)\n",
            "Best trial: 18. Best value: 0.709715:  23%|██▎       | 23/100 [34:37<1:51:57, 87.24s/it] "
          ]
        },
        {
          "name": "stdout",
          "output_type": "stream",
          "text": [
            "[I 2025-02-09 11:35:38,777] Trial 22 finished with value: 0.7069543109032166 and parameters: {'booster': 'gblinear', 'max_depth': 9, 'learning_rate': 0.09866822336221713, 'n_estimators': 650, 'subsample': 0.6954468108069324, 'colsample_bytree': 0.9473372163740501, 'reg_alpha': 3.0598981397803024e-05, 'reg_lambda': 1.4393519020508639e-06, 'min_child_weight': 2, 'gamma': 1.433514412328341e-06}. Best is trial 18 with value: 0.7097151214215088.\n"
          ]
        },
        {
          "name": "stderr",
          "output_type": "stream",
          "text": [
            "c:\\Users\\domdd\\Documents\\GitHub\\Soy-Crush\\.venv\\Lib\\site-packages\\xgboost\\core.py:158: UserWarning: [11:35:39] WARNING: C:\\buildkite-agent\\builds\\buildkite-windows-cpu-autoscaling-group-i-08cbc0333d8d4aae1-1\\xgboost\\xgboost-ci-windows\\src\\learner.cc:740: \n",
            "Parameters: { \"colsample_bytree\", \"gamma\", \"max_depth\", \"min_child_weight\", \"subsample\" } are not used.\n",
            "\n",
            "  warnings.warn(smsg, UserWarning)\n",
            "c:\\Users\\domdd\\Documents\\GitHub\\Soy-Crush\\.venv\\Lib\\site-packages\\xgboost\\core.py:158: UserWarning: [11:35:39] WARNING: C:\\buildkite-agent\\builds\\buildkite-windows-cpu-autoscaling-group-i-08cbc0333d8d4aae1-1\\xgboost\\xgboost-ci-windows\\src\\learner.cc:740: \n",
            "Parameters: { \"colsample_bytree\", \"gamma\", \"max_depth\", \"min_child_weight\", \"subsample\" } are not used.\n",
            "\n",
            "  warnings.warn(smsg, UserWarning)\n",
            "c:\\Users\\domdd\\Documents\\GitHub\\Soy-Crush\\.venv\\Lib\\site-packages\\xgboost\\core.py:158: UserWarning: [11:35:40] WARNING: C:\\buildkite-agent\\builds\\buildkite-windows-cpu-autoscaling-group-i-08cbc0333d8d4aae1-1\\xgboost\\xgboost-ci-windows\\src\\learner.cc:740: \n",
            "Parameters: { \"colsample_bytree\", \"gamma\", \"max_depth\", \"min_child_weight\", \"subsample\" } are not used.\n",
            "\n",
            "  warnings.warn(smsg, UserWarning)\n",
            "c:\\Users\\domdd\\Documents\\GitHub\\Soy-Crush\\.venv\\Lib\\site-packages\\xgboost\\core.py:158: UserWarning: [11:35:40] WARNING: C:\\buildkite-agent\\builds\\buildkite-windows-cpu-autoscaling-group-i-08cbc0333d8d4aae1-1\\xgboost\\xgboost-ci-windows\\src\\learner.cc:740: \n",
            "Parameters: { \"colsample_bytree\", \"gamma\", \"max_depth\", \"min_child_weight\", \"subsample\" } are not used.\n",
            "\n",
            "  warnings.warn(smsg, UserWarning)\n",
            "c:\\Users\\domdd\\Documents\\GitHub\\Soy-Crush\\.venv\\Lib\\site-packages\\xgboost\\core.py:158: UserWarning: [11:35:41] WARNING: C:\\buildkite-agent\\builds\\buildkite-windows-cpu-autoscaling-group-i-08cbc0333d8d4aae1-1\\xgboost\\xgboost-ci-windows\\src\\learner.cc:740: \n",
            "Parameters: { \"colsample_bytree\", \"gamma\", \"max_depth\", \"min_child_weight\", \"subsample\" } are not used.\n",
            "\n",
            "  warnings.warn(smsg, UserWarning)\n",
            "Best trial: 18. Best value: 0.709715:  24%|██▍       | 24/100 [34:39<1:18:18, 61.82s/it]"
          ]
        },
        {
          "name": "stdout",
          "output_type": "stream",
          "text": [
            "[I 2025-02-09 11:35:41,309] Trial 23 finished with value: 0.7062491378834578 and parameters: {'booster': 'gblinear', 'max_depth': 10, 'learning_rate': 0.03823330941731906, 'n_estimators': 1500, 'subsample': 0.7627518296576048, 'colsample_bytree': 0.8620627532708762, 'reg_alpha': 4.804938280678282e-07, 'reg_lambda': 1.854035042884164e-05, 'min_child_weight': 6, 'gamma': 0.05064919895650165}. Best is trial 18 with value: 0.7097151214215088.\n"
          ]
        },
        {
          "name": "stderr",
          "output_type": "stream",
          "text": [
            "c:\\Users\\domdd\\Documents\\GitHub\\Soy-Crush\\.venv\\Lib\\site-packages\\xgboost\\core.py:158: UserWarning: [11:35:41] WARNING: C:\\buildkite-agent\\builds\\buildkite-windows-cpu-autoscaling-group-i-08cbc0333d8d4aae1-1\\xgboost\\xgboost-ci-windows\\src\\learner.cc:740: \n",
            "Parameters: { \"colsample_bytree\", \"gamma\", \"max_depth\", \"min_child_weight\", \"subsample\" } are not used.\n",
            "\n",
            "  warnings.warn(smsg, UserWarning)\n",
            "c:\\Users\\domdd\\Documents\\GitHub\\Soy-Crush\\.venv\\Lib\\site-packages\\xgboost\\core.py:158: UserWarning: [11:35:42] WARNING: C:\\buildkite-agent\\builds\\buildkite-windows-cpu-autoscaling-group-i-08cbc0333d8d4aae1-1\\xgboost\\xgboost-ci-windows\\src\\learner.cc:740: \n",
            "Parameters: { \"colsample_bytree\", \"gamma\", \"max_depth\", \"min_child_weight\", \"subsample\" } are not used.\n",
            "\n",
            "  warnings.warn(smsg, UserWarning)\n",
            "c:\\Users\\domdd\\Documents\\GitHub\\Soy-Crush\\.venv\\Lib\\site-packages\\xgboost\\core.py:158: UserWarning: [11:35:42] WARNING: C:\\buildkite-agent\\builds\\buildkite-windows-cpu-autoscaling-group-i-08cbc0333d8d4aae1-1\\xgboost\\xgboost-ci-windows\\src\\learner.cc:740: \n",
            "Parameters: { \"colsample_bytree\", \"gamma\", \"max_depth\", \"min_child_weight\", \"subsample\" } are not used.\n",
            "\n",
            "  warnings.warn(smsg, UserWarning)\n",
            "c:\\Users\\domdd\\Documents\\GitHub\\Soy-Crush\\.venv\\Lib\\site-packages\\xgboost\\core.py:158: UserWarning: [11:35:43] WARNING: C:\\buildkite-agent\\builds\\buildkite-windows-cpu-autoscaling-group-i-08cbc0333d8d4aae1-1\\xgboost\\xgboost-ci-windows\\src\\learner.cc:740: \n",
            "Parameters: { \"colsample_bytree\", \"gamma\", \"max_depth\", \"min_child_weight\", \"subsample\" } are not used.\n",
            "\n",
            "  warnings.warn(smsg, UserWarning)\n",
            "c:\\Users\\domdd\\Documents\\GitHub\\Soy-Crush\\.venv\\Lib\\site-packages\\xgboost\\core.py:158: UserWarning: [11:35:43] WARNING: C:\\buildkite-agent\\builds\\buildkite-windows-cpu-autoscaling-group-i-08cbc0333d8d4aae1-1\\xgboost\\xgboost-ci-windows\\src\\learner.cc:740: \n",
            "Parameters: { \"colsample_bytree\", \"gamma\", \"max_depth\", \"min_child_weight\", \"subsample\" } are not used.\n",
            "\n",
            "  warnings.warn(smsg, UserWarning)\n",
            "Best trial: 18. Best value: 0.709715:  25%|██▌       | 25/100 [34:41<54:57, 43.97s/it]  "
          ]
        },
        {
          "name": "stdout",
          "output_type": "stream",
          "text": [
            "[I 2025-02-09 11:35:43,627] Trial 24 finished with value: 0.6987870038179838 and parameters: {'booster': 'gblinear', 'max_depth': 9, 'learning_rate': 0.02427595389717256, 'n_estimators': 1150, 'subsample': 0.661559348646546, 'colsample_bytree': 0.9524373796742274, 'reg_alpha': 2.676292255590031e-05, 'reg_lambda': 0.0005199709109980837, 'min_child_weight': 4, 'gamma': 0.011787831892700544}. Best is trial 18 with value: 0.7097151214215088.\n"
          ]
        },
        {
          "name": "stderr",
          "output_type": "stream",
          "text": [
            "c:\\Users\\domdd\\Documents\\GitHub\\Soy-Crush\\.venv\\Lib\\site-packages\\xgboost\\core.py:158: UserWarning: [11:35:43] WARNING: C:\\buildkite-agent\\builds\\buildkite-windows-cpu-autoscaling-group-i-08cbc0333d8d4aae1-1\\xgboost\\xgboost-ci-windows\\src\\learner.cc:740: \n",
            "Parameters: { \"colsample_bytree\", \"gamma\", \"max_depth\", \"min_child_weight\", \"subsample\" } are not used.\n",
            "\n",
            "  warnings.warn(smsg, UserWarning)\n",
            "c:\\Users\\domdd\\Documents\\GitHub\\Soy-Crush\\.venv\\Lib\\site-packages\\xgboost\\core.py:158: UserWarning: [11:35:44] WARNING: C:\\buildkite-agent\\builds\\buildkite-windows-cpu-autoscaling-group-i-08cbc0333d8d4aae1-1\\xgboost\\xgboost-ci-windows\\src\\learner.cc:740: \n",
            "Parameters: { \"colsample_bytree\", \"gamma\", \"max_depth\", \"min_child_weight\", \"subsample\" } are not used.\n",
            "\n",
            "  warnings.warn(smsg, UserWarning)\n",
            "c:\\Users\\domdd\\Documents\\GitHub\\Soy-Crush\\.venv\\Lib\\site-packages\\xgboost\\core.py:158: UserWarning: [11:35:44] WARNING: C:\\buildkite-agent\\builds\\buildkite-windows-cpu-autoscaling-group-i-08cbc0333d8d4aae1-1\\xgboost\\xgboost-ci-windows\\src\\learner.cc:740: \n",
            "Parameters: { \"colsample_bytree\", \"gamma\", \"max_depth\", \"min_child_weight\", \"subsample\" } are not used.\n",
            "\n",
            "  warnings.warn(smsg, UserWarning)\n",
            "c:\\Users\\domdd\\Documents\\GitHub\\Soy-Crush\\.venv\\Lib\\site-packages\\xgboost\\core.py:158: UserWarning: [11:35:45] WARNING: C:\\buildkite-agent\\builds\\buildkite-windows-cpu-autoscaling-group-i-08cbc0333d8d4aae1-1\\xgboost\\xgboost-ci-windows\\src\\learner.cc:740: \n",
            "Parameters: { \"colsample_bytree\", \"gamma\", \"max_depth\", \"min_child_weight\", \"subsample\" } are not used.\n",
            "\n",
            "  warnings.warn(smsg, UserWarning)\n",
            "c:\\Users\\domdd\\Documents\\GitHub\\Soy-Crush\\.venv\\Lib\\site-packages\\xgboost\\core.py:158: UserWarning: [11:35:45] WARNING: C:\\buildkite-agent\\builds\\buildkite-windows-cpu-autoscaling-group-i-08cbc0333d8d4aae1-1\\xgboost\\xgboost-ci-windows\\src\\learner.cc:740: \n",
            "Parameters: { \"colsample_bytree\", \"gamma\", \"max_depth\", \"min_child_weight\", \"subsample\" } are not used.\n",
            "\n",
            "  warnings.warn(smsg, UserWarning)\n",
            "Best trial: 18. Best value: 0.709715:  26%|██▌       | 26/100 [34:44<38:44, 31.41s/it]"
          ]
        },
        {
          "name": "stdout",
          "output_type": "stream",
          "text": [
            "[I 2025-02-09 11:35:45,748] Trial 25 finished with value: 0.7059316805148584 and parameters: {'booster': 'gblinear', 'max_depth': 8, 'learning_rate': 0.060170931335961665, 'n_estimators': 900, 'subsample': 0.6175514470723282, 'colsample_bytree': 0.7164626657837918, 'reg_alpha': 1.1210413044587262e-06, 'reg_lambda': 1.155168851363947e-07, 'min_child_weight': 2, 'gamma': 3.3161911104028087e-07}. Best is trial 18 with value: 0.7097151214215088.\n"
          ]
        },
        {
          "name": "stderr",
          "output_type": "stream",
          "text": [
            "c:\\Users\\domdd\\Documents\\GitHub\\Soy-Crush\\.venv\\Lib\\site-packages\\xgboost\\core.py:158: UserWarning: [11:35:46] WARNING: C:\\buildkite-agent\\builds\\buildkite-windows-cpu-autoscaling-group-i-08cbc0333d8d4aae1-1\\xgboost\\xgboost-ci-windows\\src\\learner.cc:740: \n",
            "Parameters: { \"colsample_bytree\", \"gamma\", \"max_depth\", \"min_child_weight\", \"subsample\" } are not used.\n",
            "\n",
            "  warnings.warn(smsg, UserWarning)\n",
            "c:\\Users\\domdd\\Documents\\GitHub\\Soy-Crush\\.venv\\Lib\\site-packages\\xgboost\\core.py:158: UserWarning: [11:35:46] WARNING: C:\\buildkite-agent\\builds\\buildkite-windows-cpu-autoscaling-group-i-08cbc0333d8d4aae1-1\\xgboost\\xgboost-ci-windows\\src\\learner.cc:740: \n",
            "Parameters: { \"colsample_bytree\", \"gamma\", \"max_depth\", \"min_child_weight\", \"subsample\" } are not used.\n",
            "\n",
            "  warnings.warn(smsg, UserWarning)\n",
            "c:\\Users\\domdd\\Documents\\GitHub\\Soy-Crush\\.venv\\Lib\\site-packages\\xgboost\\core.py:158: UserWarning: [11:35:46] WARNING: C:\\buildkite-agent\\builds\\buildkite-windows-cpu-autoscaling-group-i-08cbc0333d8d4aae1-1\\xgboost\\xgboost-ci-windows\\src\\learner.cc:740: \n",
            "Parameters: { \"colsample_bytree\", \"gamma\", \"max_depth\", \"min_child_weight\", \"subsample\" } are not used.\n",
            "\n",
            "  warnings.warn(smsg, UserWarning)\n",
            "c:\\Users\\domdd\\Documents\\GitHub\\Soy-Crush\\.venv\\Lib\\site-packages\\xgboost\\core.py:158: UserWarning: [11:35:47] WARNING: C:\\buildkite-agent\\builds\\buildkite-windows-cpu-autoscaling-group-i-08cbc0333d8d4aae1-1\\xgboost\\xgboost-ci-windows\\src\\learner.cc:740: \n",
            "Parameters: { \"colsample_bytree\", \"gamma\", \"max_depth\", \"min_child_weight\", \"subsample\" } are not used.\n",
            "\n",
            "  warnings.warn(smsg, UserWarning)\n",
            "c:\\Users\\domdd\\Documents\\GitHub\\Soy-Crush\\.venv\\Lib\\site-packages\\xgboost\\core.py:158: UserWarning: [11:35:47] WARNING: C:\\buildkite-agent\\builds\\buildkite-windows-cpu-autoscaling-group-i-08cbc0333d8d4aae1-1\\xgboost\\xgboost-ci-windows\\src\\learner.cc:740: \n",
            "Parameters: { \"colsample_bytree\", \"gamma\", \"max_depth\", \"min_child_weight\", \"subsample\" } are not used.\n",
            "\n",
            "  warnings.warn(smsg, UserWarning)\n",
            "Best trial: 18. Best value: 0.709715:  27%|██▋       | 27/100 [34:45<27:25, 22.54s/it]"
          ]
        },
        {
          "name": "stdout",
          "output_type": "stream",
          "text": [
            "[I 2025-02-09 11:35:47,577] Trial 26 finished with value: 0.6944686679369747 and parameters: {'booster': 'gblinear', 'max_depth': 10, 'learning_rate': 0.03509325302846933, 'n_estimators': 500, 'subsample': 0.7170801688693896, 'colsample_bytree': 0.8308299459715648, 'reg_alpha': 0.00070617803999779, 'reg_lambda': 4.145278365353746e-06, 'min_child_weight': 5, 'gamma': 0.0005510235955233628}. Best is trial 18 with value: 0.7097151214215088.\n"
          ]
        },
        {
          "name": "stderr",
          "output_type": "stream",
          "text": [
            "c:\\Users\\domdd\\Documents\\GitHub\\Soy-Crush\\.venv\\Lib\\site-packages\\xgboost\\core.py:158: UserWarning: [11:35:47] WARNING: C:\\buildkite-agent\\builds\\buildkite-windows-cpu-autoscaling-group-i-08cbc0333d8d4aae1-1\\xgboost\\xgboost-ci-windows\\src\\learner.cc:740: \n",
            "Parameters: { \"colsample_bytree\", \"gamma\", \"max_depth\", \"min_child_weight\", \"subsample\" } are not used.\n",
            "\n",
            "  warnings.warn(smsg, UserWarning)\n",
            "c:\\Users\\domdd\\Documents\\GitHub\\Soy-Crush\\.venv\\Lib\\site-packages\\xgboost\\core.py:158: UserWarning: [11:35:48] WARNING: C:\\buildkite-agent\\builds\\buildkite-windows-cpu-autoscaling-group-i-08cbc0333d8d4aae1-1\\xgboost\\xgboost-ci-windows\\src\\learner.cc:740: \n",
            "Parameters: { \"colsample_bytree\", \"gamma\", \"max_depth\", \"min_child_weight\", \"subsample\" } are not used.\n",
            "\n",
            "  warnings.warn(smsg, UserWarning)\n",
            "c:\\Users\\domdd\\Documents\\GitHub\\Soy-Crush\\.venv\\Lib\\site-packages\\xgboost\\core.py:158: UserWarning: [11:35:48] WARNING: C:\\buildkite-agent\\builds\\buildkite-windows-cpu-autoscaling-group-i-08cbc0333d8d4aae1-1\\xgboost\\xgboost-ci-windows\\src\\learner.cc:740: \n",
            "Parameters: { \"colsample_bytree\", \"gamma\", \"max_depth\", \"min_child_weight\", \"subsample\" } are not used.\n",
            "\n",
            "  warnings.warn(smsg, UserWarning)\n",
            "c:\\Users\\domdd\\Documents\\GitHub\\Soy-Crush\\.venv\\Lib\\site-packages\\xgboost\\core.py:158: UserWarning: [11:35:49] WARNING: C:\\buildkite-agent\\builds\\buildkite-windows-cpu-autoscaling-group-i-08cbc0333d8d4aae1-1\\xgboost\\xgboost-ci-windows\\src\\learner.cc:740: \n",
            "Parameters: { \"colsample_bytree\", \"gamma\", \"max_depth\", \"min_child_weight\", \"subsample\" } are not used.\n",
            "\n",
            "  warnings.warn(smsg, UserWarning)\n",
            "c:\\Users\\domdd\\Documents\\GitHub\\Soy-Crush\\.venv\\Lib\\site-packages\\xgboost\\core.py:158: UserWarning: [11:35:49] WARNING: C:\\buildkite-agent\\builds\\buildkite-windows-cpu-autoscaling-group-i-08cbc0333d8d4aae1-1\\xgboost\\xgboost-ci-windows\\src\\learner.cc:740: \n",
            "Parameters: { \"colsample_bytree\", \"gamma\", \"max_depth\", \"min_child_weight\", \"subsample\" } are not used.\n",
            "\n",
            "  warnings.warn(smsg, UserWarning)\n",
            "Best trial: 18. Best value: 0.709715:  28%|██▊       | 28/100 [34:48<19:42, 16.43s/it]"
          ]
        },
        {
          "name": "stdout",
          "output_type": "stream",
          "text": [
            "[I 2025-02-09 11:35:49,747] Trial 27 finished with value: 0.6980294813758402 and parameters: {'booster': 'gblinear', 'max_depth': 9, 'learning_rate': 0.09817104740320064, 'n_estimators': 1000, 'subsample': 0.777251969495221, 'colsample_bytree': 0.7754870196947881, 'reg_alpha': 0.01891657800153106, 'reg_lambda': 0.002986314830188174, 'min_child_weight': 1, 'gamma': 1.5116876317456216e-05}. Best is trial 18 with value: 0.7097151214215088.\n"
          ]
        },
        {
          "name": "stderr",
          "output_type": "stream",
          "text": [
            "c:\\Users\\domdd\\Documents\\GitHub\\Soy-Crush\\.venv\\Lib\\site-packages\\xgboost\\core.py:158: UserWarning: [11:35:50] WARNING: C:\\buildkite-agent\\builds\\buildkite-windows-cpu-autoscaling-group-i-08cbc0333d8d4aae1-1\\xgboost\\xgboost-ci-windows\\src\\learner.cc:740: \n",
            "Parameters: { \"dropout_rate\" } are not used.\n",
            "\n",
            "  warnings.warn(smsg, UserWarning)\n",
            "c:\\Users\\domdd\\Documents\\GitHub\\Soy-Crush\\.venv\\Lib\\site-packages\\xgboost\\core.py:158: UserWarning: [11:36:05] WARNING: C:\\buildkite-agent\\builds\\buildkite-windows-cpu-autoscaling-group-i-08cbc0333d8d4aae1-1\\xgboost\\xgboost-ci-windows\\src\\learner.cc:740: \n",
            "Parameters: { \"dropout_rate\" } are not used.\n",
            "\n",
            "  warnings.warn(smsg, UserWarning)\n",
            "c:\\Users\\domdd\\Documents\\GitHub\\Soy-Crush\\.venv\\Lib\\site-packages\\xgboost\\core.py:158: UserWarning: [11:36:22] WARNING: C:\\buildkite-agent\\builds\\buildkite-windows-cpu-autoscaling-group-i-08cbc0333d8d4aae1-1\\xgboost\\xgboost-ci-windows\\src\\learner.cc:740: \n",
            "Parameters: { \"dropout_rate\" } are not used.\n",
            "\n",
            "  warnings.warn(smsg, UserWarning)\n",
            "c:\\Users\\domdd\\Documents\\GitHub\\Soy-Crush\\.venv\\Lib\\site-packages\\xgboost\\core.py:158: UserWarning: [11:36:38] WARNING: C:\\buildkite-agent\\builds\\buildkite-windows-cpu-autoscaling-group-i-08cbc0333d8d4aae1-1\\xgboost\\xgboost-ci-windows\\src\\learner.cc:740: \n",
            "Parameters: { \"dropout_rate\" } are not used.\n",
            "\n",
            "  warnings.warn(smsg, UserWarning)\n",
            "c:\\Users\\domdd\\Documents\\GitHub\\Soy-Crush\\.venv\\Lib\\site-packages\\xgboost\\core.py:158: UserWarning: [11:36:55] WARNING: C:\\buildkite-agent\\builds\\buildkite-windows-cpu-autoscaling-group-i-08cbc0333d8d4aae1-1\\xgboost\\xgboost-ci-windows\\src\\learner.cc:740: \n",
            "Parameters: { \"dropout_rate\" } are not used.\n",
            "\n",
            "  warnings.warn(smsg, UserWarning)\n",
            "Best trial: 18. Best value: 0.709715:  29%|██▉       | 29/100 [36:10<42:51, 36.23s/it]"
          ]
        },
        {
          "name": "stdout",
          "output_type": "stream",
          "text": [
            "[I 2025-02-09 11:37:12,166] Trial 28 finished with value: 0.6468675245746772 and parameters: {'booster': 'dart', 'max_depth': 10, 'learning_rate': 0.008571534731221835, 'n_estimators': 350, 'subsample': 0.5861504235160514, 'colsample_bytree': 0.8758114662019291, 'reg_alpha': 0.5225213019105426, 'reg_lambda': 3.3073838749411186e-05, 'min_child_weight': 4, 'gamma': 8.528004284326984e-05, 'dropout_rate': 0.6093477388255351}. Best is trial 18 with value: 0.7097151214215088.\n"
          ]
        },
        {
          "name": "stderr",
          "output_type": "stream",
          "text": [
            "c:\\Users\\domdd\\Documents\\GitHub\\Soy-Crush\\.venv\\Lib\\site-packages\\xgboost\\core.py:158: UserWarning: [11:37:12] WARNING: C:\\buildkite-agent\\builds\\buildkite-windows-cpu-autoscaling-group-i-08cbc0333d8d4aae1-1\\xgboost\\xgboost-ci-windows\\src\\learner.cc:740: \n",
            "Parameters: { \"colsample_bytree\", \"gamma\", \"max_depth\", \"min_child_weight\", \"subsample\" } are not used.\n",
            "\n",
            "  warnings.warn(smsg, UserWarning)\n",
            "c:\\Users\\domdd\\Documents\\GitHub\\Soy-Crush\\.venv\\Lib\\site-packages\\xgboost\\core.py:158: UserWarning: [11:37:12] WARNING: C:\\buildkite-agent\\builds\\buildkite-windows-cpu-autoscaling-group-i-08cbc0333d8d4aae1-1\\xgboost\\xgboost-ci-windows\\src\\learner.cc:740: \n",
            "Parameters: { \"colsample_bytree\", \"gamma\", \"max_depth\", \"min_child_weight\", \"subsample\" } are not used.\n",
            "\n",
            "  warnings.warn(smsg, UserWarning)\n",
            "c:\\Users\\domdd\\Documents\\GitHub\\Soy-Crush\\.venv\\Lib\\site-packages\\xgboost\\core.py:158: UserWarning: [11:37:13] WARNING: C:\\buildkite-agent\\builds\\buildkite-windows-cpu-autoscaling-group-i-08cbc0333d8d4aae1-1\\xgboost\\xgboost-ci-windows\\src\\learner.cc:740: \n",
            "Parameters: { \"colsample_bytree\", \"gamma\", \"max_depth\", \"min_child_weight\", \"subsample\" } are not used.\n",
            "\n",
            "  warnings.warn(smsg, UserWarning)\n",
            "c:\\Users\\domdd\\Documents\\GitHub\\Soy-Crush\\.venv\\Lib\\site-packages\\xgboost\\core.py:158: UserWarning: [11:37:13] WARNING: C:\\buildkite-agent\\builds\\buildkite-windows-cpu-autoscaling-group-i-08cbc0333d8d4aae1-1\\xgboost\\xgboost-ci-windows\\src\\learner.cc:740: \n",
            "Parameters: { \"colsample_bytree\", \"gamma\", \"max_depth\", \"min_child_weight\", \"subsample\" } are not used.\n",
            "\n",
            "  warnings.warn(smsg, UserWarning)\n",
            "c:\\Users\\domdd\\Documents\\GitHub\\Soy-Crush\\.venv\\Lib\\site-packages\\xgboost\\core.py:158: UserWarning: [11:37:14] WARNING: C:\\buildkite-agent\\builds\\buildkite-windows-cpu-autoscaling-group-i-08cbc0333d8d4aae1-1\\xgboost\\xgboost-ci-windows\\src\\learner.cc:740: \n",
            "Parameters: { \"colsample_bytree\", \"gamma\", \"max_depth\", \"min_child_weight\", \"subsample\" } are not used.\n",
            "\n",
            "  warnings.warn(smsg, UserWarning)\n",
            "Best trial: 18. Best value: 0.709715:  30%|███       | 30/100 [36:12<30:25, 26.08s/it]"
          ]
        },
        {
          "name": "stdout",
          "output_type": "stream",
          "text": [
            "[I 2025-02-09 11:37:14,580] Trial 29 finished with value: 0.6039651060924351 and parameters: {'booster': 'gblinear', 'max_depth': 7, 'learning_rate': 0.0010898966939685418, 'n_estimators': 1300, 'subsample': 0.7295628720987718, 'colsample_bytree': 0.966304579163987, 'reg_alpha': 1.407174165519958e-07, 'reg_lambda': 8.086549410502914e-07, 'min_child_weight': 7, 'gamma': 2.562479946419662e-06}. Best is trial 18 with value: 0.7097151214215088.\n"
          ]
        },
        {
          "name": "stderr",
          "output_type": "stream",
          "text": [
            "Best trial: 18. Best value: 0.709715:  31%|███       | 31/100 [36:19<23:20, 20.30s/it]"
          ]
        },
        {
          "name": "stdout",
          "output_type": "stream",
          "text": [
            "[I 2025-02-09 11:37:21,379] Trial 30 finished with value: 0.6419903032001457 and parameters: {'booster': 'gbtree', 'max_depth': 8, 'learning_rate': 0.0010345780462285754, 'n_estimators': 600, 'subsample': 0.6798455944077217, 'colsample_bytree': 0.9268333471770107, 'reg_alpha': 0.003176545669346115, 'reg_lambda': 4.2446784737311066e-08, 'min_child_weight': 3, 'gamma': 2.2991827694778254e-07}. Best is trial 18 with value: 0.7097151214215088.\n"
          ]
        },
        {
          "name": "stderr",
          "output_type": "stream",
          "text": [
            "c:\\Users\\domdd\\Documents\\GitHub\\Soy-Crush\\.venv\\Lib\\site-packages\\xgboost\\core.py:158: UserWarning: [11:37:21] WARNING: C:\\buildkite-agent\\builds\\buildkite-windows-cpu-autoscaling-group-i-08cbc0333d8d4aae1-1\\xgboost\\xgboost-ci-windows\\src\\learner.cc:740: \n",
            "Parameters: { \"colsample_bytree\", \"gamma\", \"max_depth\", \"min_child_weight\", \"subsample\" } are not used.\n",
            "\n",
            "  warnings.warn(smsg, UserWarning)\n",
            "c:\\Users\\domdd\\Documents\\GitHub\\Soy-Crush\\.venv\\Lib\\site-packages\\xgboost\\core.py:158: UserWarning: [11:37:22] WARNING: C:\\buildkite-agent\\builds\\buildkite-windows-cpu-autoscaling-group-i-08cbc0333d8d4aae1-1\\xgboost\\xgboost-ci-windows\\src\\learner.cc:740: \n",
            "Parameters: { \"colsample_bytree\", \"gamma\", \"max_depth\", \"min_child_weight\", \"subsample\" } are not used.\n",
            "\n",
            "  warnings.warn(smsg, UserWarning)\n",
            "c:\\Users\\domdd\\Documents\\GitHub\\Soy-Crush\\.venv\\Lib\\site-packages\\xgboost\\core.py:158: UserWarning: [11:37:22] WARNING: C:\\buildkite-agent\\builds\\buildkite-windows-cpu-autoscaling-group-i-08cbc0333d8d4aae1-1\\xgboost\\xgboost-ci-windows\\src\\learner.cc:740: \n",
            "Parameters: { \"colsample_bytree\", \"gamma\", \"max_depth\", \"min_child_weight\", \"subsample\" } are not used.\n",
            "\n",
            "  warnings.warn(smsg, UserWarning)\n",
            "c:\\Users\\domdd\\Documents\\GitHub\\Soy-Crush\\.venv\\Lib\\site-packages\\xgboost\\core.py:158: UserWarning: [11:37:22] WARNING: C:\\buildkite-agent\\builds\\buildkite-windows-cpu-autoscaling-group-i-08cbc0333d8d4aae1-1\\xgboost\\xgboost-ci-windows\\src\\learner.cc:740: \n",
            "Parameters: { \"colsample_bytree\", \"gamma\", \"max_depth\", \"min_child_weight\", \"subsample\" } are not used.\n",
            "\n",
            "  warnings.warn(smsg, UserWarning)\n",
            "c:\\Users\\domdd\\Documents\\GitHub\\Soy-Crush\\.venv\\Lib\\site-packages\\xgboost\\core.py:158: UserWarning: [11:37:23] WARNING: C:\\buildkite-agent\\builds\\buildkite-windows-cpu-autoscaling-group-i-08cbc0333d8d4aae1-1\\xgboost\\xgboost-ci-windows\\src\\learner.cc:740: \n",
            "Parameters: { \"colsample_bytree\", \"gamma\", \"max_depth\", \"min_child_weight\", \"subsample\" } are not used.\n",
            "\n",
            "  warnings.warn(smsg, UserWarning)\n",
            "Best trial: 18. Best value: 0.709715:  32%|███▏      | 32/100 [36:21<16:46, 14.81s/it]"
          ]
        },
        {
          "name": "stdout",
          "output_type": "stream",
          "text": [
            "[I 2025-02-09 11:37:23,373] Trial 31 finished with value: 0.4948166049536097 and parameters: {'booster': 'gblinear', 'max_depth': 10, 'learning_rate': 0.047729463988771426, 'n_estimators': 600, 'subsample': 0.6914988670646218, 'colsample_bytree': 0.9915077714106552, 'reg_alpha': 0.12350241410388424, 'reg_lambda': 1.806243257512863e-07, 'min_child_weight': 1, 'gamma': 0.6786615555909643}. Best is trial 18 with value: 0.7097151214215088.\n"
          ]
        },
        {
          "name": "stderr",
          "output_type": "stream",
          "text": [
            "c:\\Users\\domdd\\Documents\\GitHub\\Soy-Crush\\.venv\\Lib\\site-packages\\xgboost\\core.py:158: UserWarning: [11:37:23] WARNING: C:\\buildkite-agent\\builds\\buildkite-windows-cpu-autoscaling-group-i-08cbc0333d8d4aae1-1\\xgboost\\xgboost-ci-windows\\src\\learner.cc:740: \n",
            "Parameters: { \"colsample_bytree\", \"gamma\", \"max_depth\", \"min_child_weight\", \"subsample\" } are not used.\n",
            "\n",
            "  warnings.warn(smsg, UserWarning)\n",
            "c:\\Users\\domdd\\Documents\\GitHub\\Soy-Crush\\.venv\\Lib\\site-packages\\xgboost\\core.py:158: UserWarning: [11:37:24] WARNING: C:\\buildkite-agent\\builds\\buildkite-windows-cpu-autoscaling-group-i-08cbc0333d8d4aae1-1\\xgboost\\xgboost-ci-windows\\src\\learner.cc:740: \n",
            "Parameters: { \"colsample_bytree\", \"gamma\", \"max_depth\", \"min_child_weight\", \"subsample\" } are not used.\n",
            "\n",
            "  warnings.warn(smsg, UserWarning)\n",
            "c:\\Users\\domdd\\Documents\\GitHub\\Soy-Crush\\.venv\\Lib\\site-packages\\xgboost\\core.py:158: UserWarning: [11:37:24] WARNING: C:\\buildkite-agent\\builds\\buildkite-windows-cpu-autoscaling-group-i-08cbc0333d8d4aae1-1\\xgboost\\xgboost-ci-windows\\src\\learner.cc:740: \n",
            "Parameters: { \"colsample_bytree\", \"gamma\", \"max_depth\", \"min_child_weight\", \"subsample\" } are not used.\n",
            "\n",
            "  warnings.warn(smsg, UserWarning)\n",
            "c:\\Users\\domdd\\Documents\\GitHub\\Soy-Crush\\.venv\\Lib\\site-packages\\xgboost\\core.py:158: UserWarning: [11:37:24] WARNING: C:\\buildkite-agent\\builds\\buildkite-windows-cpu-autoscaling-group-i-08cbc0333d8d4aae1-1\\xgboost\\xgboost-ci-windows\\src\\learner.cc:740: \n",
            "Parameters: { \"colsample_bytree\", \"gamma\", \"max_depth\", \"min_child_weight\", \"subsample\" } are not used.\n",
            "\n",
            "  warnings.warn(smsg, UserWarning)\n",
            "c:\\Users\\domdd\\Documents\\GitHub\\Soy-Crush\\.venv\\Lib\\site-packages\\xgboost\\core.py:158: UserWarning: [11:37:25] WARNING: C:\\buildkite-agent\\builds\\buildkite-windows-cpu-autoscaling-group-i-08cbc0333d8d4aae1-1\\xgboost\\xgboost-ci-windows\\src\\learner.cc:740: \n",
            "Parameters: { \"colsample_bytree\", \"gamma\", \"max_depth\", \"min_child_weight\", \"subsample\" } are not used.\n",
            "\n",
            "  warnings.warn(smsg, UserWarning)\n",
            "Best trial: 18. Best value: 0.709715:  33%|███▎      | 33/100 [36:23<12:16, 10.99s/it]"
          ]
        },
        {
          "name": "stdout",
          "output_type": "stream",
          "text": [
            "[I 2025-02-09 11:37:25,460] Trial 32 finished with value: 0.6851876848453022 and parameters: {'booster': 'gblinear', 'max_depth': 9, 'learning_rate': 0.05991069164735111, 'n_estimators': 900, 'subsample': 0.6234406161137063, 'colsample_bytree': 0.9974486676908215, 'reg_alpha': 0.026019159596425645, 'reg_lambda': 4.615753362822986e-07, 'min_child_weight': 2, 'gamma': 0.16925269499851167}. Best is trial 18 with value: 0.7097151214215088.\n"
          ]
        },
        {
          "name": "stderr",
          "output_type": "stream",
          "text": [
            "c:\\Users\\domdd\\Documents\\GitHub\\Soy-Crush\\.venv\\Lib\\site-packages\\xgboost\\core.py:158: UserWarning: [11:37:25] WARNING: C:\\buildkite-agent\\builds\\buildkite-windows-cpu-autoscaling-group-i-08cbc0333d8d4aae1-1\\xgboost\\xgboost-ci-windows\\src\\learner.cc:740: \n",
            "Parameters: { \"colsample_bytree\", \"gamma\", \"max_depth\", \"min_child_weight\", \"subsample\" } are not used.\n",
            "\n",
            "  warnings.warn(smsg, UserWarning)\n",
            "c:\\Users\\domdd\\Documents\\GitHub\\Soy-Crush\\.venv\\Lib\\site-packages\\xgboost\\core.py:158: UserWarning: [11:37:26] WARNING: C:\\buildkite-agent\\builds\\buildkite-windows-cpu-autoscaling-group-i-08cbc0333d8d4aae1-1\\xgboost\\xgboost-ci-windows\\src\\learner.cc:740: \n",
            "Parameters: { \"colsample_bytree\", \"gamma\", \"max_depth\", \"min_child_weight\", \"subsample\" } are not used.\n",
            "\n",
            "  warnings.warn(smsg, UserWarning)\n",
            "c:\\Users\\domdd\\Documents\\GitHub\\Soy-Crush\\.venv\\Lib\\site-packages\\xgboost\\core.py:158: UserWarning: [11:37:26] WARNING: C:\\buildkite-agent\\builds\\buildkite-windows-cpu-autoscaling-group-i-08cbc0333d8d4aae1-1\\xgboost\\xgboost-ci-windows\\src\\learner.cc:740: \n",
            "Parameters: { \"colsample_bytree\", \"gamma\", \"max_depth\", \"min_child_weight\", \"subsample\" } are not used.\n",
            "\n",
            "  warnings.warn(smsg, UserWarning)\n",
            "c:\\Users\\domdd\\Documents\\GitHub\\Soy-Crush\\.venv\\Lib\\site-packages\\xgboost\\core.py:158: UserWarning: [11:37:26] WARNING: C:\\buildkite-agent\\builds\\buildkite-windows-cpu-autoscaling-group-i-08cbc0333d8d4aae1-1\\xgboost\\xgboost-ci-windows\\src\\learner.cc:740: \n",
            "Parameters: { \"colsample_bytree\", \"gamma\", \"max_depth\", \"min_child_weight\", \"subsample\" } are not used.\n",
            "\n",
            "  warnings.warn(smsg, UserWarning)\n",
            "c:\\Users\\domdd\\Documents\\GitHub\\Soy-Crush\\.venv\\Lib\\site-packages\\xgboost\\core.py:158: UserWarning: [11:37:27] WARNING: C:\\buildkite-agent\\builds\\buildkite-windows-cpu-autoscaling-group-i-08cbc0333d8d4aae1-1\\xgboost\\xgboost-ci-windows\\src\\learner.cc:740: \n",
            "Parameters: { \"colsample_bytree\", \"gamma\", \"max_depth\", \"min_child_weight\", \"subsample\" } are not used.\n",
            "\n",
            "  warnings.warn(smsg, UserWarning)\n",
            "Best trial: 18. Best value: 0.709715:  34%|███▍      | 34/100 [36:25<09:07,  8.30s/it]"
          ]
        },
        {
          "name": "stdout",
          "output_type": "stream",
          "text": [
            "[I 2025-02-09 11:37:27,481] Trial 33 finished with value: 0.6976798952987268 and parameters: {'booster': 'gblinear', 'max_depth': 10, 'learning_rate': 0.03191006242259407, 'n_estimators': 750, 'subsample': 0.6706158208671965, 'colsample_bytree': 0.9366954284093197, 'reg_alpha': 4.427858592977065e-08, 'reg_lambda': 2.0994614663751405e-07, 'min_child_weight': 1, 'gamma': 0.8068049814126705}. Best is trial 18 with value: 0.7097151214215088.\n"
          ]
        },
        {
          "name": "stderr",
          "output_type": "stream",
          "text": [
            "c:\\Users\\domdd\\Documents\\GitHub\\Soy-Crush\\.venv\\Lib\\site-packages\\xgboost\\core.py:158: UserWarning: [11:37:27] WARNING: C:\\buildkite-agent\\builds\\buildkite-windows-cpu-autoscaling-group-i-08cbc0333d8d4aae1-1\\xgboost\\xgboost-ci-windows\\src\\learner.cc:740: \n",
            "Parameters: { \"colsample_bytree\", \"gamma\", \"max_depth\", \"min_child_weight\", \"subsample\" } are not used.\n",
            "\n",
            "  warnings.warn(smsg, UserWarning)\n",
            "c:\\Users\\domdd\\Documents\\GitHub\\Soy-Crush\\.venv\\Lib\\site-packages\\xgboost\\core.py:158: UserWarning: [11:37:28] WARNING: C:\\buildkite-agent\\builds\\buildkite-windows-cpu-autoscaling-group-i-08cbc0333d8d4aae1-1\\xgboost\\xgboost-ci-windows\\src\\learner.cc:740: \n",
            "Parameters: { \"colsample_bytree\", \"gamma\", \"max_depth\", \"min_child_weight\", \"subsample\" } are not used.\n",
            "\n",
            "  warnings.warn(smsg, UserWarning)\n",
            "c:\\Users\\domdd\\Documents\\GitHub\\Soy-Crush\\.venv\\Lib\\site-packages\\xgboost\\core.py:158: UserWarning: [11:37:28] WARNING: C:\\buildkite-agent\\builds\\buildkite-windows-cpu-autoscaling-group-i-08cbc0333d8d4aae1-1\\xgboost\\xgboost-ci-windows\\src\\learner.cc:740: \n",
            "Parameters: { \"colsample_bytree\", \"gamma\", \"max_depth\", \"min_child_weight\", \"subsample\" } are not used.\n",
            "\n",
            "  warnings.warn(smsg, UserWarning)\n",
            "c:\\Users\\domdd\\Documents\\GitHub\\Soy-Crush\\.venv\\Lib\\site-packages\\xgboost\\core.py:158: UserWarning: [11:37:28] WARNING: C:\\buildkite-agent\\builds\\buildkite-windows-cpu-autoscaling-group-i-08cbc0333d8d4aae1-1\\xgboost\\xgboost-ci-windows\\src\\learner.cc:740: \n",
            "Parameters: { \"colsample_bytree\", \"gamma\", \"max_depth\", \"min_child_weight\", \"subsample\" } are not used.\n",
            "\n",
            "  warnings.warn(smsg, UserWarning)\n",
            "c:\\Users\\domdd\\Documents\\GitHub\\Soy-Crush\\.venv\\Lib\\site-packages\\xgboost\\core.py:158: UserWarning: [11:37:29] WARNING: C:\\buildkite-agent\\builds\\buildkite-windows-cpu-autoscaling-group-i-08cbc0333d8d4aae1-1\\xgboost\\xgboost-ci-windows\\src\\learner.cc:740: \n",
            "Parameters: { \"colsample_bytree\", \"gamma\", \"max_depth\", \"min_child_weight\", \"subsample\" } are not used.\n",
            "\n",
            "  warnings.warn(smsg, UserWarning)\n",
            "Best trial: 18. Best value: 0.709715:  35%|███▌      | 35/100 [36:27<06:50,  6.32s/it]"
          ]
        },
        {
          "name": "stdout",
          "output_type": "stream",
          "text": [
            "[I 2025-02-09 11:37:29,187] Trial 34 finished with value: 0.6882251850616798 and parameters: {'booster': 'gblinear', 'max_depth': 9, 'learning_rate': 0.02438088525070111, 'n_estimators': 350, 'subsample': 0.7953376896868828, 'colsample_bytree': 0.971433830079526, 'reg_alpha': 0.007449565803472447, 'reg_lambda': 9.371379683454933e-06, 'min_child_weight': 2, 'gamma': 0.2853178283435019}. Best is trial 18 with value: 0.7097151214215088.\n"
          ]
        },
        {
          "name": "stderr",
          "output_type": "stream",
          "text": [
            "Best trial: 18. Best value: 0.709715:  36%|███▌      | 36/100 [36:37<07:54,  7.42s/it]"
          ]
        },
        {
          "name": "stdout",
          "output_type": "stream",
          "text": [
            "[I 2025-02-09 11:37:39,169] Trial 35 finished with value: 0.6431244483052907 and parameters: {'booster': 'gbtree', 'max_depth': 10, 'learning_rate': 0.016904720250999056, 'n_estimators': 1200, 'subsample': 0.7078351690816, 'colsample_bytree': 0.8839010777771331, 'reg_alpha': 0.051974732115392774, 'reg_lambda': 1.4766943773925896e-06, 'min_child_weight': 3, 'gamma': 0.020241307365793732}. Best is trial 18 with value: 0.7097151214215088.\n"
          ]
        },
        {
          "name": "stderr",
          "output_type": "stream",
          "text": [
            "c:\\Users\\domdd\\Documents\\GitHub\\Soy-Crush\\.venv\\Lib\\site-packages\\xgboost\\core.py:158: UserWarning: [11:37:39] WARNING: C:\\buildkite-agent\\builds\\buildkite-windows-cpu-autoscaling-group-i-08cbc0333d8d4aae1-1\\xgboost\\xgboost-ci-windows\\src\\learner.cc:740: \n",
            "Parameters: { \"colsample_bytree\", \"gamma\", \"max_depth\", \"min_child_weight\", \"subsample\" } are not used.\n",
            "\n",
            "  warnings.warn(smsg, UserWarning)\n",
            "c:\\Users\\domdd\\Documents\\GitHub\\Soy-Crush\\.venv\\Lib\\site-packages\\xgboost\\core.py:158: UserWarning: [11:37:39] WARNING: C:\\buildkite-agent\\builds\\buildkite-windows-cpu-autoscaling-group-i-08cbc0333d8d4aae1-1\\xgboost\\xgboost-ci-windows\\src\\learner.cc:740: \n",
            "Parameters: { \"colsample_bytree\", \"gamma\", \"max_depth\", \"min_child_weight\", \"subsample\" } are not used.\n",
            "\n",
            "  warnings.warn(smsg, UserWarning)\n",
            "c:\\Users\\domdd\\Documents\\GitHub\\Soy-Crush\\.venv\\Lib\\site-packages\\xgboost\\core.py:158: UserWarning: [11:37:40] WARNING: C:\\buildkite-agent\\builds\\buildkite-windows-cpu-autoscaling-group-i-08cbc0333d8d4aae1-1\\xgboost\\xgboost-ci-windows\\src\\learner.cc:740: \n",
            "Parameters: { \"colsample_bytree\", \"gamma\", \"max_depth\", \"min_child_weight\", \"subsample\" } are not used.\n",
            "\n",
            "  warnings.warn(smsg, UserWarning)\n",
            "c:\\Users\\domdd\\Documents\\GitHub\\Soy-Crush\\.venv\\Lib\\site-packages\\xgboost\\core.py:158: UserWarning: [11:37:40] WARNING: C:\\buildkite-agent\\builds\\buildkite-windows-cpu-autoscaling-group-i-08cbc0333d8d4aae1-1\\xgboost\\xgboost-ci-windows\\src\\learner.cc:740: \n",
            "Parameters: { \"colsample_bytree\", \"gamma\", \"max_depth\", \"min_child_weight\", \"subsample\" } are not used.\n",
            "\n",
            "  warnings.warn(smsg, UserWarning)\n",
            "c:\\Users\\domdd\\Documents\\GitHub\\Soy-Crush\\.venv\\Lib\\site-packages\\xgboost\\core.py:158: UserWarning: [11:37:40] WARNING: C:\\buildkite-agent\\builds\\buildkite-windows-cpu-autoscaling-group-i-08cbc0333d8d4aae1-1\\xgboost\\xgboost-ci-windows\\src\\learner.cc:740: \n",
            "Parameters: { \"colsample_bytree\", \"gamma\", \"max_depth\", \"min_child_weight\", \"subsample\" } are not used.\n",
            "\n",
            "  warnings.warn(smsg, UserWarning)\n",
            "Best trial: 18. Best value: 0.709715:  37%|███▋      | 37/100 [36:39<06:02,  5.75s/it]"
          ]
        },
        {
          "name": "stdout",
          "output_type": "stream",
          "text": [
            "[I 2025-02-09 11:37:41,025] Trial 36 finished with value: 0.6924484396548055 and parameters: {'booster': 'gblinear', 'max_depth': 5, 'learning_rate': 0.065299698216689, 'n_estimators': 250, 'subsample': 0.5724644220128361, 'colsample_bytree': 0.9997404081011161, 'reg_alpha': 0.0004079734454804137, 'reg_lambda': 6.659412916501231e-08, 'min_child_weight': 1, 'gamma': 0.0016802264574097916}. Best is trial 18 with value: 0.7097151214215088.\n"
          ]
        },
        {
          "name": "stderr",
          "output_type": "stream",
          "text": [
            "c:\\Users\\domdd\\Documents\\GitHub\\Soy-Crush\\.venv\\Lib\\site-packages\\xgboost\\core.py:158: UserWarning: [11:37:41] WARNING: C:\\buildkite-agent\\builds\\buildkite-windows-cpu-autoscaling-group-i-08cbc0333d8d4aae1-1\\xgboost\\xgboost-ci-windows\\src\\learner.cc:740: \n",
            "Parameters: { \"colsample_bytree\", \"gamma\", \"max_depth\", \"min_child_weight\", \"subsample\" } are not used.\n",
            "\n",
            "  warnings.warn(smsg, UserWarning)\n",
            "c:\\Users\\domdd\\Documents\\GitHub\\Soy-Crush\\.venv\\Lib\\site-packages\\xgboost\\core.py:158: UserWarning: [11:37:41] WARNING: C:\\buildkite-agent\\builds\\buildkite-windows-cpu-autoscaling-group-i-08cbc0333d8d4aae1-1\\xgboost\\xgboost-ci-windows\\src\\learner.cc:740: \n",
            "Parameters: { \"colsample_bytree\", \"gamma\", \"max_depth\", \"min_child_weight\", \"subsample\" } are not used.\n",
            "\n",
            "  warnings.warn(smsg, UserWarning)\n",
            "c:\\Users\\domdd\\Documents\\GitHub\\Soy-Crush\\.venv\\Lib\\site-packages\\xgboost\\core.py:158: UserWarning: [11:37:42] WARNING: C:\\buildkite-agent\\builds\\buildkite-windows-cpu-autoscaling-group-i-08cbc0333d8d4aae1-1\\xgboost\\xgboost-ci-windows\\src\\learner.cc:740: \n",
            "Parameters: { \"colsample_bytree\", \"gamma\", \"max_depth\", \"min_child_weight\", \"subsample\" } are not used.\n",
            "\n",
            "  warnings.warn(smsg, UserWarning)\n",
            "c:\\Users\\domdd\\Documents\\GitHub\\Soy-Crush\\.venv\\Lib\\site-packages\\xgboost\\core.py:158: UserWarning: [11:37:42] WARNING: C:\\buildkite-agent\\builds\\buildkite-windows-cpu-autoscaling-group-i-08cbc0333d8d4aae1-1\\xgboost\\xgboost-ci-windows\\src\\learner.cc:740: \n",
            "Parameters: { \"colsample_bytree\", \"gamma\", \"max_depth\", \"min_child_weight\", \"subsample\" } are not used.\n",
            "\n",
            "  warnings.warn(smsg, UserWarning)\n",
            "c:\\Users\\domdd\\Documents\\GitHub\\Soy-Crush\\.venv\\Lib\\site-packages\\xgboost\\core.py:158: UserWarning: [11:37:42] WARNING: C:\\buildkite-agent\\builds\\buildkite-windows-cpu-autoscaling-group-i-08cbc0333d8d4aae1-1\\xgboost\\xgboost-ci-windows\\src\\learner.cc:740: \n",
            "Parameters: { \"colsample_bytree\", \"gamma\", \"max_depth\", \"min_child_weight\", \"subsample\" } are not used.\n",
            "\n",
            "  warnings.warn(smsg, UserWarning)\n",
            "Best trial: 18. Best value: 0.709715:  38%|███▊      | 38/100 [36:41<04:45,  4.60s/it]"
          ]
        },
        {
          "name": "stdout",
          "output_type": "stream",
          "text": [
            "[I 2025-02-09 11:37:42,947] Trial 37 finished with value: 0.6965185290036544 and parameters: {'booster': 'gblinear', 'max_depth': 8, 'learning_rate': 0.04064010303763071, 'n_estimators': 550, 'subsample': 0.5103572188438653, 'colsample_bytree': 0.7860696528723421, 'reg_alpha': 1.2078279914363878e-08, 'reg_lambda': 6.370713576543464e-05, 'min_child_weight': 4, 'gamma': 0.00552214716994507}. Best is trial 18 with value: 0.7097151214215088.\n"
          ]
        },
        {
          "name": "stderr",
          "output_type": "stream",
          "text": [
            "c:\\Users\\domdd\\Documents\\GitHub\\Soy-Crush\\.venv\\Lib\\site-packages\\xgboost\\core.py:158: UserWarning: [11:37:43] WARNING: C:\\buildkite-agent\\builds\\buildkite-windows-cpu-autoscaling-group-i-08cbc0333d8d4aae1-1\\xgboost\\xgboost-ci-windows\\src\\learner.cc:740: \n",
            "Parameters: { \"colsample_bytree\", \"gamma\", \"max_depth\", \"min_child_weight\", \"subsample\" } are not used.\n",
            "\n",
            "  warnings.warn(smsg, UserWarning)\n",
            "c:\\Users\\domdd\\Documents\\GitHub\\Soy-Crush\\.venv\\Lib\\site-packages\\xgboost\\core.py:158: UserWarning: [11:37:43] WARNING: C:\\buildkite-agent\\builds\\buildkite-windows-cpu-autoscaling-group-i-08cbc0333d8d4aae1-1\\xgboost\\xgboost-ci-windows\\src\\learner.cc:740: \n",
            "Parameters: { \"colsample_bytree\", \"gamma\", \"max_depth\", \"min_child_weight\", \"subsample\" } are not used.\n",
            "\n",
            "  warnings.warn(smsg, UserWarning)\n",
            "c:\\Users\\domdd\\Documents\\GitHub\\Soy-Crush\\.venv\\Lib\\site-packages\\xgboost\\core.py:158: UserWarning: [11:37:44] WARNING: C:\\buildkite-agent\\builds\\buildkite-windows-cpu-autoscaling-group-i-08cbc0333d8d4aae1-1\\xgboost\\xgboost-ci-windows\\src\\learner.cc:740: \n",
            "Parameters: { \"colsample_bytree\", \"gamma\", \"max_depth\", \"min_child_weight\", \"subsample\" } are not used.\n",
            "\n",
            "  warnings.warn(smsg, UserWarning)\n",
            "c:\\Users\\domdd\\Documents\\GitHub\\Soy-Crush\\.venv\\Lib\\site-packages\\xgboost\\core.py:158: UserWarning: [11:37:44] WARNING: C:\\buildkite-agent\\builds\\buildkite-windows-cpu-autoscaling-group-i-08cbc0333d8d4aae1-1\\xgboost\\xgboost-ci-windows\\src\\learner.cc:740: \n",
            "Parameters: { \"colsample_bytree\", \"gamma\", \"max_depth\", \"min_child_weight\", \"subsample\" } are not used.\n",
            "\n",
            "  warnings.warn(smsg, UserWarning)\n",
            "c:\\Users\\domdd\\Documents\\GitHub\\Soy-Crush\\.venv\\Lib\\site-packages\\xgboost\\core.py:158: UserWarning: [11:37:44] WARNING: C:\\buildkite-agent\\builds\\buildkite-windows-cpu-autoscaling-group-i-08cbc0333d8d4aae1-1\\xgboost\\xgboost-ci-windows\\src\\learner.cc:740: \n",
            "Parameters: { \"colsample_bytree\", \"gamma\", \"max_depth\", \"min_child_weight\", \"subsample\" } are not used.\n",
            "\n",
            "  warnings.warn(smsg, UserWarning)\n",
            "Best trial: 18. Best value: 0.709715:  39%|███▉      | 39/100 [36:43<03:55,  3.86s/it]"
          ]
        },
        {
          "name": "stdout",
          "output_type": "stream",
          "text": [
            "[I 2025-02-09 11:37:45,088] Trial 38 finished with value: 0.706375781258205 and parameters: {'booster': 'gblinear', 'max_depth': 10, 'learning_rate': 0.07109136357042563, 'n_estimators': 800, 'subsample': 0.764255065234714, 'colsample_bytree': 0.8961323593563038, 'reg_alpha': 1.6904461346275235e-06, 'reg_lambda': 1.7700636072179295e-06, 'min_child_weight': 7, 'gamma': 0.04760499698357317}. Best is trial 18 with value: 0.7097151214215088.\n"
          ]
        },
        {
          "name": "stderr",
          "output_type": "stream",
          "text": [
            "Best trial: 18. Best value: 0.709715:  40%|████      | 40/100 [36:49<04:32,  4.54s/it]"
          ]
        },
        {
          "name": "stdout",
          "output_type": "stream",
          "text": [
            "[I 2025-02-09 11:37:51,210] Trial 39 finished with value: 0.6414046074891873 and parameters: {'booster': 'gbtree', 'max_depth': 9, 'learning_rate': 0.02067955581359387, 'n_estimators': 700, 'subsample': 0.6446553961583783, 'colsample_bytree': 0.8353618680983442, 'reg_alpha': 4.831995637067893e-05, 'reg_lambda': 1.8944033233387105e-08, 'min_child_weight': 3, 'gamma': 0.2576268041321363}. Best is trial 18 with value: 0.7097151214215088.\n"
          ]
        },
        {
          "name": "stderr",
          "output_type": "stream",
          "text": [
            "c:\\Users\\domdd\\Documents\\GitHub\\Soy-Crush\\.venv\\Lib\\site-packages\\xgboost\\core.py:158: UserWarning: [11:37:51] WARNING: C:\\buildkite-agent\\builds\\buildkite-windows-cpu-autoscaling-group-i-08cbc0333d8d4aae1-1\\xgboost\\xgboost-ci-windows\\src\\learner.cc:740: \n",
            "Parameters: { \"colsample_bytree\", \"gamma\", \"max_depth\", \"min_child_weight\", \"subsample\" } are not used.\n",
            "\n",
            "  warnings.warn(smsg, UserWarning)\n",
            "c:\\Users\\domdd\\Documents\\GitHub\\Soy-Crush\\.venv\\Lib\\site-packages\\xgboost\\core.py:158: UserWarning: [11:37:51] WARNING: C:\\buildkite-agent\\builds\\buildkite-windows-cpu-autoscaling-group-i-08cbc0333d8d4aae1-1\\xgboost\\xgboost-ci-windows\\src\\learner.cc:740: \n",
            "Parameters: { \"colsample_bytree\", \"gamma\", \"max_depth\", \"min_child_weight\", \"subsample\" } are not used.\n",
            "\n",
            "  warnings.warn(smsg, UserWarning)\n",
            "c:\\Users\\domdd\\Documents\\GitHub\\Soy-Crush\\.venv\\Lib\\site-packages\\xgboost\\core.py:158: UserWarning: [11:37:52] WARNING: C:\\buildkite-agent\\builds\\buildkite-windows-cpu-autoscaling-group-i-08cbc0333d8d4aae1-1\\xgboost\\xgboost-ci-windows\\src\\learner.cc:740: \n",
            "Parameters: { \"colsample_bytree\", \"gamma\", \"max_depth\", \"min_child_weight\", \"subsample\" } are not used.\n",
            "\n",
            "  warnings.warn(smsg, UserWarning)\n",
            "c:\\Users\\domdd\\Documents\\GitHub\\Soy-Crush\\.venv\\Lib\\site-packages\\xgboost\\core.py:158: UserWarning: [11:37:52] WARNING: C:\\buildkite-agent\\builds\\buildkite-windows-cpu-autoscaling-group-i-08cbc0333d8d4aae1-1\\xgboost\\xgboost-ci-windows\\src\\learner.cc:740: \n",
            "Parameters: { \"colsample_bytree\", \"gamma\", \"max_depth\", \"min_child_weight\", \"subsample\" } are not used.\n",
            "\n",
            "  warnings.warn(smsg, UserWarning)\n",
            "c:\\Users\\domdd\\Documents\\GitHub\\Soy-Crush\\.venv\\Lib\\site-packages\\xgboost\\core.py:158: UserWarning: [11:37:52] WARNING: C:\\buildkite-agent\\builds\\buildkite-windows-cpu-autoscaling-group-i-08cbc0333d8d4aae1-1\\xgboost\\xgboost-ci-windows\\src\\learner.cc:740: \n",
            "Parameters: { \"colsample_bytree\", \"gamma\", \"max_depth\", \"min_child_weight\", \"subsample\" } are not used.\n",
            "\n",
            "  warnings.warn(smsg, UserWarning)\n",
            "Best trial: 18. Best value: 0.709715:  41%|████      | 41/100 [36:51<03:39,  3.72s/it]"
          ]
        },
        {
          "name": "stdout",
          "output_type": "stream",
          "text": [
            "[I 2025-02-09 11:37:53,020] Trial 40 finished with value: 0.6518294929468509 and parameters: {'booster': 'gblinear', 'max_depth': 3, 'learning_rate': 0.010941336074848833, 'n_estimators': 450, 'subsample': 0.7381475299223493, 'colsample_bytree': 0.702095296928637, 'reg_alpha': 1.3895721247876295e-07, 'reg_lambda': 0.00021754892463408737, 'min_child_weight': 2, 'gamma': 3.417190040432078e-06}. Best is trial 18 with value: 0.7097151214215088.\n"
          ]
        },
        {
          "name": "stderr",
          "output_type": "stream",
          "text": [
            "c:\\Users\\domdd\\Documents\\GitHub\\Soy-Crush\\.venv\\Lib\\site-packages\\xgboost\\core.py:158: UserWarning: [11:37:53] WARNING: C:\\buildkite-agent\\builds\\buildkite-windows-cpu-autoscaling-group-i-08cbc0333d8d4aae1-1\\xgboost\\xgboost-ci-windows\\src\\learner.cc:740: \n",
            "Parameters: { \"colsample_bytree\", \"gamma\", \"max_depth\", \"min_child_weight\", \"subsample\" } are not used.\n",
            "\n",
            "  warnings.warn(smsg, UserWarning)\n",
            "c:\\Users\\domdd\\Documents\\GitHub\\Soy-Crush\\.venv\\Lib\\site-packages\\xgboost\\core.py:158: UserWarning: [11:37:53] WARNING: C:\\buildkite-agent\\builds\\buildkite-windows-cpu-autoscaling-group-i-08cbc0333d8d4aae1-1\\xgboost\\xgboost-ci-windows\\src\\learner.cc:740: \n",
            "Parameters: { \"colsample_bytree\", \"gamma\", \"max_depth\", \"min_child_weight\", \"subsample\" } are not used.\n",
            "\n",
            "  warnings.warn(smsg, UserWarning)\n",
            "c:\\Users\\domdd\\Documents\\GitHub\\Soy-Crush\\.venv\\Lib\\site-packages\\xgboost\\core.py:158: UserWarning: [11:37:54] WARNING: C:\\buildkite-agent\\builds\\buildkite-windows-cpu-autoscaling-group-i-08cbc0333d8d4aae1-1\\xgboost\\xgboost-ci-windows\\src\\learner.cc:740: \n",
            "Parameters: { \"colsample_bytree\", \"gamma\", \"max_depth\", \"min_child_weight\", \"subsample\" } are not used.\n",
            "\n",
            "  warnings.warn(smsg, UserWarning)\n",
            "c:\\Users\\domdd\\Documents\\GitHub\\Soy-Crush\\.venv\\Lib\\site-packages\\xgboost\\core.py:158: UserWarning: [11:37:54] WARNING: C:\\buildkite-agent\\builds\\buildkite-windows-cpu-autoscaling-group-i-08cbc0333d8d4aae1-1\\xgboost\\xgboost-ci-windows\\src\\learner.cc:740: \n",
            "Parameters: { \"colsample_bytree\", \"gamma\", \"max_depth\", \"min_child_weight\", \"subsample\" } are not used.\n",
            "\n",
            "  warnings.warn(smsg, UserWarning)\n",
            "c:\\Users\\domdd\\Documents\\GitHub\\Soy-Crush\\.venv\\Lib\\site-packages\\xgboost\\core.py:158: UserWarning: [11:37:55] WARNING: C:\\buildkite-agent\\builds\\buildkite-windows-cpu-autoscaling-group-i-08cbc0333d8d4aae1-1\\xgboost\\xgboost-ci-windows\\src\\learner.cc:740: \n",
            "Parameters: { \"colsample_bytree\", \"gamma\", \"max_depth\", \"min_child_weight\", \"subsample\" } are not used.\n",
            "\n",
            "  warnings.warn(smsg, UserWarning)\n",
            "Best trial: 18. Best value: 0.709715:  42%|████▏     | 42/100 [36:53<03:08,  3.25s/it]"
          ]
        },
        {
          "name": "stdout",
          "output_type": "stream",
          "text": [
            "[I 2025-02-09 11:37:55,180] Trial 41 finished with value: 0.7072098297136952 and parameters: {'booster': 'gblinear', 'max_depth': 10, 'learning_rate': 0.07916346858567132, 'n_estimators': 900, 'subsample': 0.8304428303746434, 'colsample_bytree': 0.8776565244019618, 'reg_alpha': 1.4653060730091117e-05, 'reg_lambda': 1.4224251658767862e-05, 'min_child_weight': 4, 'gamma': 3.4997708714995365e-05}. Best is trial 18 with value: 0.7097151214215088.\n"
          ]
        },
        {
          "name": "stderr",
          "output_type": "stream",
          "text": [
            "c:\\Users\\domdd\\Documents\\GitHub\\Soy-Crush\\.venv\\Lib\\site-packages\\xgboost\\core.py:158: UserWarning: [11:37:55] WARNING: C:\\buildkite-agent\\builds\\buildkite-windows-cpu-autoscaling-group-i-08cbc0333d8d4aae1-1\\xgboost\\xgboost-ci-windows\\src\\learner.cc:740: \n",
            "Parameters: { \"colsample_bytree\", \"gamma\", \"max_depth\", \"min_child_weight\", \"subsample\" } are not used.\n",
            "\n",
            "  warnings.warn(smsg, UserWarning)\n",
            "c:\\Users\\domdd\\Documents\\GitHub\\Soy-Crush\\.venv\\Lib\\site-packages\\xgboost\\core.py:158: UserWarning: [11:37:55] WARNING: C:\\buildkite-agent\\builds\\buildkite-windows-cpu-autoscaling-group-i-08cbc0333d8d4aae1-1\\xgboost\\xgboost-ci-windows\\src\\learner.cc:740: \n",
            "Parameters: { \"colsample_bytree\", \"gamma\", \"max_depth\", \"min_child_weight\", \"subsample\" } are not used.\n",
            "\n",
            "  warnings.warn(smsg, UserWarning)\n",
            "c:\\Users\\domdd\\Documents\\GitHub\\Soy-Crush\\.venv\\Lib\\site-packages\\xgboost\\core.py:158: UserWarning: [11:37:56] WARNING: C:\\buildkite-agent\\builds\\buildkite-windows-cpu-autoscaling-group-i-08cbc0333d8d4aae1-1\\xgboost\\xgboost-ci-windows\\src\\learner.cc:740: \n",
            "Parameters: { \"colsample_bytree\", \"gamma\", \"max_depth\", \"min_child_weight\", \"subsample\" } are not used.\n",
            "\n",
            "  warnings.warn(smsg, UserWarning)\n",
            "c:\\Users\\domdd\\Documents\\GitHub\\Soy-Crush\\.venv\\Lib\\site-packages\\xgboost\\core.py:158: UserWarning: [11:37:56] WARNING: C:\\buildkite-agent\\builds\\buildkite-windows-cpu-autoscaling-group-i-08cbc0333d8d4aae1-1\\xgboost\\xgboost-ci-windows\\src\\learner.cc:740: \n",
            "Parameters: { \"colsample_bytree\", \"gamma\", \"max_depth\", \"min_child_weight\", \"subsample\" } are not used.\n",
            "\n",
            "  warnings.warn(smsg, UserWarning)\n",
            "c:\\Users\\domdd\\Documents\\GitHub\\Soy-Crush\\.venv\\Lib\\site-packages\\xgboost\\core.py:158: UserWarning: [11:37:57] WARNING: C:\\buildkite-agent\\builds\\buildkite-windows-cpu-autoscaling-group-i-08cbc0333d8d4aae1-1\\xgboost\\xgboost-ci-windows\\src\\learner.cc:740: \n",
            "Parameters: { \"colsample_bytree\", \"gamma\", \"max_depth\", \"min_child_weight\", \"subsample\" } are not used.\n",
            "\n",
            "  warnings.warn(smsg, UserWarning)\n",
            "Best trial: 18. Best value: 0.709715:  43%|████▎     | 43/100 [36:55<02:46,  2.93s/it]"
          ]
        },
        {
          "name": "stdout",
          "output_type": "stream",
          "text": [
            "[I 2025-02-09 11:37:57,352] Trial 42 finished with value: 0.7079544650659366 and parameters: {'booster': 'gblinear', 'max_depth': 10, 'learning_rate': 0.0981154976759386, 'n_estimators': 950, 'subsample': 0.9175718151674781, 'colsample_bytree': 0.9250286969330105, 'reg_alpha': 1.0058272271649633e-05, 'reg_lambda': 3.349573965523923e-06, 'min_child_weight': 5, 'gamma': 3.3707069676105544e-05}. Best is trial 18 with value: 0.7097151214215088.\n"
          ]
        },
        {
          "name": "stderr",
          "output_type": "stream",
          "text": [
            "c:\\Users\\domdd\\Documents\\GitHub\\Soy-Crush\\.venv\\Lib\\site-packages\\xgboost\\core.py:158: UserWarning: [11:37:57] WARNING: C:\\buildkite-agent\\builds\\buildkite-windows-cpu-autoscaling-group-i-08cbc0333d8d4aae1-1\\xgboost\\xgboost-ci-windows\\src\\learner.cc:740: \n",
            "Parameters: { \"colsample_bytree\", \"gamma\", \"max_depth\", \"min_child_weight\", \"subsample\" } are not used.\n",
            "\n",
            "  warnings.warn(smsg, UserWarning)\n",
            "c:\\Users\\domdd\\Documents\\GitHub\\Soy-Crush\\.venv\\Lib\\site-packages\\xgboost\\core.py:158: UserWarning: [11:37:58] WARNING: C:\\buildkite-agent\\builds\\buildkite-windows-cpu-autoscaling-group-i-08cbc0333d8d4aae1-1\\xgboost\\xgboost-ci-windows\\src\\learner.cc:740: \n",
            "Parameters: { \"colsample_bytree\", \"gamma\", \"max_depth\", \"min_child_weight\", \"subsample\" } are not used.\n",
            "\n",
            "  warnings.warn(smsg, UserWarning)\n",
            "c:\\Users\\domdd\\Documents\\GitHub\\Soy-Crush\\.venv\\Lib\\site-packages\\xgboost\\core.py:158: UserWarning: [11:37:58] WARNING: C:\\buildkite-agent\\builds\\buildkite-windows-cpu-autoscaling-group-i-08cbc0333d8d4aae1-1\\xgboost\\xgboost-ci-windows\\src\\learner.cc:740: \n",
            "Parameters: { \"colsample_bytree\", \"gamma\", \"max_depth\", \"min_child_weight\", \"subsample\" } are not used.\n",
            "\n",
            "  warnings.warn(smsg, UserWarning)\n",
            "c:\\Users\\domdd\\Documents\\GitHub\\Soy-Crush\\.venv\\Lib\\site-packages\\xgboost\\core.py:158: UserWarning: [11:37:59] WARNING: C:\\buildkite-agent\\builds\\buildkite-windows-cpu-autoscaling-group-i-08cbc0333d8d4aae1-1\\xgboost\\xgboost-ci-windows\\src\\learner.cc:740: \n",
            "Parameters: { \"colsample_bytree\", \"gamma\", \"max_depth\", \"min_child_weight\", \"subsample\" } are not used.\n",
            "\n",
            "  warnings.warn(smsg, UserWarning)\n",
            "c:\\Users\\domdd\\Documents\\GitHub\\Soy-Crush\\.venv\\Lib\\site-packages\\xgboost\\core.py:158: UserWarning: [11:37:59] WARNING: C:\\buildkite-agent\\builds\\buildkite-windows-cpu-autoscaling-group-i-08cbc0333d8d4aae1-1\\xgboost\\xgboost-ci-windows\\src\\learner.cc:740: \n",
            "Parameters: { \"colsample_bytree\", \"gamma\", \"max_depth\", \"min_child_weight\", \"subsample\" } are not used.\n",
            "\n",
            "  warnings.warn(smsg, UserWarning)\n",
            "Best trial: 18. Best value: 0.709715:  44%|████▍     | 44/100 [36:57<02:33,  2.73s/it]"
          ]
        },
        {
          "name": "stdout",
          "output_type": "stream",
          "text": [
            "[I 2025-02-09 11:37:59,633] Trial 43 finished with value: 0.7091766915499971 and parameters: {'booster': 'gblinear', 'max_depth': 10, 'learning_rate': 0.04631944341393012, 'n_estimators': 1100, 'subsample': 0.9328627537134272, 'colsample_bytree': 0.9276309143330792, 'reg_alpha': 0.0027751293704413368, 'reg_lambda': 3.8783611226733076e-06, 'min_child_weight': 6, 'gamma': 0.0001801943619929158}. Best is trial 18 with value: 0.7097151214215088.\n"
          ]
        },
        {
          "name": "stderr",
          "output_type": "stream",
          "text": [
            "c:\\Users\\domdd\\Documents\\GitHub\\Soy-Crush\\.venv\\Lib\\site-packages\\xgboost\\core.py:158: UserWarning: [11:37:59] WARNING: C:\\buildkite-agent\\builds\\buildkite-windows-cpu-autoscaling-group-i-08cbc0333d8d4aae1-1\\xgboost\\xgboost-ci-windows\\src\\learner.cc:740: \n",
            "Parameters: { \"colsample_bytree\", \"gamma\", \"max_depth\", \"min_child_weight\", \"subsample\" } are not used.\n",
            "\n",
            "  warnings.warn(smsg, UserWarning)\n",
            "c:\\Users\\domdd\\Documents\\GitHub\\Soy-Crush\\.venv\\Lib\\site-packages\\xgboost\\core.py:158: UserWarning: [11:38:00] WARNING: C:\\buildkite-agent\\builds\\buildkite-windows-cpu-autoscaling-group-i-08cbc0333d8d4aae1-1\\xgboost\\xgboost-ci-windows\\src\\learner.cc:740: \n",
            "Parameters: { \"colsample_bytree\", \"gamma\", \"max_depth\", \"min_child_weight\", \"subsample\" } are not used.\n",
            "\n",
            "  warnings.warn(smsg, UserWarning)\n",
            "c:\\Users\\domdd\\Documents\\GitHub\\Soy-Crush\\.venv\\Lib\\site-packages\\xgboost\\core.py:158: UserWarning: [11:38:00] WARNING: C:\\buildkite-agent\\builds\\buildkite-windows-cpu-autoscaling-group-i-08cbc0333d8d4aae1-1\\xgboost\\xgboost-ci-windows\\src\\learner.cc:740: \n",
            "Parameters: { \"colsample_bytree\", \"gamma\", \"max_depth\", \"min_child_weight\", \"subsample\" } are not used.\n",
            "\n",
            "  warnings.warn(smsg, UserWarning)\n",
            "c:\\Users\\domdd\\Documents\\GitHub\\Soy-Crush\\.venv\\Lib\\site-packages\\xgboost\\core.py:158: UserWarning: [11:38:01] WARNING: C:\\buildkite-agent\\builds\\buildkite-windows-cpu-autoscaling-group-i-08cbc0333d8d4aae1-1\\xgboost\\xgboost-ci-windows\\src\\learner.cc:740: \n",
            "Parameters: { \"colsample_bytree\", \"gamma\", \"max_depth\", \"min_child_weight\", \"subsample\" } are not used.\n",
            "\n",
            "  warnings.warn(smsg, UserWarning)\n",
            "c:\\Users\\domdd\\Documents\\GitHub\\Soy-Crush\\.venv\\Lib\\site-packages\\xgboost\\core.py:158: UserWarning: [11:38:01] WARNING: C:\\buildkite-agent\\builds\\buildkite-windows-cpu-autoscaling-group-i-08cbc0333d8d4aae1-1\\xgboost\\xgboost-ci-windows\\src\\learner.cc:740: \n",
            "Parameters: { \"colsample_bytree\", \"gamma\", \"max_depth\", \"min_child_weight\", \"subsample\" } are not used.\n",
            "\n",
            "  warnings.warn(smsg, UserWarning)\n",
            "Best trial: 18. Best value: 0.709715:  45%|████▌     | 45/100 [37:00<02:23,  2.60s/it]"
          ]
        },
        {
          "name": "stdout",
          "output_type": "stream",
          "text": [
            "[I 2025-02-09 11:38:01,934] Trial 44 finished with value: 0.7084669591373748 and parameters: {'booster': 'gblinear', 'max_depth': 9, 'learning_rate': 0.09608523400773412, 'n_estimators': 1100, 'subsample': 0.8963644761765757, 'colsample_bytree': 0.9265407626388563, 'reg_alpha': 9.935260876673703e-05, 'reg_lambda': 3.4142759967537694e-06, 'min_child_weight': 6, 'gamma': 0.0001433135114130259}. Best is trial 18 with value: 0.7097151214215088.\n"
          ]
        },
        {
          "name": "stderr",
          "output_type": "stream",
          "text": [
            "c:\\Users\\domdd\\Documents\\GitHub\\Soy-Crush\\.venv\\Lib\\site-packages\\xgboost\\core.py:158: UserWarning: [11:38:02] WARNING: C:\\buildkite-agent\\builds\\buildkite-windows-cpu-autoscaling-group-i-08cbc0333d8d4aae1-1\\xgboost\\xgboost-ci-windows\\src\\learner.cc:740: \n",
            "Parameters: { \"colsample_bytree\", \"gamma\", \"max_depth\", \"min_child_weight\", \"subsample\" } are not used.\n",
            "\n",
            "  warnings.warn(smsg, UserWarning)\n",
            "c:\\Users\\domdd\\Documents\\GitHub\\Soy-Crush\\.venv\\Lib\\site-packages\\xgboost\\core.py:158: UserWarning: [11:38:02] WARNING: C:\\buildkite-agent\\builds\\buildkite-windows-cpu-autoscaling-group-i-08cbc0333d8d4aae1-1\\xgboost\\xgboost-ci-windows\\src\\learner.cc:740: \n",
            "Parameters: { \"colsample_bytree\", \"gamma\", \"max_depth\", \"min_child_weight\", \"subsample\" } are not used.\n",
            "\n",
            "  warnings.warn(smsg, UserWarning)\n",
            "c:\\Users\\domdd\\Documents\\GitHub\\Soy-Crush\\.venv\\Lib\\site-packages\\xgboost\\core.py:158: UserWarning: [11:38:03] WARNING: C:\\buildkite-agent\\builds\\buildkite-windows-cpu-autoscaling-group-i-08cbc0333d8d4aae1-1\\xgboost\\xgboost-ci-windows\\src\\learner.cc:740: \n",
            "Parameters: { \"colsample_bytree\", \"gamma\", \"max_depth\", \"min_child_weight\", \"subsample\" } are not used.\n",
            "\n",
            "  warnings.warn(smsg, UserWarning)\n",
            "c:\\Users\\domdd\\Documents\\GitHub\\Soy-Crush\\.venv\\Lib\\site-packages\\xgboost\\core.py:158: UserWarning: [11:38:03] WARNING: C:\\buildkite-agent\\builds\\buildkite-windows-cpu-autoscaling-group-i-08cbc0333d8d4aae1-1\\xgboost\\xgboost-ci-windows\\src\\learner.cc:740: \n",
            "Parameters: { \"colsample_bytree\", \"gamma\", \"max_depth\", \"min_child_weight\", \"subsample\" } are not used.\n",
            "\n",
            "  warnings.warn(smsg, UserWarning)\n",
            "c:\\Users\\domdd\\Documents\\GitHub\\Soy-Crush\\.venv\\Lib\\site-packages\\xgboost\\core.py:158: UserWarning: [11:38:04] WARNING: C:\\buildkite-agent\\builds\\buildkite-windows-cpu-autoscaling-group-i-08cbc0333d8d4aae1-1\\xgboost\\xgboost-ci-windows\\src\\learner.cc:740: \n",
            "Parameters: { \"colsample_bytree\", \"gamma\", \"max_depth\", \"min_child_weight\", \"subsample\" } are not used.\n",
            "\n",
            "  warnings.warn(smsg, UserWarning)\n",
            "Best trial: 18. Best value: 0.709715:  46%|████▌     | 46/100 [37:02<02:15,  2.51s/it]"
          ]
        },
        {
          "name": "stdout",
          "output_type": "stream",
          "text": [
            "[I 2025-02-09 11:38:04,226] Trial 45 finished with value: 0.5745101606536968 and parameters: {'booster': 'gblinear', 'max_depth': 10, 'learning_rate': 0.00033998132501727356, 'n_estimators': 1100, 'subsample': 0.9314083403919207, 'colsample_bytree': 0.927230417428412, 'reg_alpha': 0.00013282219578371004, 'reg_lambda': 3.3504958411818207e-06, 'min_child_weight': 6, 'gamma': 0.0001587793630052825}. Best is trial 18 with value: 0.7097151214215088.\n"
          ]
        },
        {
          "name": "stderr",
          "output_type": "stream",
          "text": [
            "c:\\Users\\domdd\\Documents\\GitHub\\Soy-Crush\\.venv\\Lib\\site-packages\\xgboost\\core.py:158: UserWarning: [11:38:04] WARNING: C:\\buildkite-agent\\builds\\buildkite-windows-cpu-autoscaling-group-i-08cbc0333d8d4aae1-1\\xgboost\\xgboost-ci-windows\\src\\learner.cc:740: \n",
            "Parameters: { \"colsample_bytree\", \"gamma\", \"max_depth\", \"min_child_weight\", \"subsample\" } are not used.\n",
            "\n",
            "  warnings.warn(smsg, UserWarning)\n",
            "c:\\Users\\domdd\\Documents\\GitHub\\Soy-Crush\\.venv\\Lib\\site-packages\\xgboost\\core.py:158: UserWarning: [11:38:05] WARNING: C:\\buildkite-agent\\builds\\buildkite-windows-cpu-autoscaling-group-i-08cbc0333d8d4aae1-1\\xgboost\\xgboost-ci-windows\\src\\learner.cc:740: \n",
            "Parameters: { \"colsample_bytree\", \"gamma\", \"max_depth\", \"min_child_weight\", \"subsample\" } are not used.\n",
            "\n",
            "  warnings.warn(smsg, UserWarning)\n",
            "c:\\Users\\domdd\\Documents\\GitHub\\Soy-Crush\\.venv\\Lib\\site-packages\\xgboost\\core.py:158: UserWarning: [11:38:05] WARNING: C:\\buildkite-agent\\builds\\buildkite-windows-cpu-autoscaling-group-i-08cbc0333d8d4aae1-1\\xgboost\\xgboost-ci-windows\\src\\learner.cc:740: \n",
            "Parameters: { \"colsample_bytree\", \"gamma\", \"max_depth\", \"min_child_weight\", \"subsample\" } are not used.\n",
            "\n",
            "  warnings.warn(smsg, UserWarning)\n",
            "c:\\Users\\domdd\\Documents\\GitHub\\Soy-Crush\\.venv\\Lib\\site-packages\\xgboost\\core.py:158: UserWarning: [11:38:05] WARNING: C:\\buildkite-agent\\builds\\buildkite-windows-cpu-autoscaling-group-i-08cbc0333d8d4aae1-1\\xgboost\\xgboost-ci-windows\\src\\learner.cc:740: \n",
            "Parameters: { \"colsample_bytree\", \"gamma\", \"max_depth\", \"min_child_weight\", \"subsample\" } are not used.\n",
            "\n",
            "  warnings.warn(smsg, UserWarning)\n",
            "c:\\Users\\domdd\\Documents\\GitHub\\Soy-Crush\\.venv\\Lib\\site-packages\\xgboost\\core.py:158: UserWarning: [11:38:06] WARNING: C:\\buildkite-agent\\builds\\buildkite-windows-cpu-autoscaling-group-i-08cbc0333d8d4aae1-1\\xgboost\\xgboost-ci-windows\\src\\learner.cc:740: \n",
            "Parameters: { \"colsample_bytree\", \"gamma\", \"max_depth\", \"min_child_weight\", \"subsample\" } are not used.\n",
            "\n",
            "  warnings.warn(smsg, UserWarning)\n",
            "Best trial: 18. Best value: 0.709715:  47%|████▋     | 47/100 [37:04<02:11,  2.48s/it]"
          ]
        },
        {
          "name": "stdout",
          "output_type": "stream",
          "text": [
            "[I 2025-02-09 11:38:06,630] Trial 46 finished with value: 0.6630441667239126 and parameters: {'booster': 'gblinear', 'max_depth': 7, 'learning_rate': 0.004483909611135352, 'n_estimators': 1250, 'subsample': 0.9183137848242924, 'colsample_bytree': 0.5829411475267142, 'reg_alpha': 0.002286513225465777, 'reg_lambda': 7.902969869964142e-07, 'min_child_weight': 8, 'gamma': 5.381479501901093e-06}. Best is trial 18 with value: 0.7097151214215088.\n"
          ]
        },
        {
          "name": "stderr",
          "output_type": "stream",
          "text": [
            "c:\\Users\\domdd\\Documents\\GitHub\\Soy-Crush\\.venv\\Lib\\site-packages\\xgboost\\core.py:158: UserWarning: [11:38:06] WARNING: C:\\buildkite-agent\\builds\\buildkite-windows-cpu-autoscaling-group-i-08cbc0333d8d4aae1-1\\xgboost\\xgboost-ci-windows\\src\\learner.cc:740: \n",
            "Parameters: { \"dropout_rate\" } are not used.\n",
            "\n",
            "  warnings.warn(smsg, UserWarning)\n",
            "c:\\Users\\domdd\\Documents\\GitHub\\Soy-Crush\\.venv\\Lib\\site-packages\\xgboost\\core.py:158: UserWarning: [11:41:37] WARNING: C:\\buildkite-agent\\builds\\buildkite-windows-cpu-autoscaling-group-i-08cbc0333d8d4aae1-1\\xgboost\\xgboost-ci-windows\\src\\learner.cc:740: \n",
            "Parameters: { \"dropout_rate\" } are not used.\n",
            "\n",
            "  warnings.warn(smsg, UserWarning)\n",
            "c:\\Users\\domdd\\Documents\\GitHub\\Soy-Crush\\.venv\\Lib\\site-packages\\xgboost\\core.py:158: UserWarning: [11:45:25] WARNING: C:\\buildkite-agent\\builds\\buildkite-windows-cpu-autoscaling-group-i-08cbc0333d8d4aae1-1\\xgboost\\xgboost-ci-windows\\src\\learner.cc:740: \n",
            "Parameters: { \"dropout_rate\" } are not used.\n",
            "\n",
            "  warnings.warn(smsg, UserWarning)\n",
            "c:\\Users\\domdd\\Documents\\GitHub\\Soy-Crush\\.venv\\Lib\\site-packages\\xgboost\\core.py:158: UserWarning: [11:48:51] WARNING: C:\\buildkite-agent\\builds\\buildkite-windows-cpu-autoscaling-group-i-08cbc0333d8d4aae1-1\\xgboost\\xgboost-ci-windows\\src\\learner.cc:740: \n",
            "Parameters: { \"dropout_rate\" } are not used.\n",
            "\n",
            "  warnings.warn(smsg, UserWarning)\n",
            "c:\\Users\\domdd\\Documents\\GitHub\\Soy-Crush\\.venv\\Lib\\site-packages\\xgboost\\core.py:158: UserWarning: [11:52:21] WARNING: C:\\buildkite-agent\\builds\\buildkite-windows-cpu-autoscaling-group-i-08cbc0333d8d4aae1-1\\xgboost\\xgboost-ci-windows\\src\\learner.cc:740: \n",
            "Parameters: { \"dropout_rate\" } are not used.\n",
            "\n",
            "  warnings.warn(smsg, UserWarning)\n",
            "Best trial: 18. Best value: 0.709715:  48%|████▊     | 48/100 [54:46<4:37:34, 320.28s/it]"
          ]
        },
        {
          "name": "stdout",
          "output_type": "stream",
          "text": [
            "[I 2025-02-09 11:55:48,454] Trial 47 finished with value: 0.6415832346809214 and parameters: {'booster': 'dart', 'max_depth': 4, 'learning_rate': 0.0477259438956832, 'n_estimators': 1350, 'subsample': 0.972776359409416, 'colsample_bytree': 0.9713087766848638, 'reg_alpha': 0.0005376544435672663, 'reg_lambda': 6.076598631983226e-05, 'min_child_weight': 6, 'gamma': 4.2649998046147976e-05, 'dropout_rate': 0.042396134035965094}. Best is trial 18 with value: 0.7097151214215088.\n"
          ]
        },
        {
          "name": "stderr",
          "output_type": "stream",
          "text": [
            "Best trial: 18. Best value: 0.709715:  49%|████▉     | 49/100 [54:52<3:11:58, 225.85s/it]"
          ]
        },
        {
          "name": "stdout",
          "output_type": "stream",
          "text": [
            "[I 2025-02-09 11:55:53,959] Trial 48 finished with value: 0.6385480009511451 and parameters: {'booster': 'gbtree', 'max_depth': 9, 'learning_rate': 0.09353573123191251, 'n_estimators': 1100, 'subsample': 0.9905026303323712, 'colsample_bytree': 0.9073633567452597, 'reg_alpha': 6.826661542765918e-05, 'reg_lambda': 2.6004485065693168e-06, 'min_child_weight': 5, 'gamma': 6.752484535064542e-07}. Best is trial 18 with value: 0.7097151214215088.\n"
          ]
        },
        {
          "name": "stderr",
          "output_type": "stream",
          "text": [
            "c:\\Users\\domdd\\Documents\\GitHub\\Soy-Crush\\.venv\\Lib\\site-packages\\xgboost\\core.py:158: UserWarning: [11:55:54] WARNING: C:\\buildkite-agent\\builds\\buildkite-windows-cpu-autoscaling-group-i-08cbc0333d8d4aae1-1\\xgboost\\xgboost-ci-windows\\src\\learner.cc:740: \n",
            "Parameters: { \"colsample_bytree\", \"gamma\", \"max_depth\", \"min_child_weight\", \"subsample\" } are not used.\n",
            "\n",
            "  warnings.warn(smsg, UserWarning)\n",
            "c:\\Users\\domdd\\Documents\\GitHub\\Soy-Crush\\.venv\\Lib\\site-packages\\xgboost\\core.py:158: UserWarning: [11:55:54] WARNING: C:\\buildkite-agent\\builds\\buildkite-windows-cpu-autoscaling-group-i-08cbc0333d8d4aae1-1\\xgboost\\xgboost-ci-windows\\src\\learner.cc:740: \n",
            "Parameters: { \"colsample_bytree\", \"gamma\", \"max_depth\", \"min_child_weight\", \"subsample\" } are not used.\n",
            "\n",
            "  warnings.warn(smsg, UserWarning)\n",
            "c:\\Users\\domdd\\Documents\\GitHub\\Soy-Crush\\.venv\\Lib\\site-packages\\xgboost\\core.py:158: UserWarning: [11:55:55] WARNING: C:\\buildkite-agent\\builds\\buildkite-windows-cpu-autoscaling-group-i-08cbc0333d8d4aae1-1\\xgboost\\xgboost-ci-windows\\src\\learner.cc:740: \n",
            "Parameters: { \"colsample_bytree\", \"gamma\", \"max_depth\", \"min_child_weight\", \"subsample\" } are not used.\n",
            "\n",
            "  warnings.warn(smsg, UserWarning)\n",
            "c:\\Users\\domdd\\Documents\\GitHub\\Soy-Crush\\.venv\\Lib\\site-packages\\xgboost\\core.py:158: UserWarning: [11:55:55] WARNING: C:\\buildkite-agent\\builds\\buildkite-windows-cpu-autoscaling-group-i-08cbc0333d8d4aae1-1\\xgboost\\xgboost-ci-windows\\src\\learner.cc:740: \n",
            "Parameters: { \"colsample_bytree\", \"gamma\", \"max_depth\", \"min_child_weight\", \"subsample\" } are not used.\n",
            "\n",
            "  warnings.warn(smsg, UserWarning)\n",
            "c:\\Users\\domdd\\Documents\\GitHub\\Soy-Crush\\.venv\\Lib\\site-packages\\xgboost\\core.py:158: UserWarning: [11:55:56] WARNING: C:\\buildkite-agent\\builds\\buildkite-windows-cpu-autoscaling-group-i-08cbc0333d8d4aae1-1\\xgboost\\xgboost-ci-windows\\src\\learner.cc:740: \n",
            "Parameters: { \"colsample_bytree\", \"gamma\", \"max_depth\", \"min_child_weight\", \"subsample\" } are not used.\n",
            "\n",
            "  warnings.warn(smsg, UserWarning)\n",
            "Best trial: 18. Best value: 0.709715:  50%|█████     | 50/100 [54:54<2:12:17, 158.75s/it]"
          ]
        },
        {
          "name": "stdout",
          "output_type": "stream",
          "text": [
            "[I 2025-02-09 11:55:56,161] Trial 49 finished with value: 0.7026793982021466 and parameters: {'booster': 'gblinear', 'max_depth': 6, 'learning_rate': 0.029007169039386965, 'n_estimators': 1200, 'subsample': 0.8957947352481246, 'colsample_bytree': 0.5016244049231713, 'reg_alpha': 0.000268527042012423, 'reg_lambda': 0.00017951342627245035, 'min_child_weight': 7, 'gamma': 0.00020872739290539948}. Best is trial 18 with value: 0.7097151214215088.\n"
          ]
        },
        {
          "name": "stderr",
          "output_type": "stream",
          "text": [
            "c:\\Users\\domdd\\Documents\\GitHub\\Soy-Crush\\.venv\\Lib\\site-packages\\xgboost\\core.py:158: UserWarning: [11:55:56] WARNING: C:\\buildkite-agent\\builds\\buildkite-windows-cpu-autoscaling-group-i-08cbc0333d8d4aae1-1\\xgboost\\xgboost-ci-windows\\src\\learner.cc:740: \n",
            "Parameters: { \"colsample_bytree\", \"gamma\", \"max_depth\", \"min_child_weight\", \"subsample\" } are not used.\n",
            "\n",
            "  warnings.warn(smsg, UserWarning)\n",
            "c:\\Users\\domdd\\Documents\\GitHub\\Soy-Crush\\.venv\\Lib\\site-packages\\xgboost\\core.py:158: UserWarning: [11:55:56] WARNING: C:\\buildkite-agent\\builds\\buildkite-windows-cpu-autoscaling-group-i-08cbc0333d8d4aae1-1\\xgboost\\xgboost-ci-windows\\src\\learner.cc:740: \n",
            "Parameters: { \"colsample_bytree\", \"gamma\", \"max_depth\", \"min_child_weight\", \"subsample\" } are not used.\n",
            "\n",
            "  warnings.warn(smsg, UserWarning)\n",
            "c:\\Users\\domdd\\Documents\\GitHub\\Soy-Crush\\.venv\\Lib\\site-packages\\xgboost\\core.py:158: UserWarning: [11:55:57] WARNING: C:\\buildkite-agent\\builds\\buildkite-windows-cpu-autoscaling-group-i-08cbc0333d8d4aae1-1\\xgboost\\xgboost-ci-windows\\src\\learner.cc:740: \n",
            "Parameters: { \"colsample_bytree\", \"gamma\", \"max_depth\", \"min_child_weight\", \"subsample\" } are not used.\n",
            "\n",
            "  warnings.warn(smsg, UserWarning)\n",
            "c:\\Users\\domdd\\Documents\\GitHub\\Soy-Crush\\.venv\\Lib\\site-packages\\xgboost\\core.py:158: UserWarning: [11:55:57] WARNING: C:\\buildkite-agent\\builds\\buildkite-windows-cpu-autoscaling-group-i-08cbc0333d8d4aae1-1\\xgboost\\xgboost-ci-windows\\src\\learner.cc:740: \n",
            "Parameters: { \"colsample_bytree\", \"gamma\", \"max_depth\", \"min_child_weight\", \"subsample\" } are not used.\n",
            "\n",
            "  warnings.warn(smsg, UserWarning)\n",
            "c:\\Users\\domdd\\Documents\\GitHub\\Soy-Crush\\.venv\\Lib\\site-packages\\xgboost\\core.py:158: UserWarning: [11:55:58] WARNING: C:\\buildkite-agent\\builds\\buildkite-windows-cpu-autoscaling-group-i-08cbc0333d8d4aae1-1\\xgboost\\xgboost-ci-windows\\src\\learner.cc:740: \n",
            "Parameters: { \"colsample_bytree\", \"gamma\", \"max_depth\", \"min_child_weight\", \"subsample\" } are not used.\n",
            "\n",
            "  warnings.warn(smsg, UserWarning)\n",
            "Best trial: 18. Best value: 0.709715:  51%|█████     | 51/100 [54:56<1:31:15, 111.74s/it]"
          ]
        },
        {
          "name": "stdout",
          "output_type": "stream",
          "text": [
            "[I 2025-02-09 11:55:58,194] Trial 50 finished with value: 0.5895368347231523 and parameters: {'booster': 'gblinear', 'max_depth': 8, 'learning_rate': 0.05442320082054409, 'n_estimators': 950, 'subsample': 0.8745949013881327, 'colsample_bytree': 0.8011624511963401, 'reg_alpha': 9.35029723403349e-06, 'reg_lambda': 0.18116097577131343, 'min_child_weight': 8, 'gamma': 0.0018028188798139269}. Best is trial 18 with value: 0.7097151214215088.\n"
          ]
        },
        {
          "name": "stderr",
          "output_type": "stream",
          "text": [
            "c:\\Users\\domdd\\Documents\\GitHub\\Soy-Crush\\.venv\\Lib\\site-packages\\xgboost\\core.py:158: UserWarning: [11:55:58] WARNING: C:\\buildkite-agent\\builds\\buildkite-windows-cpu-autoscaling-group-i-08cbc0333d8d4aae1-1\\xgboost\\xgboost-ci-windows\\src\\learner.cc:740: \n",
            "Parameters: { \"colsample_bytree\", \"gamma\", \"max_depth\", \"min_child_weight\", \"subsample\" } are not used.\n",
            "\n",
            "  warnings.warn(smsg, UserWarning)\n",
            "c:\\Users\\domdd\\Documents\\GitHub\\Soy-Crush\\.venv\\Lib\\site-packages\\xgboost\\core.py:158: UserWarning: [11:55:58] WARNING: C:\\buildkite-agent\\builds\\buildkite-windows-cpu-autoscaling-group-i-08cbc0333d8d4aae1-1\\xgboost\\xgboost-ci-windows\\src\\learner.cc:740: \n",
            "Parameters: { \"colsample_bytree\", \"gamma\", \"max_depth\", \"min_child_weight\", \"subsample\" } are not used.\n",
            "\n",
            "  warnings.warn(smsg, UserWarning)\n",
            "c:\\Users\\domdd\\Documents\\GitHub\\Soy-Crush\\.venv\\Lib\\site-packages\\xgboost\\core.py:158: UserWarning: [11:55:59] WARNING: C:\\buildkite-agent\\builds\\buildkite-windows-cpu-autoscaling-group-i-08cbc0333d8d4aae1-1\\xgboost\\xgboost-ci-windows\\src\\learner.cc:740: \n",
            "Parameters: { \"colsample_bytree\", \"gamma\", \"max_depth\", \"min_child_weight\", \"subsample\" } are not used.\n",
            "\n",
            "  warnings.warn(smsg, UserWarning)\n",
            "c:\\Users\\domdd\\Documents\\GitHub\\Soy-Crush\\.venv\\Lib\\site-packages\\xgboost\\core.py:158: UserWarning: [11:55:59] WARNING: C:\\buildkite-agent\\builds\\buildkite-windows-cpu-autoscaling-group-i-08cbc0333d8d4aae1-1\\xgboost\\xgboost-ci-windows\\src\\learner.cc:740: \n",
            "Parameters: { \"colsample_bytree\", \"gamma\", \"max_depth\", \"min_child_weight\", \"subsample\" } are not used.\n",
            "\n",
            "  warnings.warn(smsg, UserWarning)\n",
            "c:\\Users\\domdd\\Documents\\GitHub\\Soy-Crush\\.venv\\Lib\\site-packages\\xgboost\\core.py:158: UserWarning: [11:56:00] WARNING: C:\\buildkite-agent\\builds\\buildkite-windows-cpu-autoscaling-group-i-08cbc0333d8d4aae1-1\\xgboost\\xgboost-ci-windows\\src\\learner.cc:740: \n",
            "Parameters: { \"colsample_bytree\", \"gamma\", \"max_depth\", \"min_child_weight\", \"subsample\" } are not used.\n",
            "\n",
            "  warnings.warn(smsg, UserWarning)\n",
            "Best trial: 18. Best value: 0.709715:  52%|█████▏    | 52/100 [54:58<1:03:04, 78.84s/it] "
          ]
        },
        {
          "name": "stdout",
          "output_type": "stream",
          "text": [
            "[I 2025-02-09 11:56:00,260] Trial 51 finished with value: 0.7074216530082429 and parameters: {'booster': 'gblinear', 'max_depth': 9, 'learning_rate': 0.0751833374816964, 'n_estimators': 1050, 'subsample': 0.9528608547620291, 'colsample_bytree': 0.9353775446081589, 'reg_alpha': 2.0094586753617162e-06, 'reg_lambda': 8.234124568378984e-06, 'min_child_weight': 5, 'gamma': 7.055525903396957e-05}. Best is trial 18 with value: 0.7097151214215088.\n"
          ]
        },
        {
          "name": "stderr",
          "output_type": "stream",
          "text": [
            "c:\\Users\\domdd\\Documents\\GitHub\\Soy-Crush\\.venv\\Lib\\site-packages\\xgboost\\core.py:158: UserWarning: [11:56:00] WARNING: C:\\buildkite-agent\\builds\\buildkite-windows-cpu-autoscaling-group-i-08cbc0333d8d4aae1-1\\xgboost\\xgboost-ci-windows\\src\\learner.cc:740: \n",
            "Parameters: { \"colsample_bytree\", \"gamma\", \"max_depth\", \"min_child_weight\", \"subsample\" } are not used.\n",
            "\n",
            "  warnings.warn(smsg, UserWarning)\n",
            "c:\\Users\\domdd\\Documents\\GitHub\\Soy-Crush\\.venv\\Lib\\site-packages\\xgboost\\core.py:158: UserWarning: [11:56:00] WARNING: C:\\buildkite-agent\\builds\\buildkite-windows-cpu-autoscaling-group-i-08cbc0333d8d4aae1-1\\xgboost\\xgboost-ci-windows\\src\\learner.cc:740: \n",
            "Parameters: { \"colsample_bytree\", \"gamma\", \"max_depth\", \"min_child_weight\", \"subsample\" } are not used.\n",
            "\n",
            "  warnings.warn(smsg, UserWarning)\n",
            "c:\\Users\\domdd\\Documents\\GitHub\\Soy-Crush\\.venv\\Lib\\site-packages\\xgboost\\core.py:158: UserWarning: [11:56:01] WARNING: C:\\buildkite-agent\\builds\\buildkite-windows-cpu-autoscaling-group-i-08cbc0333d8d4aae1-1\\xgboost\\xgboost-ci-windows\\src\\learner.cc:740: \n",
            "Parameters: { \"colsample_bytree\", \"gamma\", \"max_depth\", \"min_child_weight\", \"subsample\" } are not used.\n",
            "\n",
            "  warnings.warn(smsg, UserWarning)\n",
            "c:\\Users\\domdd\\Documents\\GitHub\\Soy-Crush\\.venv\\Lib\\site-packages\\xgboost\\core.py:158: UserWarning: [11:56:01] WARNING: C:\\buildkite-agent\\builds\\buildkite-windows-cpu-autoscaling-group-i-08cbc0333d8d4aae1-1\\xgboost\\xgboost-ci-windows\\src\\learner.cc:740: \n",
            "Parameters: { \"colsample_bytree\", \"gamma\", \"max_depth\", \"min_child_weight\", \"subsample\" } are not used.\n",
            "\n",
            "  warnings.warn(smsg, UserWarning)\n",
            "c:\\Users\\domdd\\Documents\\GitHub\\Soy-Crush\\.venv\\Lib\\site-packages\\xgboost\\core.py:158: UserWarning: [11:56:02] WARNING: C:\\buildkite-agent\\builds\\buildkite-windows-cpu-autoscaling-group-i-08cbc0333d8d4aae1-1\\xgboost\\xgboost-ci-windows\\src\\learner.cc:740: \n",
            "Parameters: { \"colsample_bytree\", \"gamma\", \"max_depth\", \"min_child_weight\", \"subsample\" } are not used.\n",
            "\n",
            "  warnings.warn(smsg, UserWarning)\n",
            "Best trial: 18. Best value: 0.709715:  53%|█████▎    | 53/100 [55:00<43:42, 55.81s/it]  "
          ]
        },
        {
          "name": "stdout",
          "output_type": "stream",
          "text": [
            "[I 2025-02-09 11:56:02,335] Trial 52 finished with value: 0.7071608321188995 and parameters: {'booster': 'gblinear', 'max_depth': 10, 'learning_rate': 0.07154899469045703, 'n_estimators': 1000, 'subsample': 0.9292621686192379, 'colsample_bytree': 0.8560808788949473, 'reg_alpha': 9.86057228659236e-06, 'reg_lambda': 3.077851132131172e-05, 'min_child_weight': 6, 'gamma': 0.0004361251406677107}. Best is trial 18 with value: 0.7097151214215088.\n"
          ]
        },
        {
          "name": "stderr",
          "output_type": "stream",
          "text": [
            "c:\\Users\\domdd\\Documents\\GitHub\\Soy-Crush\\.venv\\Lib\\site-packages\\xgboost\\core.py:158: UserWarning: [11:56:02] WARNING: C:\\buildkite-agent\\builds\\buildkite-windows-cpu-autoscaling-group-i-08cbc0333d8d4aae1-1\\xgboost\\xgboost-ci-windows\\src\\learner.cc:740: \n",
            "Parameters: { \"colsample_bytree\", \"gamma\", \"max_depth\", \"min_child_weight\", \"subsample\" } are not used.\n",
            "\n",
            "  warnings.warn(smsg, UserWarning)\n",
            "c:\\Users\\domdd\\Documents\\GitHub\\Soy-Crush\\.venv\\Lib\\site-packages\\xgboost\\core.py:158: UserWarning: [11:56:03] WARNING: C:\\buildkite-agent\\builds\\buildkite-windows-cpu-autoscaling-group-i-08cbc0333d8d4aae1-1\\xgboost\\xgboost-ci-windows\\src\\learner.cc:740: \n",
            "Parameters: { \"colsample_bytree\", \"gamma\", \"max_depth\", \"min_child_weight\", \"subsample\" } are not used.\n",
            "\n",
            "  warnings.warn(smsg, UserWarning)\n",
            "c:\\Users\\domdd\\Documents\\GitHub\\Soy-Crush\\.venv\\Lib\\site-packages\\xgboost\\core.py:158: UserWarning: [11:56:03] WARNING: C:\\buildkite-agent\\builds\\buildkite-windows-cpu-autoscaling-group-i-08cbc0333d8d4aae1-1\\xgboost\\xgboost-ci-windows\\src\\learner.cc:740: \n",
            "Parameters: { \"colsample_bytree\", \"gamma\", \"max_depth\", \"min_child_weight\", \"subsample\" } are not used.\n",
            "\n",
            "  warnings.warn(smsg, UserWarning)\n",
            "c:\\Users\\domdd\\Documents\\GitHub\\Soy-Crush\\.venv\\Lib\\site-packages\\xgboost\\core.py:158: UserWarning: [11:56:03] WARNING: C:\\buildkite-agent\\builds\\buildkite-windows-cpu-autoscaling-group-i-08cbc0333d8d4aae1-1\\xgboost\\xgboost-ci-windows\\src\\learner.cc:740: \n",
            "Parameters: { \"colsample_bytree\", \"gamma\", \"max_depth\", \"min_child_weight\", \"subsample\" } are not used.\n",
            "\n",
            "  warnings.warn(smsg, UserWarning)\n",
            "c:\\Users\\domdd\\Documents\\GitHub\\Soy-Crush\\.venv\\Lib\\site-packages\\xgboost\\core.py:158: UserWarning: [11:56:04] WARNING: C:\\buildkite-agent\\builds\\buildkite-windows-cpu-autoscaling-group-i-08cbc0333d8d4aae1-1\\xgboost\\xgboost-ci-windows\\src\\learner.cc:740: \n",
            "Parameters: { \"colsample_bytree\", \"gamma\", \"max_depth\", \"min_child_weight\", \"subsample\" } are not used.\n",
            "\n",
            "  warnings.warn(smsg, UserWarning)\n",
            "Best trial: 53. Best value: 0.711197:  54%|█████▍    | 54/100 [55:02<30:26, 39.72s/it]"
          ]
        },
        {
          "name": "stdout",
          "output_type": "stream",
          "text": [
            "[I 2025-02-09 11:56:04,505] Trial 53 finished with value: 0.711196773189709 and parameters: {'booster': 'gblinear', 'max_depth': 9, 'learning_rate': 0.09996047898012388, 'n_estimators': 1050, 'subsample': 0.9001110734104905, 'colsample_bytree': 0.9132247505130087, 'reg_alpha': 0.005146723531000921, 'reg_lambda': 5.0819219605472236e-06, 'min_child_weight': 5, 'gamma': 1.493611477105051e-05}. Best is trial 53 with value: 0.711196773189709.\n"
          ]
        },
        {
          "name": "stderr",
          "output_type": "stream",
          "text": [
            "c:\\Users\\domdd\\Documents\\GitHub\\Soy-Crush\\.venv\\Lib\\site-packages\\xgboost\\core.py:158: UserWarning: [11:56:04] WARNING: C:\\buildkite-agent\\builds\\buildkite-windows-cpu-autoscaling-group-i-08cbc0333d8d4aae1-1\\xgboost\\xgboost-ci-windows\\src\\learner.cc:740: \n",
            "Parameters: { \"colsample_bytree\", \"gamma\", \"max_depth\", \"min_child_weight\", \"subsample\" } are not used.\n",
            "\n",
            "  warnings.warn(smsg, UserWarning)\n",
            "c:\\Users\\domdd\\Documents\\GitHub\\Soy-Crush\\.venv\\Lib\\site-packages\\xgboost\\core.py:158: UserWarning: [11:56:05] WARNING: C:\\buildkite-agent\\builds\\buildkite-windows-cpu-autoscaling-group-i-08cbc0333d8d4aae1-1\\xgboost\\xgboost-ci-windows\\src\\learner.cc:740: \n",
            "Parameters: { \"colsample_bytree\", \"gamma\", \"max_depth\", \"min_child_weight\", \"subsample\" } are not used.\n",
            "\n",
            "  warnings.warn(smsg, UserWarning)\n",
            "c:\\Users\\domdd\\Documents\\GitHub\\Soy-Crush\\.venv\\Lib\\site-packages\\xgboost\\core.py:158: UserWarning: [11:56:05] WARNING: C:\\buildkite-agent\\builds\\buildkite-windows-cpu-autoscaling-group-i-08cbc0333d8d4aae1-1\\xgboost\\xgboost-ci-windows\\src\\learner.cc:740: \n",
            "Parameters: { \"colsample_bytree\", \"gamma\", \"max_depth\", \"min_child_weight\", \"subsample\" } are not used.\n",
            "\n",
            "  warnings.warn(smsg, UserWarning)\n",
            "c:\\Users\\domdd\\Documents\\GitHub\\Soy-Crush\\.venv\\Lib\\site-packages\\xgboost\\core.py:158: UserWarning: [11:56:06] WARNING: C:\\buildkite-agent\\builds\\buildkite-windows-cpu-autoscaling-group-i-08cbc0333d8d4aae1-1\\xgboost\\xgboost-ci-windows\\src\\learner.cc:740: \n",
            "Parameters: { \"colsample_bytree\", \"gamma\", \"max_depth\", \"min_child_weight\", \"subsample\" } are not used.\n",
            "\n",
            "  warnings.warn(smsg, UserWarning)\n",
            "c:\\Users\\domdd\\Documents\\GitHub\\Soy-Crush\\.venv\\Lib\\site-packages\\xgboost\\core.py:158: UserWarning: [11:56:06] WARNING: C:\\buildkite-agent\\builds\\buildkite-windows-cpu-autoscaling-group-i-08cbc0333d8d4aae1-1\\xgboost\\xgboost-ci-windows\\src\\learner.cc:740: \n",
            "Parameters: { \"colsample_bytree\", \"gamma\", \"max_depth\", \"min_child_weight\", \"subsample\" } are not used.\n",
            "\n",
            "  warnings.warn(smsg, UserWarning)\n",
            "Best trial: 54. Best value: 0.711264:  55%|█████▌    | 55/100 [55:04<21:20, 28.45s/it]"
          ]
        },
        {
          "name": "stdout",
          "output_type": "stream",
          "text": [
            "[I 2025-02-09 11:56:06,674] Trial 54 finished with value: 0.7112638671842374 and parameters: {'booster': 'gblinear', 'max_depth': 10, 'learning_rate': 0.09878760424542131, 'n_estimators': 1150, 'subsample': 0.9034707271854654, 'colsample_bytree': 0.9123801631875391, 'reg_alpha': 0.0051493064143631525, 'reg_lambda': 7.88859649170629e-07, 'min_child_weight': 5, 'gamma': 1.85648240215875e-05}. Best is trial 54 with value: 0.7112638671842374.\n"
          ]
        },
        {
          "name": "stderr",
          "output_type": "stream",
          "text": [
            "c:\\Users\\domdd\\Documents\\GitHub\\Soy-Crush\\.venv\\Lib\\site-packages\\xgboost\\core.py:158: UserWarning: [11:56:06] WARNING: C:\\buildkite-agent\\builds\\buildkite-windows-cpu-autoscaling-group-i-08cbc0333d8d4aae1-1\\xgboost\\xgboost-ci-windows\\src\\learner.cc:740: \n",
            "Parameters: { \"colsample_bytree\", \"gamma\", \"max_depth\", \"min_child_weight\", \"subsample\" } are not used.\n",
            "\n",
            "  warnings.warn(smsg, UserWarning)\n",
            "c:\\Users\\domdd\\Documents\\GitHub\\Soy-Crush\\.venv\\Lib\\site-packages\\xgboost\\core.py:158: UserWarning: [11:56:07] WARNING: C:\\buildkite-agent\\builds\\buildkite-windows-cpu-autoscaling-group-i-08cbc0333d8d4aae1-1\\xgboost\\xgboost-ci-windows\\src\\learner.cc:740: \n",
            "Parameters: { \"colsample_bytree\", \"gamma\", \"max_depth\", \"min_child_weight\", \"subsample\" } are not used.\n",
            "\n",
            "  warnings.warn(smsg, UserWarning)\n",
            "c:\\Users\\domdd\\Documents\\GitHub\\Soy-Crush\\.venv\\Lib\\site-packages\\xgboost\\core.py:158: UserWarning: [11:56:07] WARNING: C:\\buildkite-agent\\builds\\buildkite-windows-cpu-autoscaling-group-i-08cbc0333d8d4aae1-1\\xgboost\\xgboost-ci-windows\\src\\learner.cc:740: \n",
            "Parameters: { \"colsample_bytree\", \"gamma\", \"max_depth\", \"min_child_weight\", \"subsample\" } are not used.\n",
            "\n",
            "  warnings.warn(smsg, UserWarning)\n",
            "c:\\Users\\domdd\\Documents\\GitHub\\Soy-Crush\\.venv\\Lib\\site-packages\\xgboost\\core.py:158: UserWarning: [11:56:08] WARNING: C:\\buildkite-agent\\builds\\buildkite-windows-cpu-autoscaling-group-i-08cbc0333d8d4aae1-1\\xgboost\\xgboost-ci-windows\\src\\learner.cc:740: \n",
            "Parameters: { \"colsample_bytree\", \"gamma\", \"max_depth\", \"min_child_weight\", \"subsample\" } are not used.\n",
            "\n",
            "  warnings.warn(smsg, UserWarning)\n",
            "c:\\Users\\domdd\\Documents\\GitHub\\Soy-Crush\\.venv\\Lib\\site-packages\\xgboost\\core.py:158: UserWarning: [11:56:08] WARNING: C:\\buildkite-agent\\builds\\buildkite-windows-cpu-autoscaling-group-i-08cbc0333d8d4aae1-1\\xgboost\\xgboost-ci-windows\\src\\learner.cc:740: \n",
            "Parameters: { \"colsample_bytree\", \"gamma\", \"max_depth\", \"min_child_weight\", \"subsample\" } are not used.\n",
            "\n",
            "  warnings.warn(smsg, UserWarning)\n",
            "Best trial: 54. Best value: 0.711264:  56%|█████▌    | 56/100 [55:07<15:04, 20.57s/it]"
          ]
        },
        {
          "name": "stdout",
          "output_type": "stream",
          "text": [
            "[I 2025-02-09 11:56:08,844] Trial 55 finished with value: 0.7112587431712134 and parameters: {'booster': 'gblinear', 'max_depth': 9, 'learning_rate': 0.09889792193030772, 'n_estimators': 1150, 'subsample': 0.9031002313572005, 'colsample_bytree': 0.9166857252854838, 'reg_alpha': 0.005187218707163026, 'reg_lambda': 4.2985960904303057e-07, 'min_child_weight': 9, 'gamma': 2.294557292305261e-05}. Best is trial 54 with value: 0.7112638671842374.\n"
          ]
        },
        {
          "name": "stderr",
          "output_type": "stream",
          "text": [
            "c:\\Users\\domdd\\Documents\\GitHub\\Soy-Crush\\.venv\\Lib\\site-packages\\xgboost\\core.py:158: UserWarning: [11:56:09] WARNING: C:\\buildkite-agent\\builds\\buildkite-windows-cpu-autoscaling-group-i-08cbc0333d8d4aae1-1\\xgboost\\xgboost-ci-windows\\src\\learner.cc:740: \n",
            "Parameters: { \"dropout_rate\" } are not used.\n",
            "\n",
            "  warnings.warn(smsg, UserWarning)\n",
            "c:\\Users\\domdd\\Documents\\GitHub\\Soy-Crush\\.venv\\Lib\\site-packages\\xgboost\\core.py:158: UserWarning: [11:58:33] WARNING: C:\\buildkite-agent\\builds\\buildkite-windows-cpu-autoscaling-group-i-08cbc0333d8d4aae1-1\\xgboost\\xgboost-ci-windows\\src\\learner.cc:740: \n",
            "Parameters: { \"dropout_rate\" } are not used.\n",
            "\n",
            "  warnings.warn(smsg, UserWarning)\n",
            "c:\\Users\\domdd\\Documents\\GitHub\\Soy-Crush\\.venv\\Lib\\site-packages\\xgboost\\core.py:158: UserWarning: [12:01:08] WARNING: C:\\buildkite-agent\\builds\\buildkite-windows-cpu-autoscaling-group-i-08cbc0333d8d4aae1-1\\xgboost\\xgboost-ci-windows\\src\\learner.cc:740: \n",
            "Parameters: { \"dropout_rate\" } are not used.\n",
            "\n",
            "  warnings.warn(smsg, UserWarning)\n",
            "c:\\Users\\domdd\\Documents\\GitHub\\Soy-Crush\\.venv\\Lib\\site-packages\\xgboost\\core.py:158: UserWarning: [12:03:38] WARNING: C:\\buildkite-agent\\builds\\buildkite-windows-cpu-autoscaling-group-i-08cbc0333d8d4aae1-1\\xgboost\\xgboost-ci-windows\\src\\learner.cc:740: \n",
            "Parameters: { \"dropout_rate\" } are not used.\n",
            "\n",
            "  warnings.warn(smsg, UserWarning)\n",
            "c:\\Users\\domdd\\Documents\\GitHub\\Soy-Crush\\.venv\\Lib\\site-packages\\xgboost\\core.py:158: UserWarning: [12:06:12] WARNING: C:\\buildkite-agent\\builds\\buildkite-windows-cpu-autoscaling-group-i-08cbc0333d8d4aae1-1\\xgboost\\xgboost-ci-windows\\src\\learner.cc:740: \n",
            "Parameters: { \"dropout_rate\" } are not used.\n",
            "\n",
            "  warnings.warn(smsg, UserWarning)\n",
            "Best trial: 54. Best value: 0.711264:  57%|█████▋    | 57/100 [1:07:42<2:52:42, 240.99s/it]"
          ]
        },
        {
          "name": "stdout",
          "output_type": "stream",
          "text": [
            "[I 2025-02-09 12:08:44,166] Trial 56 finished with value: 0.6462070356731822 and parameters: {'booster': 'dart', 'max_depth': 8, 'learning_rate': 0.053650965941006094, 'n_estimators': 1150, 'subsample': 0.8902563413192183, 'colsample_bytree': 0.9094197545700389, 'reg_alpha': 0.0014998059266720834, 'reg_lambda': 5.06516232487551e-07, 'min_child_weight': 9, 'gamma': 1.7889101053405896e-05, 'dropout_rate': 0.5868607564320795}. Best is trial 54 with value: 0.7112638671842374.\n"
          ]
        },
        {
          "name": "stderr",
          "output_type": "stream",
          "text": [
            "c:\\Users\\domdd\\Documents\\GitHub\\Soy-Crush\\.venv\\Lib\\site-packages\\xgboost\\core.py:158: UserWarning: [12:08:44] WARNING: C:\\buildkite-agent\\builds\\buildkite-windows-cpu-autoscaling-group-i-08cbc0333d8d4aae1-1\\xgboost\\xgboost-ci-windows\\src\\learner.cc:740: \n",
            "Parameters: { \"colsample_bytree\", \"gamma\", \"max_depth\", \"min_child_weight\", \"subsample\" } are not used.\n",
            "\n",
            "  warnings.warn(smsg, UserWarning)\n",
            "c:\\Users\\domdd\\Documents\\GitHub\\Soy-Crush\\.venv\\Lib\\site-packages\\xgboost\\core.py:158: UserWarning: [12:08:44] WARNING: C:\\buildkite-agent\\builds\\buildkite-windows-cpu-autoscaling-group-i-08cbc0333d8d4aae1-1\\xgboost\\xgboost-ci-windows\\src\\learner.cc:740: \n",
            "Parameters: { \"colsample_bytree\", \"gamma\", \"max_depth\", \"min_child_weight\", \"subsample\" } are not used.\n",
            "\n",
            "  warnings.warn(smsg, UserWarning)\n",
            "c:\\Users\\domdd\\Documents\\GitHub\\Soy-Crush\\.venv\\Lib\\site-packages\\xgboost\\core.py:158: UserWarning: [12:08:45] WARNING: C:\\buildkite-agent\\builds\\buildkite-windows-cpu-autoscaling-group-i-08cbc0333d8d4aae1-1\\xgboost\\xgboost-ci-windows\\src\\learner.cc:740: \n",
            "Parameters: { \"colsample_bytree\", \"gamma\", \"max_depth\", \"min_child_weight\", \"subsample\" } are not used.\n",
            "\n",
            "  warnings.warn(smsg, UserWarning)\n",
            "c:\\Users\\domdd\\Documents\\GitHub\\Soy-Crush\\.venv\\Lib\\site-packages\\xgboost\\core.py:158: UserWarning: [12:08:45] WARNING: C:\\buildkite-agent\\builds\\buildkite-windows-cpu-autoscaling-group-i-08cbc0333d8d4aae1-1\\xgboost\\xgboost-ci-windows\\src\\learner.cc:740: \n",
            "Parameters: { \"colsample_bytree\", \"gamma\", \"max_depth\", \"min_child_weight\", \"subsample\" } are not used.\n",
            "\n",
            "  warnings.warn(smsg, UserWarning)\n",
            "c:\\Users\\domdd\\Documents\\GitHub\\Soy-Crush\\.venv\\Lib\\site-packages\\xgboost\\core.py:158: UserWarning: [12:08:46] WARNING: C:\\buildkite-agent\\builds\\buildkite-windows-cpu-autoscaling-group-i-08cbc0333d8d4aae1-1\\xgboost\\xgboost-ci-windows\\src\\learner.cc:740: \n",
            "Parameters: { \"colsample_bytree\", \"gamma\", \"max_depth\", \"min_child_weight\", \"subsample\" } are not used.\n",
            "\n",
            "  warnings.warn(smsg, UserWarning)\n",
            "Best trial: 54. Best value: 0.711264:  58%|█████▊    | 58/100 [1:07:44<1:58:33, 169.37s/it]"
          ]
        },
        {
          "name": "stdout",
          "output_type": "stream",
          "text": [
            "[I 2025-02-09 12:08:46,420] Trial 57 finished with value: 0.7093145266530465 and parameters: {'booster': 'gblinear', 'max_depth': 9, 'learning_rate': 0.03370177902056755, 'n_estimators': 1400, 'subsample': 0.8552358896925837, 'colsample_bytree': 0.9477886200416062, 'reg_alpha': 0.004839814424064647, 'reg_lambda': 9.78319023015626e-07, 'min_child_weight': 9, 'gamma': 6.581905797999951e-06}. Best is trial 54 with value: 0.7112638671842374.\n"
          ]
        },
        {
          "name": "stderr",
          "output_type": "stream",
          "text": [
            "c:\\Users\\domdd\\Documents\\GitHub\\Soy-Crush\\.venv\\Lib\\site-packages\\xgboost\\core.py:158: UserWarning: [12:08:46] WARNING: C:\\buildkite-agent\\builds\\buildkite-windows-cpu-autoscaling-group-i-08cbc0333d8d4aae1-1\\xgboost\\xgboost-ci-windows\\src\\learner.cc:740: \n",
            "Parameters: { \"colsample_bytree\", \"gamma\", \"max_depth\", \"min_child_weight\", \"subsample\" } are not used.\n",
            "\n",
            "  warnings.warn(smsg, UserWarning)\n",
            "c:\\Users\\domdd\\Documents\\GitHub\\Soy-Crush\\.venv\\Lib\\site-packages\\xgboost\\core.py:158: UserWarning: [12:08:47] WARNING: C:\\buildkite-agent\\builds\\buildkite-windows-cpu-autoscaling-group-i-08cbc0333d8d4aae1-1\\xgboost\\xgboost-ci-windows\\src\\learner.cc:740: \n",
            "Parameters: { \"colsample_bytree\", \"gamma\", \"max_depth\", \"min_child_weight\", \"subsample\" } are not used.\n",
            "\n",
            "  warnings.warn(smsg, UserWarning)\n",
            "c:\\Users\\domdd\\Documents\\GitHub\\Soy-Crush\\.venv\\Lib\\site-packages\\xgboost\\core.py:158: UserWarning: [12:08:47] WARNING: C:\\buildkite-agent\\builds\\buildkite-windows-cpu-autoscaling-group-i-08cbc0333d8d4aae1-1\\xgboost\\xgboost-ci-windows\\src\\learner.cc:740: \n",
            "Parameters: { \"colsample_bytree\", \"gamma\", \"max_depth\", \"min_child_weight\", \"subsample\" } are not used.\n",
            "\n",
            "  warnings.warn(smsg, UserWarning)\n",
            "c:\\Users\\domdd\\Documents\\GitHub\\Soy-Crush\\.venv\\Lib\\site-packages\\xgboost\\core.py:158: UserWarning: [12:08:48] WARNING: C:\\buildkite-agent\\builds\\buildkite-windows-cpu-autoscaling-group-i-08cbc0333d8d4aae1-1\\xgboost\\xgboost-ci-windows\\src\\learner.cc:740: \n",
            "Parameters: { \"colsample_bytree\", \"gamma\", \"max_depth\", \"min_child_weight\", \"subsample\" } are not used.\n",
            "\n",
            "  warnings.warn(smsg, UserWarning)\n",
            "c:\\Users\\domdd\\Documents\\GitHub\\Soy-Crush\\.venv\\Lib\\site-packages\\xgboost\\core.py:158: UserWarning: [12:08:48] WARNING: C:\\buildkite-agent\\builds\\buildkite-windows-cpu-autoscaling-group-i-08cbc0333d8d4aae1-1\\xgboost\\xgboost-ci-windows\\src\\learner.cc:740: \n",
            "Parameters: { \"colsample_bytree\", \"gamma\", \"max_depth\", \"min_child_weight\", \"subsample\" } are not used.\n",
            "\n",
            "  warnings.warn(smsg, UserWarning)\n",
            "Best trial: 54. Best value: 0.711264:  59%|█████▉    | 59/100 [1:07:47<1:21:29, 119.26s/it]"
          ]
        },
        {
          "name": "stdout",
          "output_type": "stream",
          "text": [
            "[I 2025-02-09 12:08:48,766] Trial 58 finished with value: 0.7092025849518533 and parameters: {'booster': 'gblinear', 'max_depth': 9, 'learning_rate': 0.034905832650571574, 'n_estimators': 1450, 'subsample': 0.8437747286470691, 'colsample_bytree': 0.9500413096574882, 'reg_alpha': 0.006278899978371299, 'reg_lambda': 4.39365310012491e-08, 'min_child_weight': 10, 'gamma': 7.040174498810897e-07}. Best is trial 54 with value: 0.7112638671842374.\n"
          ]
        },
        {
          "name": "stderr",
          "output_type": "stream",
          "text": [
            "c:\\Users\\domdd\\Documents\\GitHub\\Soy-Crush\\.venv\\Lib\\site-packages\\xgboost\\core.py:158: UserWarning: [12:08:49] WARNING: C:\\buildkite-agent\\builds\\buildkite-windows-cpu-autoscaling-group-i-08cbc0333d8d4aae1-1\\xgboost\\xgboost-ci-windows\\src\\learner.cc:740: \n",
            "Parameters: { \"colsample_bytree\", \"gamma\", \"max_depth\", \"min_child_weight\", \"subsample\" } are not used.\n",
            "\n",
            "  warnings.warn(smsg, UserWarning)\n",
            "c:\\Users\\domdd\\Documents\\GitHub\\Soy-Crush\\.venv\\Lib\\site-packages\\xgboost\\core.py:158: UserWarning: [12:08:49] WARNING: C:\\buildkite-agent\\builds\\buildkite-windows-cpu-autoscaling-group-i-08cbc0333d8d4aae1-1\\xgboost\\xgboost-ci-windows\\src\\learner.cc:740: \n",
            "Parameters: { \"colsample_bytree\", \"gamma\", \"max_depth\", \"min_child_weight\", \"subsample\" } are not used.\n",
            "\n",
            "  warnings.warn(smsg, UserWarning)\n",
            "c:\\Users\\domdd\\Documents\\GitHub\\Soy-Crush\\.venv\\Lib\\site-packages\\xgboost\\core.py:158: UserWarning: [12:08:49] WARNING: C:\\buildkite-agent\\builds\\buildkite-windows-cpu-autoscaling-group-i-08cbc0333d8d4aae1-1\\xgboost\\xgboost-ci-windows\\src\\learner.cc:740: \n",
            "Parameters: { \"colsample_bytree\", \"gamma\", \"max_depth\", \"min_child_weight\", \"subsample\" } are not used.\n",
            "\n",
            "  warnings.warn(smsg, UserWarning)\n",
            "c:\\Users\\domdd\\Documents\\GitHub\\Soy-Crush\\.venv\\Lib\\site-packages\\xgboost\\core.py:158: UserWarning: [12:08:50] WARNING: C:\\buildkite-agent\\builds\\buildkite-windows-cpu-autoscaling-group-i-08cbc0333d8d4aae1-1\\xgboost\\xgboost-ci-windows\\src\\learner.cc:740: \n",
            "Parameters: { \"colsample_bytree\", \"gamma\", \"max_depth\", \"min_child_weight\", \"subsample\" } are not used.\n",
            "\n",
            "  warnings.warn(smsg, UserWarning)\n",
            "c:\\Users\\domdd\\Documents\\GitHub\\Soy-Crush\\.venv\\Lib\\site-packages\\xgboost\\core.py:158: UserWarning: [12:08:50] WARNING: C:\\buildkite-agent\\builds\\buildkite-windows-cpu-autoscaling-group-i-08cbc0333d8d4aae1-1\\xgboost\\xgboost-ci-windows\\src\\learner.cc:740: \n",
            "Parameters: { \"colsample_bytree\", \"gamma\", \"max_depth\", \"min_child_weight\", \"subsample\" } are not used.\n",
            "\n",
            "  warnings.warn(smsg, UserWarning)\n",
            "Best trial: 54. Best value: 0.711264:  60%|██████    | 60/100 [1:07:49<56:06, 84.16s/it]   "
          ]
        },
        {
          "name": "stdout",
          "output_type": "stream",
          "text": [
            "[I 2025-02-09 12:08:51,030] Trial 59 finished with value: 0.7091849284794914 and parameters: {'booster': 'gblinear', 'max_depth': 8, 'learning_rate': 0.034788089327200046, 'n_estimators': 1450, 'subsample': 0.8457253882848358, 'colsample_bytree': 0.9779058468017231, 'reg_alpha': 0.005899463744079359, 'reg_lambda': 2.998810633838481e-08, 'min_child_weight': 10, 'gamma': 4.179553809424518e-08}. Best is trial 54 with value: 0.7112638671842374.\n"
          ]
        },
        {
          "name": "stderr",
          "output_type": "stream",
          "text": [
            "c:\\Users\\domdd\\Documents\\GitHub\\Soy-Crush\\.venv\\Lib\\site-packages\\xgboost\\core.py:158: UserWarning: [12:08:51] WARNING: C:\\buildkite-agent\\builds\\buildkite-windows-cpu-autoscaling-group-i-08cbc0333d8d4aae1-1\\xgboost\\xgboost-ci-windows\\src\\learner.cc:740: \n",
            "Parameters: { \"colsample_bytree\", \"gamma\", \"max_depth\", \"min_child_weight\", \"subsample\" } are not used.\n",
            "\n",
            "  warnings.warn(smsg, UserWarning)\n",
            "c:\\Users\\domdd\\Documents\\GitHub\\Soy-Crush\\.venv\\Lib\\site-packages\\xgboost\\core.py:158: UserWarning: [12:08:51] WARNING: C:\\buildkite-agent\\builds\\buildkite-windows-cpu-autoscaling-group-i-08cbc0333d8d4aae1-1\\xgboost\\xgboost-ci-windows\\src\\learner.cc:740: \n",
            "Parameters: { \"colsample_bytree\", \"gamma\", \"max_depth\", \"min_child_weight\", \"subsample\" } are not used.\n",
            "\n",
            "  warnings.warn(smsg, UserWarning)\n",
            "c:\\Users\\domdd\\Documents\\GitHub\\Soy-Crush\\.venv\\Lib\\site-packages\\xgboost\\core.py:158: UserWarning: [12:08:52] WARNING: C:\\buildkite-agent\\builds\\buildkite-windows-cpu-autoscaling-group-i-08cbc0333d8d4aae1-1\\xgboost\\xgboost-ci-windows\\src\\learner.cc:740: \n",
            "Parameters: { \"colsample_bytree\", \"gamma\", \"max_depth\", \"min_child_weight\", \"subsample\" } are not used.\n",
            "\n",
            "  warnings.warn(smsg, UserWarning)\n",
            "c:\\Users\\domdd\\Documents\\GitHub\\Soy-Crush\\.venv\\Lib\\site-packages\\xgboost\\core.py:158: UserWarning: [12:08:52] WARNING: C:\\buildkite-agent\\builds\\buildkite-windows-cpu-autoscaling-group-i-08cbc0333d8d4aae1-1\\xgboost\\xgboost-ci-windows\\src\\learner.cc:740: \n",
            "Parameters: { \"colsample_bytree\", \"gamma\", \"max_depth\", \"min_child_weight\", \"subsample\" } are not used.\n",
            "\n",
            "  warnings.warn(smsg, UserWarning)\n",
            "c:\\Users\\domdd\\Documents\\GitHub\\Soy-Crush\\.venv\\Lib\\site-packages\\xgboost\\core.py:158: UserWarning: [12:08:53] WARNING: C:\\buildkite-agent\\builds\\buildkite-windows-cpu-autoscaling-group-i-08cbc0333d8d4aae1-1\\xgboost\\xgboost-ci-windows\\src\\learner.cc:740: \n",
            "Parameters: { \"colsample_bytree\", \"gamma\", \"max_depth\", \"min_child_weight\", \"subsample\" } are not used.\n",
            "\n",
            "  warnings.warn(smsg, UserWarning)\n",
            "Best trial: 54. Best value: 0.711264:  61%|██████    | 61/100 [1:07:51<38:43, 59.56s/it]"
          ]
        },
        {
          "name": "stdout",
          "output_type": "stream",
          "text": [
            "[I 2025-02-09 12:08:53,194] Trial 60 finished with value: 0.5444029866270258 and parameters: {'booster': 'gblinear', 'max_depth': 9, 'learning_rate': 0.0187134564681473, 'n_estimators': 1400, 'subsample': 0.8190241566814602, 'colsample_bytree': 0.9536121084025977, 'reg_alpha': 0.045177303089694545, 'reg_lambda': 1.1222279852823052e-07, 'min_child_weight': 9, 'gamma': 6.15798757175252e-07}. Best is trial 54 with value: 0.7112638671842374.\n"
          ]
        },
        {
          "name": "stderr",
          "output_type": "stream",
          "text": [
            "c:\\Users\\domdd\\Documents\\GitHub\\Soy-Crush\\.venv\\Lib\\site-packages\\xgboost\\core.py:158: UserWarning: [12:08:53] WARNING: C:\\buildkite-agent\\builds\\buildkite-windows-cpu-autoscaling-group-i-08cbc0333d8d4aae1-1\\xgboost\\xgboost-ci-windows\\src\\learner.cc:740: \n",
            "Parameters: { \"colsample_bytree\", \"gamma\", \"max_depth\", \"min_child_weight\", \"subsample\" } are not used.\n",
            "\n",
            "  warnings.warn(smsg, UserWarning)\n",
            "c:\\Users\\domdd\\Documents\\GitHub\\Soy-Crush\\.venv\\Lib\\site-packages\\xgboost\\core.py:158: UserWarning: [12:08:53] WARNING: C:\\buildkite-agent\\builds\\buildkite-windows-cpu-autoscaling-group-i-08cbc0333d8d4aae1-1\\xgboost\\xgboost-ci-windows\\src\\learner.cc:740: \n",
            "Parameters: { \"colsample_bytree\", \"gamma\", \"max_depth\", \"min_child_weight\", \"subsample\" } are not used.\n",
            "\n",
            "  warnings.warn(smsg, UserWarning)\n",
            "c:\\Users\\domdd\\Documents\\GitHub\\Soy-Crush\\.venv\\Lib\\site-packages\\xgboost\\core.py:158: UserWarning: [12:08:54] WARNING: C:\\buildkite-agent\\builds\\buildkite-windows-cpu-autoscaling-group-i-08cbc0333d8d4aae1-1\\xgboost\\xgboost-ci-windows\\src\\learner.cc:740: \n",
            "Parameters: { \"colsample_bytree\", \"gamma\", \"max_depth\", \"min_child_weight\", \"subsample\" } are not used.\n",
            "\n",
            "  warnings.warn(smsg, UserWarning)\n",
            "c:\\Users\\domdd\\Documents\\GitHub\\Soy-Crush\\.venv\\Lib\\site-packages\\xgboost\\core.py:158: UserWarning: [12:08:54] WARNING: C:\\buildkite-agent\\builds\\buildkite-windows-cpu-autoscaling-group-i-08cbc0333d8d4aae1-1\\xgboost\\xgboost-ci-windows\\src\\learner.cc:740: \n",
            "Parameters: { \"colsample_bytree\", \"gamma\", \"max_depth\", \"min_child_weight\", \"subsample\" } are not used.\n",
            "\n",
            "  warnings.warn(smsg, UserWarning)\n",
            "c:\\Users\\domdd\\Documents\\GitHub\\Soy-Crush\\.venv\\Lib\\site-packages\\xgboost\\core.py:158: UserWarning: [12:08:55] WARNING: C:\\buildkite-agent\\builds\\buildkite-windows-cpu-autoscaling-group-i-08cbc0333d8d4aae1-1\\xgboost\\xgboost-ci-windows\\src\\learner.cc:740: \n",
            "Parameters: { \"colsample_bytree\", \"gamma\", \"max_depth\", \"min_child_weight\", \"subsample\" } are not used.\n",
            "\n",
            "  warnings.warn(smsg, UserWarning)\n",
            "Best trial: 54. Best value: 0.711264:  62%|██████▏   | 62/100 [1:07:53<26:50, 42.38s/it]"
          ]
        },
        {
          "name": "stdout",
          "output_type": "stream",
          "text": [
            "[I 2025-02-09 12:08:55,480] Trial 61 finished with value: 0.7090483303636101 and parameters: {'booster': 'gblinear', 'max_depth': 8, 'learning_rate': 0.030887419485558936, 'n_estimators': 1450, 'subsample': 0.8533478163223589, 'colsample_bytree': 0.9788414817621173, 'reg_alpha': 0.005424384965827075, 'reg_lambda': 3.0161741066188236e-08, 'min_child_weight': 10, 'gamma': 7.335648954080036e-08}. Best is trial 54 with value: 0.7112638671842374.\n"
          ]
        },
        {
          "name": "stderr",
          "output_type": "stream",
          "text": [
            "c:\\Users\\domdd\\Documents\\GitHub\\Soy-Crush\\.venv\\Lib\\site-packages\\xgboost\\core.py:158: UserWarning: [12:08:55] WARNING: C:\\buildkite-agent\\builds\\buildkite-windows-cpu-autoscaling-group-i-08cbc0333d8d4aae1-1\\xgboost\\xgboost-ci-windows\\src\\learner.cc:740: \n",
            "Parameters: { \"colsample_bytree\", \"gamma\", \"max_depth\", \"min_child_weight\", \"subsample\" } are not used.\n",
            "\n",
            "  warnings.warn(smsg, UserWarning)\n",
            "c:\\Users\\domdd\\Documents\\GitHub\\Soy-Crush\\.venv\\Lib\\site-packages\\xgboost\\core.py:158: UserWarning: [12:08:56] WARNING: C:\\buildkite-agent\\builds\\buildkite-windows-cpu-autoscaling-group-i-08cbc0333d8d4aae1-1\\xgboost\\xgboost-ci-windows\\src\\learner.cc:740: \n",
            "Parameters: { \"colsample_bytree\", \"gamma\", \"max_depth\", \"min_child_weight\", \"subsample\" } are not used.\n",
            "\n",
            "  warnings.warn(smsg, UserWarning)\n",
            "c:\\Users\\domdd\\Documents\\GitHub\\Soy-Crush\\.venv\\Lib\\site-packages\\xgboost\\core.py:158: UserWarning: [12:08:56] WARNING: C:\\buildkite-agent\\builds\\buildkite-windows-cpu-autoscaling-group-i-08cbc0333d8d4aae1-1\\xgboost\\xgboost-ci-windows\\src\\learner.cc:740: \n",
            "Parameters: { \"colsample_bytree\", \"gamma\", \"max_depth\", \"min_child_weight\", \"subsample\" } are not used.\n",
            "\n",
            "  warnings.warn(smsg, UserWarning)\n",
            "c:\\Users\\domdd\\Documents\\GitHub\\Soy-Crush\\.venv\\Lib\\site-packages\\xgboost\\core.py:158: UserWarning: [12:08:57] WARNING: C:\\buildkite-agent\\builds\\buildkite-windows-cpu-autoscaling-group-i-08cbc0333d8d4aae1-1\\xgboost\\xgboost-ci-windows\\src\\learner.cc:740: \n",
            "Parameters: { \"colsample_bytree\", \"gamma\", \"max_depth\", \"min_child_weight\", \"subsample\" } are not used.\n",
            "\n",
            "  warnings.warn(smsg, UserWarning)\n",
            "c:\\Users\\domdd\\Documents\\GitHub\\Soy-Crush\\.venv\\Lib\\site-packages\\xgboost\\core.py:158: UserWarning: [12:08:57] WARNING: C:\\buildkite-agent\\builds\\buildkite-windows-cpu-autoscaling-group-i-08cbc0333d8d4aae1-1\\xgboost\\xgboost-ci-windows\\src\\learner.cc:740: \n",
            "Parameters: { \"colsample_bytree\", \"gamma\", \"max_depth\", \"min_child_weight\", \"subsample\" } are not used.\n",
            "\n",
            "  warnings.warn(smsg, UserWarning)\n",
            "Best trial: 54. Best value: 0.711264:  63%|██████▎   | 63/100 [1:07:56<18:43, 30.36s/it]"
          ]
        },
        {
          "name": "stdout",
          "output_type": "stream",
          "text": [
            "[I 2025-02-09 12:08:57,801] Trial 62 finished with value: 0.7083706827601679 and parameters: {'booster': 'gblinear', 'max_depth': 9, 'learning_rate': 0.03739410099613056, 'n_estimators': 1500, 'subsample': 0.8559901163878443, 'colsample_bytree': 0.952558643239285, 'reg_alpha': 0.0011875911054958414, 'reg_lambda': 5.055235633206059e-08, 'min_child_weight': 10, 'gamma': 1.737343802970388e-08}. Best is trial 54 with value: 0.7112638671842374.\n"
          ]
        },
        {
          "name": "stderr",
          "output_type": "stream",
          "text": [
            "c:\\Users\\domdd\\Documents\\GitHub\\Soy-Crush\\.venv\\Lib\\site-packages\\xgboost\\core.py:158: UserWarning: [12:08:58] WARNING: C:\\buildkite-agent\\builds\\buildkite-windows-cpu-autoscaling-group-i-08cbc0333d8d4aae1-1\\xgboost\\xgboost-ci-windows\\src\\learner.cc:740: \n",
            "Parameters: { \"colsample_bytree\", \"gamma\", \"max_depth\", \"min_child_weight\", \"subsample\" } are not used.\n",
            "\n",
            "  warnings.warn(smsg, UserWarning)\n",
            "c:\\Users\\domdd\\Documents\\GitHub\\Soy-Crush\\.venv\\Lib\\site-packages\\xgboost\\core.py:158: UserWarning: [12:08:58] WARNING: C:\\buildkite-agent\\builds\\buildkite-windows-cpu-autoscaling-group-i-08cbc0333d8d4aae1-1\\xgboost\\xgboost-ci-windows\\src\\learner.cc:740: \n",
            "Parameters: { \"colsample_bytree\", \"gamma\", \"max_depth\", \"min_child_weight\", \"subsample\" } are not used.\n",
            "\n",
            "  warnings.warn(smsg, UserWarning)\n",
            "c:\\Users\\domdd\\Documents\\GitHub\\Soy-Crush\\.venv\\Lib\\site-packages\\xgboost\\core.py:158: UserWarning: [12:08:58] WARNING: C:\\buildkite-agent\\builds\\buildkite-windows-cpu-autoscaling-group-i-08cbc0333d8d4aae1-1\\xgboost\\xgboost-ci-windows\\src\\learner.cc:740: \n",
            "Parameters: { \"colsample_bytree\", \"gamma\", \"max_depth\", \"min_child_weight\", \"subsample\" } are not used.\n",
            "\n",
            "  warnings.warn(smsg, UserWarning)\n",
            "c:\\Users\\domdd\\Documents\\GitHub\\Soy-Crush\\.venv\\Lib\\site-packages\\xgboost\\core.py:158: UserWarning: [12:08:59] WARNING: C:\\buildkite-agent\\builds\\buildkite-windows-cpu-autoscaling-group-i-08cbc0333d8d4aae1-1\\xgboost\\xgboost-ci-windows\\src\\learner.cc:740: \n",
            "Parameters: { \"colsample_bytree\", \"gamma\", \"max_depth\", \"min_child_weight\", \"subsample\" } are not used.\n",
            "\n",
            "  warnings.warn(smsg, UserWarning)\n",
            "c:\\Users\\domdd\\Documents\\GitHub\\Soy-Crush\\.venv\\Lib\\site-packages\\xgboost\\core.py:158: UserWarning: [12:08:59] WARNING: C:\\buildkite-agent\\builds\\buildkite-windows-cpu-autoscaling-group-i-08cbc0333d8d4aae1-1\\xgboost\\xgboost-ci-windows\\src\\learner.cc:740: \n",
            "Parameters: { \"colsample_bytree\", \"gamma\", \"max_depth\", \"min_child_weight\", \"subsample\" } are not used.\n",
            "\n",
            "  warnings.warn(smsg, UserWarning)\n",
            "Best trial: 54. Best value: 0.711264:  64%|██████▍   | 64/100 [1:07:58<13:09, 21.92s/it]"
          ]
        },
        {
          "name": "stdout",
          "output_type": "stream",
          "text": [
            "[I 2025-02-09 12:09:00,030] Trial 63 finished with value: 0.700910174237672 and parameters: {'booster': 'gblinear', 'max_depth': 8, 'learning_rate': 0.012640452267221994, 'n_estimators': 1350, 'subsample': 0.8366822453157728, 'colsample_bytree': 0.9820794025424332, 'reg_alpha': 0.004510476517459943, 'reg_lambda': 1.0426402544029536e-08, 'min_child_weight': 9, 'gamma': 6.723024114171162e-06}. Best is trial 54 with value: 0.7112638671842374.\n"
          ]
        },
        {
          "name": "stderr",
          "output_type": "stream",
          "text": [
            "c:\\Users\\domdd\\Documents\\GitHub\\Soy-Crush\\.venv\\Lib\\site-packages\\xgboost\\core.py:158: UserWarning: [12:09:00] WARNING: C:\\buildkite-agent\\builds\\buildkite-windows-cpu-autoscaling-group-i-08cbc0333d8d4aae1-1\\xgboost\\xgboost-ci-windows\\src\\learner.cc:740: \n",
            "Parameters: { \"colsample_bytree\", \"gamma\", \"max_depth\", \"min_child_weight\", \"subsample\" } are not used.\n",
            "\n",
            "  warnings.warn(smsg, UserWarning)\n",
            "c:\\Users\\domdd\\Documents\\GitHub\\Soy-Crush\\.venv\\Lib\\site-packages\\xgboost\\core.py:158: UserWarning: [12:09:00] WARNING: C:\\buildkite-agent\\builds\\buildkite-windows-cpu-autoscaling-group-i-08cbc0333d8d4aae1-1\\xgboost\\xgboost-ci-windows\\src\\learner.cc:740: \n",
            "Parameters: { \"colsample_bytree\", \"gamma\", \"max_depth\", \"min_child_weight\", \"subsample\" } are not used.\n",
            "\n",
            "  warnings.warn(smsg, UserWarning)\n",
            "c:\\Users\\domdd\\Documents\\GitHub\\Soy-Crush\\.venv\\Lib\\site-packages\\xgboost\\core.py:158: UserWarning: [12:09:01] WARNING: C:\\buildkite-agent\\builds\\buildkite-windows-cpu-autoscaling-group-i-08cbc0333d8d4aae1-1\\xgboost\\xgboost-ci-windows\\src\\learner.cc:740: \n",
            "Parameters: { \"colsample_bytree\", \"gamma\", \"max_depth\", \"min_child_weight\", \"subsample\" } are not used.\n",
            "\n",
            "  warnings.warn(smsg, UserWarning)\n",
            "c:\\Users\\domdd\\Documents\\GitHub\\Soy-Crush\\.venv\\Lib\\site-packages\\xgboost\\core.py:158: UserWarning: [12:09:01] WARNING: C:\\buildkite-agent\\builds\\buildkite-windows-cpu-autoscaling-group-i-08cbc0333d8d4aae1-1\\xgboost\\xgboost-ci-windows\\src\\learner.cc:740: \n",
            "Parameters: { \"colsample_bytree\", \"gamma\", \"max_depth\", \"min_child_weight\", \"subsample\" } are not used.\n",
            "\n",
            "  warnings.warn(smsg, UserWarning)\n",
            "c:\\Users\\domdd\\Documents\\GitHub\\Soy-Crush\\.venv\\Lib\\site-packages\\xgboost\\core.py:158: UserWarning: [12:09:02] WARNING: C:\\buildkite-agent\\builds\\buildkite-windows-cpu-autoscaling-group-i-08cbc0333d8d4aae1-1\\xgboost\\xgboost-ci-windows\\src\\learner.cc:740: \n",
            "Parameters: { \"colsample_bytree\", \"gamma\", \"max_depth\", \"min_child_weight\", \"subsample\" } are not used.\n",
            "\n",
            "  warnings.warn(smsg, UserWarning)\n",
            "Best trial: 54. Best value: 0.711264:  65%|██████▌   | 65/100 [1:08:00<09:20, 16.03s/it]"
          ]
        },
        {
          "name": "stdout",
          "output_type": "stream",
          "text": [
            "[I 2025-02-09 12:09:02,299] Trial 64 finished with value: 0.7100170601085789 and parameters: {'booster': 'gblinear', 'max_depth': 9, 'learning_rate': 0.0624580149293882, 'n_estimators': 1450, 'subsample': 0.8654445083973583, 'colsample_bytree': 0.9433453463553407, 'reg_alpha': 0.009876989840497771, 'reg_lambda': 1.4337316423766938e-07, 'min_child_weight': 9, 'gamma': 8.690818014377575e-08}. Best is trial 54 with value: 0.7112638671842374.\n"
          ]
        },
        {
          "name": "stderr",
          "output_type": "stream",
          "text": [
            "c:\\Users\\domdd\\Documents\\GitHub\\Soy-Crush\\.venv\\Lib\\site-packages\\xgboost\\core.py:158: UserWarning: [12:09:02] WARNING: C:\\buildkite-agent\\builds\\buildkite-windows-cpu-autoscaling-group-i-08cbc0333d8d4aae1-1\\xgboost\\xgboost-ci-windows\\src\\learner.cc:740: \n",
            "Parameters: { \"colsample_bytree\", \"gamma\", \"max_depth\", \"min_child_weight\", \"subsample\" } are not used.\n",
            "\n",
            "  warnings.warn(smsg, UserWarning)\n",
            "c:\\Users\\domdd\\Documents\\GitHub\\Soy-Crush\\.venv\\Lib\\site-packages\\xgboost\\core.py:158: UserWarning: [12:09:03] WARNING: C:\\buildkite-agent\\builds\\buildkite-windows-cpu-autoscaling-group-i-08cbc0333d8d4aae1-1\\xgboost\\xgboost-ci-windows\\src\\learner.cc:740: \n",
            "Parameters: { \"colsample_bytree\", \"gamma\", \"max_depth\", \"min_child_weight\", \"subsample\" } are not used.\n",
            "\n",
            "  warnings.warn(smsg, UserWarning)\n",
            "c:\\Users\\domdd\\Documents\\GitHub\\Soy-Crush\\.venv\\Lib\\site-packages\\xgboost\\core.py:158: UserWarning: [12:09:03] WARNING: C:\\buildkite-agent\\builds\\buildkite-windows-cpu-autoscaling-group-i-08cbc0333d8d4aae1-1\\xgboost\\xgboost-ci-windows\\src\\learner.cc:740: \n",
            "Parameters: { \"colsample_bytree\", \"gamma\", \"max_depth\", \"min_child_weight\", \"subsample\" } are not used.\n",
            "\n",
            "  warnings.warn(smsg, UserWarning)\n",
            "c:\\Users\\domdd\\Documents\\GitHub\\Soy-Crush\\.venv\\Lib\\site-packages\\xgboost\\core.py:158: UserWarning: [12:09:03] WARNING: C:\\buildkite-agent\\builds\\buildkite-windows-cpu-autoscaling-group-i-08cbc0333d8d4aae1-1\\xgboost\\xgboost-ci-windows\\src\\learner.cc:740: \n",
            "Parameters: { \"colsample_bytree\", \"gamma\", \"max_depth\", \"min_child_weight\", \"subsample\" } are not used.\n",
            "\n",
            "  warnings.warn(smsg, UserWarning)\n",
            "c:\\Users\\domdd\\Documents\\GitHub\\Soy-Crush\\.venv\\Lib\\site-packages\\xgboost\\core.py:158: UserWarning: [12:09:04] WARNING: C:\\buildkite-agent\\builds\\buildkite-windows-cpu-autoscaling-group-i-08cbc0333d8d4aae1-1\\xgboost\\xgboost-ci-windows\\src\\learner.cc:740: \n",
            "Parameters: { \"colsample_bytree\", \"gamma\", \"max_depth\", \"min_child_weight\", \"subsample\" } are not used.\n",
            "\n",
            "  warnings.warn(smsg, UserWarning)\n",
            "Best trial: 54. Best value: 0.711264:  66%|██████▌   | 66/100 [1:08:02<06:42, 11.85s/it]"
          ]
        },
        {
          "name": "stdout",
          "output_type": "stream",
          "text": [
            "[I 2025-02-09 12:09:04,396] Trial 65 finished with value: 0.49554091758273733 and parameters: {'booster': 'gblinear', 'max_depth': 9, 'learning_rate': 0.06575402821170245, 'n_estimators': 1300, 'subsample': 0.8710277364216592, 'colsample_bytree': 0.9447260286379979, 'reg_alpha': 0.11837135544897669, 'reg_lambda': 2.268123507410585e-07, 'min_child_weight': 9, 'gamma': 1.371986177592166e-07}. Best is trial 54 with value: 0.7112638671842374.\n"
          ]
        },
        {
          "name": "stderr",
          "output_type": "stream",
          "text": [
            "c:\\Users\\domdd\\Documents\\GitHub\\Soy-Crush\\.venv\\Lib\\site-packages\\xgboost\\core.py:158: UserWarning: [12:09:04] WARNING: C:\\buildkite-agent\\builds\\buildkite-windows-cpu-autoscaling-group-i-08cbc0333d8d4aae1-1\\xgboost\\xgboost-ci-windows\\src\\learner.cc:740: \n",
            "Parameters: { \"colsample_bytree\", \"gamma\", \"max_depth\", \"min_child_weight\", \"subsample\" } are not used.\n",
            "\n",
            "  warnings.warn(smsg, UserWarning)\n",
            "c:\\Users\\domdd\\Documents\\GitHub\\Soy-Crush\\.venv\\Lib\\site-packages\\xgboost\\core.py:158: UserWarning: [12:09:05] WARNING: C:\\buildkite-agent\\builds\\buildkite-windows-cpu-autoscaling-group-i-08cbc0333d8d4aae1-1\\xgboost\\xgboost-ci-windows\\src\\learner.cc:740: \n",
            "Parameters: { \"colsample_bytree\", \"gamma\", \"max_depth\", \"min_child_weight\", \"subsample\" } are not used.\n",
            "\n",
            "  warnings.warn(smsg, UserWarning)\n",
            "c:\\Users\\domdd\\Documents\\GitHub\\Soy-Crush\\.venv\\Lib\\site-packages\\xgboost\\core.py:158: UserWarning: [12:09:05] WARNING: C:\\buildkite-agent\\builds\\buildkite-windows-cpu-autoscaling-group-i-08cbc0333d8d4aae1-1\\xgboost\\xgboost-ci-windows\\src\\learner.cc:740: \n",
            "Parameters: { \"colsample_bytree\", \"gamma\", \"max_depth\", \"min_child_weight\", \"subsample\" } are not used.\n",
            "\n",
            "  warnings.warn(smsg, UserWarning)\n",
            "c:\\Users\\domdd\\Documents\\GitHub\\Soy-Crush\\.venv\\Lib\\site-packages\\xgboost\\core.py:158: UserWarning: [12:09:06] WARNING: C:\\buildkite-agent\\builds\\buildkite-windows-cpu-autoscaling-group-i-08cbc0333d8d4aae1-1\\xgboost\\xgboost-ci-windows\\src\\learner.cc:740: \n",
            "Parameters: { \"colsample_bytree\", \"gamma\", \"max_depth\", \"min_child_weight\", \"subsample\" } are not used.\n",
            "\n",
            "  warnings.warn(smsg, UserWarning)\n",
            "c:\\Users\\domdd\\Documents\\GitHub\\Soy-Crush\\.venv\\Lib\\site-packages\\xgboost\\core.py:158: UserWarning: [12:09:06] WARNING: C:\\buildkite-agent\\builds\\buildkite-windows-cpu-autoscaling-group-i-08cbc0333d8d4aae1-1\\xgboost\\xgboost-ci-windows\\src\\learner.cc:740: \n",
            "Parameters: { \"colsample_bytree\", \"gamma\", \"max_depth\", \"min_child_weight\", \"subsample\" } are not used.\n",
            "\n",
            "  warnings.warn(smsg, UserWarning)\n",
            "Best trial: 54. Best value: 0.711264:  67%|██████▋   | 67/100 [1:08:04<04:55,  8.97s/it]"
          ]
        },
        {
          "name": "stdout",
          "output_type": "stream",
          "text": [
            "[I 2025-02-09 12:09:06,637] Trial 66 finished with value: 0.7098804096203916 and parameters: {'booster': 'gblinear', 'max_depth': 9, 'learning_rate': 0.05863053896663762, 'n_estimators': 1400, 'subsample': 0.8160399865130439, 'colsample_bytree': 0.8634062321272484, 'reg_alpha': 0.010870601688733378, 'reg_lambda': 1.149325474023831e-07, 'min_child_weight': 8, 'gamma': 7.695379872706625e-07}. Best is trial 54 with value: 0.7112638671842374.\n"
          ]
        },
        {
          "name": "stderr",
          "output_type": "stream",
          "text": [
            "c:\\Users\\domdd\\Documents\\GitHub\\Soy-Crush\\.venv\\Lib\\site-packages\\xgboost\\core.py:158: UserWarning: [12:09:06] WARNING: C:\\buildkite-agent\\builds\\buildkite-windows-cpu-autoscaling-group-i-08cbc0333d8d4aae1-1\\xgboost\\xgboost-ci-windows\\src\\learner.cc:740: \n",
            "Parameters: { \"dropout_rate\" } are not used.\n",
            "\n",
            "  warnings.warn(smsg, UserWarning)\n",
            "c:\\Users\\domdd\\Documents\\GitHub\\Soy-Crush\\.venv\\Lib\\site-packages\\xgboost\\core.py:158: UserWarning: [12:12:04] WARNING: C:\\buildkite-agent\\builds\\buildkite-windows-cpu-autoscaling-group-i-08cbc0333d8d4aae1-1\\xgboost\\xgboost-ci-windows\\src\\learner.cc:740: \n",
            "Parameters: { \"dropout_rate\" } are not used.\n",
            "\n",
            "  warnings.warn(smsg, UserWarning)\n",
            "c:\\Users\\domdd\\Documents\\GitHub\\Soy-Crush\\.venv\\Lib\\site-packages\\xgboost\\core.py:158: UserWarning: [12:15:18] WARNING: C:\\buildkite-agent\\builds\\buildkite-windows-cpu-autoscaling-group-i-08cbc0333d8d4aae1-1\\xgboost\\xgboost-ci-windows\\src\\learner.cc:740: \n",
            "Parameters: { \"dropout_rate\" } are not used.\n",
            "\n",
            "  warnings.warn(smsg, UserWarning)\n",
            "c:\\Users\\domdd\\Documents\\GitHub\\Soy-Crush\\.venv\\Lib\\site-packages\\xgboost\\core.py:158: UserWarning: [12:18:24] WARNING: C:\\buildkite-agent\\builds\\buildkite-windows-cpu-autoscaling-group-i-08cbc0333d8d4aae1-1\\xgboost\\xgboost-ci-windows\\src\\learner.cc:740: \n",
            "Parameters: { \"dropout_rate\" } are not used.\n",
            "\n",
            "  warnings.warn(smsg, UserWarning)\n",
            "c:\\Users\\domdd\\Documents\\GitHub\\Soy-Crush\\.venv\\Lib\\site-packages\\xgboost\\core.py:158: UserWarning: [12:21:45] WARNING: C:\\buildkite-agent\\builds\\buildkite-windows-cpu-autoscaling-group-i-08cbc0333d8d4aae1-1\\xgboost\\xgboost-ci-windows\\src\\learner.cc:740: \n",
            "Parameters: { \"dropout_rate\" } are not used.\n",
            "\n",
            "  warnings.warn(smsg, UserWarning)\n",
            "Best trial: 54. Best value: 0.711264:  68%|██████▊   | 68/100 [1:24:02<2:36:33, 293.55s/it]"
          ]
        },
        {
          "name": "stdout",
          "output_type": "stream",
          "text": [
            "[I 2025-02-09 12:25:04,203] Trial 67 finished with value: 0.6455339205092124 and parameters: {'booster': 'dart', 'max_depth': 9, 'learning_rate': 0.07861492187599374, 'n_estimators': 1300, 'subsample': 0.8175197249916828, 'colsample_bytree': 0.9047687732791887, 'reg_alpha': 0.33332945141367104, 'reg_lambda': 1.0710113838551789e-07, 'min_child_weight': 8, 'gamma': 2.6493707488294343e-06, 'dropout_rate': 0.40853428016896776}. Best is trial 54 with value: 0.7112638671842374.\n"
          ]
        },
        {
          "name": "stderr",
          "output_type": "stream",
          "text": [
            "c:\\Users\\domdd\\Documents\\GitHub\\Soy-Crush\\.venv\\Lib\\site-packages\\xgboost\\core.py:158: UserWarning: [12:25:04] WARNING: C:\\buildkite-agent\\builds\\buildkite-windows-cpu-autoscaling-group-i-08cbc0333d8d4aae1-1\\xgboost\\xgboost-ci-windows\\src\\learner.cc:740: \n",
            "Parameters: { \"colsample_bytree\", \"gamma\", \"max_depth\", \"min_child_weight\", \"subsample\" } are not used.\n",
            "\n",
            "  warnings.warn(smsg, UserWarning)\n",
            "c:\\Users\\domdd\\Documents\\GitHub\\Soy-Crush\\.venv\\Lib\\site-packages\\xgboost\\core.py:158: UserWarning: [12:25:04] WARNING: C:\\buildkite-agent\\builds\\buildkite-windows-cpu-autoscaling-group-i-08cbc0333d8d4aae1-1\\xgboost\\xgboost-ci-windows\\src\\learner.cc:740: \n",
            "Parameters: { \"colsample_bytree\", \"gamma\", \"max_depth\", \"min_child_weight\", \"subsample\" } are not used.\n",
            "\n",
            "  warnings.warn(smsg, UserWarning)\n",
            "c:\\Users\\domdd\\Documents\\GitHub\\Soy-Crush\\.venv\\Lib\\site-packages\\xgboost\\core.py:158: UserWarning: [12:25:05] WARNING: C:\\buildkite-agent\\builds\\buildkite-windows-cpu-autoscaling-group-i-08cbc0333d8d4aae1-1\\xgboost\\xgboost-ci-windows\\src\\learner.cc:740: \n",
            "Parameters: { \"colsample_bytree\", \"gamma\", \"max_depth\", \"min_child_weight\", \"subsample\" } are not used.\n",
            "\n",
            "  warnings.warn(smsg, UserWarning)\n",
            "c:\\Users\\domdd\\Documents\\GitHub\\Soy-Crush\\.venv\\Lib\\site-packages\\xgboost\\core.py:158: UserWarning: [12:25:05] WARNING: C:\\buildkite-agent\\builds\\buildkite-windows-cpu-autoscaling-group-i-08cbc0333d8d4aae1-1\\xgboost\\xgboost-ci-windows\\src\\learner.cc:740: \n",
            "Parameters: { \"colsample_bytree\", \"gamma\", \"max_depth\", \"min_child_weight\", \"subsample\" } are not used.\n",
            "\n",
            "  warnings.warn(smsg, UserWarning)\n",
            "c:\\Users\\domdd\\Documents\\GitHub\\Soy-Crush\\.venv\\Lib\\site-packages\\xgboost\\core.py:158: UserWarning: [12:25:06] WARNING: C:\\buildkite-agent\\builds\\buildkite-windows-cpu-autoscaling-group-i-08cbc0333d8d4aae1-1\\xgboost\\xgboost-ci-windows\\src\\learner.cc:740: \n",
            "Parameters: { \"colsample_bytree\", \"gamma\", \"max_depth\", \"min_child_weight\", \"subsample\" } are not used.\n",
            "\n",
            "  warnings.warn(smsg, UserWarning)\n",
            "Best trial: 54. Best value: 0.711264:  69%|██████▉   | 69/100 [1:24:04<1:46:31, 206.16s/it]"
          ]
        },
        {
          "name": "stdout",
          "output_type": "stream",
          "text": [
            "[I 2025-02-09 12:25:06,469] Trial 68 finished with value: 0.7050880249769439 and parameters: {'booster': 'gblinear', 'max_depth': 9, 'learning_rate': 0.05588830894138945, 'n_estimators': 1400, 'subsample': 0.9117787058985806, 'colsample_bytree': 0.8558932171380862, 'reg_alpha': 0.01798008123460674, 'reg_lambda': 9.945274419946251e-07, 'min_child_weight': 9, 'gamma': 1.7582123418562835e-06}. Best is trial 54 with value: 0.7112638671842374.\n"
          ]
        },
        {
          "name": "stderr",
          "output_type": "stream",
          "text": [
            "Best trial: 54. Best value: 0.711264:  70%|███████   | 70/100 [1:24:11<1:13:06, 146.21s/it]"
          ]
        },
        {
          "name": "stdout",
          "output_type": "stream",
          "text": [
            "[I 2025-02-09 12:25:12,791] Trial 69 finished with value: 0.6480363726372921 and parameters: {'booster': 'gbtree', 'max_depth': 7, 'learning_rate': 0.025150309082255146, 'n_estimators': 1250, 'subsample': 0.8706794731651571, 'colsample_bytree': 0.873857223681379, 'reg_alpha': 0.05178610174512244, 'reg_lambda': 6.430702664755637e-07, 'min_child_weight': 8, 'gamma': 1.7710656943996986e-05}. Best is trial 54 with value: 0.7112638671842374.\n"
          ]
        },
        {
          "name": "stderr",
          "output_type": "stream",
          "text": [
            "c:\\Users\\domdd\\Documents\\GitHub\\Soy-Crush\\.venv\\Lib\\site-packages\\xgboost\\core.py:158: UserWarning: [12:25:13] WARNING: C:\\buildkite-agent\\builds\\buildkite-windows-cpu-autoscaling-group-i-08cbc0333d8d4aae1-1\\xgboost\\xgboost-ci-windows\\src\\learner.cc:740: \n",
            "Parameters: { \"colsample_bytree\", \"gamma\", \"max_depth\", \"min_child_weight\", \"subsample\" } are not used.\n",
            "\n",
            "  warnings.warn(smsg, UserWarning)\n",
            "c:\\Users\\domdd\\Documents\\GitHub\\Soy-Crush\\.venv\\Lib\\site-packages\\xgboost\\core.py:158: UserWarning: [12:25:13] WARNING: C:\\buildkite-agent\\builds\\buildkite-windows-cpu-autoscaling-group-i-08cbc0333d8d4aae1-1\\xgboost\\xgboost-ci-windows\\src\\learner.cc:740: \n",
            "Parameters: { \"colsample_bytree\", \"gamma\", \"max_depth\", \"min_child_weight\", \"subsample\" } are not used.\n",
            "\n",
            "  warnings.warn(smsg, UserWarning)\n",
            "c:\\Users\\domdd\\Documents\\GitHub\\Soy-Crush\\.venv\\Lib\\site-packages\\xgboost\\core.py:158: UserWarning: [12:25:13] WARNING: C:\\buildkite-agent\\builds\\buildkite-windows-cpu-autoscaling-group-i-08cbc0333d8d4aae1-1\\xgboost\\xgboost-ci-windows\\src\\learner.cc:740: \n",
            "Parameters: { \"colsample_bytree\", \"gamma\", \"max_depth\", \"min_child_weight\", \"subsample\" } are not used.\n",
            "\n",
            "  warnings.warn(smsg, UserWarning)\n",
            "c:\\Users\\domdd\\Documents\\GitHub\\Soy-Crush\\.venv\\Lib\\site-packages\\xgboost\\core.py:158: UserWarning: [12:25:14] WARNING: C:\\buildkite-agent\\builds\\buildkite-windows-cpu-autoscaling-group-i-08cbc0333d8d4aae1-1\\xgboost\\xgboost-ci-windows\\src\\learner.cc:740: \n",
            "Parameters: { \"colsample_bytree\", \"gamma\", \"max_depth\", \"min_child_weight\", \"subsample\" } are not used.\n",
            "\n",
            "  warnings.warn(smsg, UserWarning)\n",
            "c:\\Users\\domdd\\Documents\\GitHub\\Soy-Crush\\.venv\\Lib\\site-packages\\xgboost\\core.py:158: UserWarning: [12:25:14] WARNING: C:\\buildkite-agent\\builds\\buildkite-windows-cpu-autoscaling-group-i-08cbc0333d8d4aae1-1\\xgboost\\xgboost-ci-windows\\src\\learner.cc:740: \n",
            "Parameters: { \"colsample_bytree\", \"gamma\", \"max_depth\", \"min_child_weight\", \"subsample\" } are not used.\n",
            "\n",
            "  warnings.warn(smsg, UserWarning)\n",
            "Best trial: 54. Best value: 0.711264:  71%|███████   | 71/100 [1:24:13<49:46, 103.00s/it]  "
          ]
        },
        {
          "name": "stdout",
          "output_type": "stream",
          "text": [
            "[I 2025-02-09 12:25:14,968] Trial 70 finished with value: 0.6233085593511574 and parameters: {'booster': 'gblinear', 'max_depth': 9, 'learning_rate': 0.0014782164161230192, 'n_estimators': 1200, 'subsample': 0.7873772736883384, 'colsample_bytree': 0.8926610461239545, 'reg_alpha': 0.009701755833023481, 'reg_lambda': 3.704797908359288e-07, 'min_child_weight': 9, 'gamma': 4.8950598945978625e-06}. Best is trial 54 with value: 0.7112638671842374.\n"
          ]
        },
        {
          "name": "stderr",
          "output_type": "stream",
          "text": [
            "c:\\Users\\domdd\\Documents\\GitHub\\Soy-Crush\\.venv\\Lib\\site-packages\\xgboost\\core.py:158: UserWarning: [12:25:15] WARNING: C:\\buildkite-agent\\builds\\buildkite-windows-cpu-autoscaling-group-i-08cbc0333d8d4aae1-1\\xgboost\\xgboost-ci-windows\\src\\learner.cc:740: \n",
            "Parameters: { \"colsample_bytree\", \"gamma\", \"max_depth\", \"min_child_weight\", \"subsample\" } are not used.\n",
            "\n",
            "  warnings.warn(smsg, UserWarning)\n",
            "c:\\Users\\domdd\\Documents\\GitHub\\Soy-Crush\\.venv\\Lib\\site-packages\\xgboost\\core.py:158: UserWarning: [12:25:15] WARNING: C:\\buildkite-agent\\builds\\buildkite-windows-cpu-autoscaling-group-i-08cbc0333d8d4aae1-1\\xgboost\\xgboost-ci-windows\\src\\learner.cc:740: \n",
            "Parameters: { \"colsample_bytree\", \"gamma\", \"max_depth\", \"min_child_weight\", \"subsample\" } are not used.\n",
            "\n",
            "  warnings.warn(smsg, UserWarning)\n",
            "c:\\Users\\domdd\\Documents\\GitHub\\Soy-Crush\\.venv\\Lib\\site-packages\\xgboost\\core.py:158: UserWarning: [12:25:16] WARNING: C:\\buildkite-agent\\builds\\buildkite-windows-cpu-autoscaling-group-i-08cbc0333d8d4aae1-1\\xgboost\\xgboost-ci-windows\\src\\learner.cc:740: \n",
            "Parameters: { \"colsample_bytree\", \"gamma\", \"max_depth\", \"min_child_weight\", \"subsample\" } are not used.\n",
            "\n",
            "  warnings.warn(smsg, UserWarning)\n",
            "c:\\Users\\domdd\\Documents\\GitHub\\Soy-Crush\\.venv\\Lib\\site-packages\\xgboost\\core.py:158: UserWarning: [12:25:16] WARNING: C:\\buildkite-agent\\builds\\buildkite-windows-cpu-autoscaling-group-i-08cbc0333d8d4aae1-1\\xgboost\\xgboost-ci-windows\\src\\learner.cc:740: \n",
            "Parameters: { \"colsample_bytree\", \"gamma\", \"max_depth\", \"min_child_weight\", \"subsample\" } are not used.\n",
            "\n",
            "  warnings.warn(smsg, UserWarning)\n",
            "c:\\Users\\domdd\\Documents\\GitHub\\Soy-Crush\\.venv\\Lib\\site-packages\\xgboost\\core.py:158: UserWarning: [12:25:17] WARNING: C:\\buildkite-agent\\builds\\buildkite-windows-cpu-autoscaling-group-i-08cbc0333d8d4aae1-1\\xgboost\\xgboost-ci-windows\\src\\learner.cc:740: \n",
            "Parameters: { \"colsample_bytree\", \"gamma\", \"max_depth\", \"min_child_weight\", \"subsample\" } are not used.\n",
            "\n",
            "  warnings.warn(smsg, UserWarning)\n",
            "Best trial: 54. Best value: 0.711264:  72%|███████▏  | 72/100 [1:24:15<33:58, 72.79s/it] "
          ]
        },
        {
          "name": "stdout",
          "output_type": "stream",
          "text": [
            "[I 2025-02-09 12:25:17,278] Trial 71 finished with value: 0.6853013139354959 and parameters: {'booster': 'gblinear', 'max_depth': 9, 'learning_rate': 0.06281243930687794, 'n_estimators': 1450, 'subsample': 0.8822347130931024, 'colsample_bytree': 0.9602386989539851, 'reg_alpha': 0.026014481795489732, 'reg_lambda': 2.894009041667597e-07, 'min_child_weight': 10, 'gamma': 5.475541335255387e-07}. Best is trial 54 with value: 0.7112638671842374.\n"
          ]
        },
        {
          "name": "stderr",
          "output_type": "stream",
          "text": [
            "c:\\Users\\domdd\\Documents\\GitHub\\Soy-Crush\\.venv\\Lib\\site-packages\\xgboost\\core.py:158: UserWarning: [12:25:17] WARNING: C:\\buildkite-agent\\builds\\buildkite-windows-cpu-autoscaling-group-i-08cbc0333d8d4aae1-1\\xgboost\\xgboost-ci-windows\\src\\learner.cc:740: \n",
            "Parameters: { \"colsample_bytree\", \"gamma\", \"max_depth\", \"min_child_weight\", \"subsample\" } are not used.\n",
            "\n",
            "  warnings.warn(smsg, UserWarning)\n",
            "c:\\Users\\domdd\\Documents\\GitHub\\Soy-Crush\\.venv\\Lib\\site-packages\\xgboost\\core.py:158: UserWarning: [12:25:18] WARNING: C:\\buildkite-agent\\builds\\buildkite-windows-cpu-autoscaling-group-i-08cbc0333d8d4aae1-1\\xgboost\\xgboost-ci-windows\\src\\learner.cc:740: \n",
            "Parameters: { \"colsample_bytree\", \"gamma\", \"max_depth\", \"min_child_weight\", \"subsample\" } are not used.\n",
            "\n",
            "  warnings.warn(smsg, UserWarning)\n",
            "c:\\Users\\domdd\\Documents\\GitHub\\Soy-Crush\\.venv\\Lib\\site-packages\\xgboost\\core.py:158: UserWarning: [12:25:18] WARNING: C:\\buildkite-agent\\builds\\buildkite-windows-cpu-autoscaling-group-i-08cbc0333d8d4aae1-1\\xgboost\\xgboost-ci-windows\\src\\learner.cc:740: \n",
            "Parameters: { \"colsample_bytree\", \"gamma\", \"max_depth\", \"min_child_weight\", \"subsample\" } are not used.\n",
            "\n",
            "  warnings.warn(smsg, UserWarning)\n",
            "c:\\Users\\domdd\\Documents\\GitHub\\Soy-Crush\\.venv\\Lib\\site-packages\\xgboost\\core.py:158: UserWarning: [12:25:18] WARNING: C:\\buildkite-agent\\builds\\buildkite-windows-cpu-autoscaling-group-i-08cbc0333d8d4aae1-1\\xgboost\\xgboost-ci-windows\\src\\learner.cc:740: \n",
            "Parameters: { \"colsample_bytree\", \"gamma\", \"max_depth\", \"min_child_weight\", \"subsample\" } are not used.\n",
            "\n",
            "  warnings.warn(smsg, UserWarning)\n",
            "c:\\Users\\domdd\\Documents\\GitHub\\Soy-Crush\\.venv\\Lib\\site-packages\\xgboost\\core.py:158: UserWarning: [12:25:19] WARNING: C:\\buildkite-agent\\builds\\buildkite-windows-cpu-autoscaling-group-i-08cbc0333d8d4aae1-1\\xgboost\\xgboost-ci-windows\\src\\learner.cc:740: \n",
            "Parameters: { \"colsample_bytree\", \"gamma\", \"max_depth\", \"min_child_weight\", \"subsample\" } are not used.\n",
            "\n",
            "  warnings.warn(smsg, UserWarning)\n",
            "Best trial: 54. Best value: 0.711264:  73%|███████▎  | 73/100 [1:24:17<23:15, 51.67s/it]"
          ]
        },
        {
          "name": "stdout",
          "output_type": "stream",
          "text": [
            "[I 2025-02-09 12:25:19,664] Trial 72 finished with value: 0.7090391602063224 and parameters: {'booster': 'gblinear', 'max_depth': 8, 'learning_rate': 0.040947987097259636, 'n_estimators': 1500, 'subsample': 0.8100602803598949, 'colsample_bytree': 0.9450460421542313, 'reg_alpha': 0.0014152203886789545, 'reg_lambda': 8.739814800335496e-08, 'min_child_weight': 9, 'gamma': 1.0354731514140382e-06}. Best is trial 54 with value: 0.7112638671842374.\n"
          ]
        },
        {
          "name": "stderr",
          "output_type": "stream",
          "text": [
            "c:\\Users\\domdd\\Documents\\GitHub\\Soy-Crush\\.venv\\Lib\\site-packages\\xgboost\\core.py:158: UserWarning: [12:25:19] WARNING: C:\\buildkite-agent\\builds\\buildkite-windows-cpu-autoscaling-group-i-08cbc0333d8d4aae1-1\\xgboost\\xgboost-ci-windows\\src\\learner.cc:740: \n",
            "Parameters: { \"colsample_bytree\", \"gamma\", \"max_depth\", \"min_child_weight\", \"subsample\" } are not used.\n",
            "\n",
            "  warnings.warn(smsg, UserWarning)\n",
            "c:\\Users\\domdd\\Documents\\GitHub\\Soy-Crush\\.venv\\Lib\\site-packages\\xgboost\\core.py:158: UserWarning: [12:25:20] WARNING: C:\\buildkite-agent\\builds\\buildkite-windows-cpu-autoscaling-group-i-08cbc0333d8d4aae1-1\\xgboost\\xgboost-ci-windows\\src\\learner.cc:740: \n",
            "Parameters: { \"colsample_bytree\", \"gamma\", \"max_depth\", \"min_child_weight\", \"subsample\" } are not used.\n",
            "\n",
            "  warnings.warn(smsg, UserWarning)\n",
            "c:\\Users\\domdd\\Documents\\GitHub\\Soy-Crush\\.venv\\Lib\\site-packages\\xgboost\\core.py:158: UserWarning: [12:25:20] WARNING: C:\\buildkite-agent\\builds\\buildkite-windows-cpu-autoscaling-group-i-08cbc0333d8d4aae1-1\\xgboost\\xgboost-ci-windows\\src\\learner.cc:740: \n",
            "Parameters: { \"colsample_bytree\", \"gamma\", \"max_depth\", \"min_child_weight\", \"subsample\" } are not used.\n",
            "\n",
            "  warnings.warn(smsg, UserWarning)\n",
            "c:\\Users\\domdd\\Documents\\GitHub\\Soy-Crush\\.venv\\Lib\\site-packages\\xgboost\\core.py:158: UserWarning: [12:25:21] WARNING: C:\\buildkite-agent\\builds\\buildkite-windows-cpu-autoscaling-group-i-08cbc0333d8d4aae1-1\\xgboost\\xgboost-ci-windows\\src\\learner.cc:740: \n",
            "Parameters: { \"colsample_bytree\", \"gamma\", \"max_depth\", \"min_child_weight\", \"subsample\" } are not used.\n",
            "\n",
            "  warnings.warn(smsg, UserWarning)\n",
            "c:\\Users\\domdd\\Documents\\GitHub\\Soy-Crush\\.venv\\Lib\\site-packages\\xgboost\\core.py:158: UserWarning: [12:25:21] WARNING: C:\\buildkite-agent\\builds\\buildkite-windows-cpu-autoscaling-group-i-08cbc0333d8d4aae1-1\\xgboost\\xgboost-ci-windows\\src\\learner.cc:740: \n",
            "Parameters: { \"colsample_bytree\", \"gamma\", \"max_depth\", \"min_child_weight\", \"subsample\" } are not used.\n",
            "\n",
            "  warnings.warn(smsg, UserWarning)\n",
            "Best trial: 54. Best value: 0.711264:  74%|███████▍  | 74/100 [1:24:20<15:58, 36.86s/it]"
          ]
        },
        {
          "name": "stdout",
          "output_type": "stream",
          "text": [
            "[I 2025-02-09 12:25:21,951] Trial 73 finished with value: 0.7096869655360296 and parameters: {'booster': 'gblinear', 'max_depth': 10, 'learning_rate': 0.08222857517510346, 'n_estimators': 1400, 'subsample': 0.9072271724282739, 'colsample_bytree': 0.9141184230202348, 'reg_alpha': 0.01188148209445571, 'reg_lambda': 1.7228248450807259e-07, 'min_child_weight': 10, 'gamma': 3.1256767603651457e-07}. Best is trial 54 with value: 0.7112638671842374.\n"
          ]
        },
        {
          "name": "stderr",
          "output_type": "stream",
          "text": [
            "c:\\Users\\domdd\\Documents\\GitHub\\Soy-Crush\\.venv\\Lib\\site-packages\\xgboost\\core.py:158: UserWarning: [12:25:22] WARNING: C:\\buildkite-agent\\builds\\buildkite-windows-cpu-autoscaling-group-i-08cbc0333d8d4aae1-1\\xgboost\\xgboost-ci-windows\\src\\learner.cc:740: \n",
            "Parameters: { \"colsample_bytree\", \"gamma\", \"max_depth\", \"min_child_weight\", \"subsample\" } are not used.\n",
            "\n",
            "  warnings.warn(smsg, UserWarning)\n",
            "c:\\Users\\domdd\\Documents\\GitHub\\Soy-Crush\\.venv\\Lib\\site-packages\\xgboost\\core.py:158: UserWarning: [12:25:22] WARNING: C:\\buildkite-agent\\builds\\buildkite-windows-cpu-autoscaling-group-i-08cbc0333d8d4aae1-1\\xgboost\\xgboost-ci-windows\\src\\learner.cc:740: \n",
            "Parameters: { \"colsample_bytree\", \"gamma\", \"max_depth\", \"min_child_weight\", \"subsample\" } are not used.\n",
            "\n",
            "  warnings.warn(smsg, UserWarning)\n",
            "c:\\Users\\domdd\\Documents\\GitHub\\Soy-Crush\\.venv\\Lib\\site-packages\\xgboost\\core.py:158: UserWarning: [12:25:23] WARNING: C:\\buildkite-agent\\builds\\buildkite-windows-cpu-autoscaling-group-i-08cbc0333d8d4aae1-1\\xgboost\\xgboost-ci-windows\\src\\learner.cc:740: \n",
            "Parameters: { \"colsample_bytree\", \"gamma\", \"max_depth\", \"min_child_weight\", \"subsample\" } are not used.\n",
            "\n",
            "  warnings.warn(smsg, UserWarning)\n",
            "c:\\Users\\domdd\\Documents\\GitHub\\Soy-Crush\\.venv\\Lib\\site-packages\\xgboost\\core.py:158: UserWarning: [12:25:23] WARNING: C:\\buildkite-agent\\builds\\buildkite-windows-cpu-autoscaling-group-i-08cbc0333d8d4aae1-1\\xgboost\\xgboost-ci-windows\\src\\learner.cc:740: \n",
            "Parameters: { \"colsample_bytree\", \"gamma\", \"max_depth\", \"min_child_weight\", \"subsample\" } are not used.\n",
            "\n",
            "  warnings.warn(smsg, UserWarning)\n",
            "c:\\Users\\domdd\\Documents\\GitHub\\Soy-Crush\\.venv\\Lib\\site-packages\\xgboost\\core.py:158: UserWarning: [12:25:24] WARNING: C:\\buildkite-agent\\builds\\buildkite-windows-cpu-autoscaling-group-i-08cbc0333d8d4aae1-1\\xgboost\\xgboost-ci-windows\\src\\learner.cc:740: \n",
            "Parameters: { \"colsample_bytree\", \"gamma\", \"max_depth\", \"min_child_weight\", \"subsample\" } are not used.\n",
            "\n",
            "  warnings.warn(smsg, UserWarning)\n",
            "Best trial: 54. Best value: 0.711264:  75%|███████▌  | 75/100 [1:24:22<11:02, 26.50s/it]"
          ]
        },
        {
          "name": "stdout",
          "output_type": "stream",
          "text": [
            "[I 2025-02-09 12:25:24,275] Trial 74 finished with value: 0.7088795217450141 and parameters: {'booster': 'gblinear', 'max_depth': 10, 'learning_rate': 0.08000246490060299, 'n_estimators': 1400, 'subsample': 0.9547144750678909, 'colsample_bytree': 0.9109189418263823, 'reg_alpha': 0.013664685979840746, 'reg_lambda': 1.62522501561292e-07, 'min_child_weight': 9, 'gamma': 2.503368225851989e-07}. Best is trial 54 with value: 0.7112638671842374.\n"
          ]
        },
        {
          "name": "stderr",
          "output_type": "stream",
          "text": [
            "c:\\Users\\domdd\\Documents\\GitHub\\Soy-Crush\\.venv\\Lib\\site-packages\\xgboost\\core.py:158: UserWarning: [12:25:24] WARNING: C:\\buildkite-agent\\builds\\buildkite-windows-cpu-autoscaling-group-i-08cbc0333d8d4aae1-1\\xgboost\\xgboost-ci-windows\\src\\learner.cc:740: \n",
            "Parameters: { \"colsample_bytree\", \"gamma\", \"max_depth\", \"min_child_weight\", \"subsample\" } are not used.\n",
            "\n",
            "  warnings.warn(smsg, UserWarning)\n",
            "c:\\Users\\domdd\\Documents\\GitHub\\Soy-Crush\\.venv\\Lib\\site-packages\\xgboost\\core.py:158: UserWarning: [12:25:25] WARNING: C:\\buildkite-agent\\builds\\buildkite-windows-cpu-autoscaling-group-i-08cbc0333d8d4aae1-1\\xgboost\\xgboost-ci-windows\\src\\learner.cc:740: \n",
            "Parameters: { \"colsample_bytree\", \"gamma\", \"max_depth\", \"min_child_weight\", \"subsample\" } are not used.\n",
            "\n",
            "  warnings.warn(smsg, UserWarning)\n",
            "c:\\Users\\domdd\\Documents\\GitHub\\Soy-Crush\\.venv\\Lib\\site-packages\\xgboost\\core.py:158: UserWarning: [12:25:25] WARNING: C:\\buildkite-agent\\builds\\buildkite-windows-cpu-autoscaling-group-i-08cbc0333d8d4aae1-1\\xgboost\\xgboost-ci-windows\\src\\learner.cc:740: \n",
            "Parameters: { \"colsample_bytree\", \"gamma\", \"max_depth\", \"min_child_weight\", \"subsample\" } are not used.\n",
            "\n",
            "  warnings.warn(smsg, UserWarning)\n",
            "c:\\Users\\domdd\\Documents\\GitHub\\Soy-Crush\\.venv\\Lib\\site-packages\\xgboost\\core.py:158: UserWarning: [12:25:25] WARNING: C:\\buildkite-agent\\builds\\buildkite-windows-cpu-autoscaling-group-i-08cbc0333d8d4aae1-1\\xgboost\\xgboost-ci-windows\\src\\learner.cc:740: \n",
            "Parameters: { \"colsample_bytree\", \"gamma\", \"max_depth\", \"min_child_weight\", \"subsample\" } are not used.\n",
            "\n",
            "  warnings.warn(smsg, UserWarning)\n",
            "c:\\Users\\domdd\\Documents\\GitHub\\Soy-Crush\\.venv\\Lib\\site-packages\\xgboost\\core.py:158: UserWarning: [12:25:26] WARNING: C:\\buildkite-agent\\builds\\buildkite-windows-cpu-autoscaling-group-i-08cbc0333d8d4aae1-1\\xgboost\\xgboost-ci-windows\\src\\learner.cc:740: \n",
            "Parameters: { \"colsample_bytree\", \"gamma\", \"max_depth\", \"min_child_weight\", \"subsample\" } are not used.\n",
            "\n",
            "  warnings.warn(smsg, UserWarning)\n",
            "Best trial: 54. Best value: 0.711264:  76%|███████▌  | 76/100 [1:24:24<07:40, 19.20s/it]"
          ]
        },
        {
          "name": "stdout",
          "output_type": "stream",
          "text": [
            "[I 2025-02-09 12:25:26,442] Trial 75 finished with value: 0.49942080245797416 and parameters: {'booster': 'gblinear', 'max_depth': 10, 'learning_rate': 0.05320184265764497, 'n_estimators': 1350, 'subsample': 0.9037633752530377, 'colsample_bytree': 0.8687364935358809, 'reg_alpha': 0.23002348973626002, 'reg_lambda': 1.241332724912475e-06, 'min_child_weight': 10, 'gamma': 1.0451086555809719e-07}. Best is trial 54 with value: 0.7112638671842374.\n"
          ]
        },
        {
          "name": "stderr",
          "output_type": "stream",
          "text": [
            "c:\\Users\\domdd\\Documents\\GitHub\\Soy-Crush\\.venv\\Lib\\site-packages\\xgboost\\core.py:158: UserWarning: [12:25:26] WARNING: C:\\buildkite-agent\\builds\\buildkite-windows-cpu-autoscaling-group-i-08cbc0333d8d4aae1-1\\xgboost\\xgboost-ci-windows\\src\\learner.cc:740: \n",
            "Parameters: { \"colsample_bytree\", \"gamma\", \"max_depth\", \"min_child_weight\", \"subsample\" } are not used.\n",
            "\n",
            "  warnings.warn(smsg, UserWarning)\n",
            "c:\\Users\\domdd\\Documents\\GitHub\\Soy-Crush\\.venv\\Lib\\site-packages\\xgboost\\core.py:158: UserWarning: [12:25:27] WARNING: C:\\buildkite-agent\\builds\\buildkite-windows-cpu-autoscaling-group-i-08cbc0333d8d4aae1-1\\xgboost\\xgboost-ci-windows\\src\\learner.cc:740: \n",
            "Parameters: { \"colsample_bytree\", \"gamma\", \"max_depth\", \"min_child_weight\", \"subsample\" } are not used.\n",
            "\n",
            "  warnings.warn(smsg, UserWarning)\n",
            "c:\\Users\\domdd\\Documents\\GitHub\\Soy-Crush\\.venv\\Lib\\site-packages\\xgboost\\core.py:158: UserWarning: [12:25:27] WARNING: C:\\buildkite-agent\\builds\\buildkite-windows-cpu-autoscaling-group-i-08cbc0333d8d4aae1-1\\xgboost\\xgboost-ci-windows\\src\\learner.cc:740: \n",
            "Parameters: { \"colsample_bytree\", \"gamma\", \"max_depth\", \"min_child_weight\", \"subsample\" } are not used.\n",
            "\n",
            "  warnings.warn(smsg, UserWarning)\n",
            "c:\\Users\\domdd\\Documents\\GitHub\\Soy-Crush\\.venv\\Lib\\site-packages\\xgboost\\core.py:158: UserWarning: [12:25:28] WARNING: C:\\buildkite-agent\\builds\\buildkite-windows-cpu-autoscaling-group-i-08cbc0333d8d4aae1-1\\xgboost\\xgboost-ci-windows\\src\\learner.cc:740: \n",
            "Parameters: { \"colsample_bytree\", \"gamma\", \"max_depth\", \"min_child_weight\", \"subsample\" } are not used.\n",
            "\n",
            "  warnings.warn(smsg, UserWarning)\n",
            "c:\\Users\\domdd\\Documents\\GitHub\\Soy-Crush\\.venv\\Lib\\site-packages\\xgboost\\core.py:158: UserWarning: [12:25:28] WARNING: C:\\buildkite-agent\\builds\\buildkite-windows-cpu-autoscaling-group-i-08cbc0333d8d4aae1-1\\xgboost\\xgboost-ci-windows\\src\\learner.cc:740: \n",
            "Parameters: { \"colsample_bytree\", \"gamma\", \"max_depth\", \"min_child_weight\", \"subsample\" } are not used.\n",
            "\n",
            "  warnings.warn(smsg, UserWarning)\n",
            "Best trial: 54. Best value: 0.711264:  77%|███████▋  | 77/100 [1:24:26<05:24, 14.10s/it]"
          ]
        },
        {
          "name": "stdout",
          "output_type": "stream",
          "text": [
            "[I 2025-02-09 12:25:28,659] Trial 76 finished with value: 0.6213559104246974 and parameters: {'booster': 'gblinear', 'max_depth': 10, 'learning_rate': 0.08256311167526897, 'n_estimators': 1300, 'subsample': 0.859806703797211, 'colsample_bytree': 0.8379927763598851, 'reg_alpha': 0.03215878361659723, 'reg_lambda': 3.8639494661273707e-07, 'min_child_weight': 8, 'gamma': 5.256812473805483e-05}. Best is trial 54 with value: 0.7112638671842374.\n"
          ]
        },
        {
          "name": "stderr",
          "output_type": "stream",
          "text": [
            "c:\\Users\\domdd\\Documents\\GitHub\\Soy-Crush\\.venv\\Lib\\site-packages\\xgboost\\core.py:158: UserWarning: [12:25:28] WARNING: C:\\buildkite-agent\\builds\\buildkite-windows-cpu-autoscaling-group-i-08cbc0333d8d4aae1-1\\xgboost\\xgboost-ci-windows\\src\\learner.cc:740: \n",
            "Parameters: { \"colsample_bytree\", \"gamma\", \"max_depth\", \"min_child_weight\", \"subsample\" } are not used.\n",
            "\n",
            "  warnings.warn(smsg, UserWarning)\n",
            "c:\\Users\\domdd\\Documents\\GitHub\\Soy-Crush\\.venv\\Lib\\site-packages\\xgboost\\core.py:158: UserWarning: [12:25:29] WARNING: C:\\buildkite-agent\\builds\\buildkite-windows-cpu-autoscaling-group-i-08cbc0333d8d4aae1-1\\xgboost\\xgboost-ci-windows\\src\\learner.cc:740: \n",
            "Parameters: { \"colsample_bytree\", \"gamma\", \"max_depth\", \"min_child_weight\", \"subsample\" } are not used.\n",
            "\n",
            "  warnings.warn(smsg, UserWarning)\n",
            "c:\\Users\\domdd\\Documents\\GitHub\\Soy-Crush\\.venv\\Lib\\site-packages\\xgboost\\core.py:158: UserWarning: [12:25:29] WARNING: C:\\buildkite-agent\\builds\\buildkite-windows-cpu-autoscaling-group-i-08cbc0333d8d4aae1-1\\xgboost\\xgboost-ci-windows\\src\\learner.cc:740: \n",
            "Parameters: { \"colsample_bytree\", \"gamma\", \"max_depth\", \"min_child_weight\", \"subsample\" } are not used.\n",
            "\n",
            "  warnings.warn(smsg, UserWarning)\n",
            "c:\\Users\\domdd\\Documents\\GitHub\\Soy-Crush\\.venv\\Lib\\site-packages\\xgboost\\core.py:158: UserWarning: [12:25:30] WARNING: C:\\buildkite-agent\\builds\\buildkite-windows-cpu-autoscaling-group-i-08cbc0333d8d4aae1-1\\xgboost\\xgboost-ci-windows\\src\\learner.cc:740: \n",
            "Parameters: { \"colsample_bytree\", \"gamma\", \"max_depth\", \"min_child_weight\", \"subsample\" } are not used.\n",
            "\n",
            "  warnings.warn(smsg, UserWarning)\n",
            "c:\\Users\\domdd\\Documents\\GitHub\\Soy-Crush\\.venv\\Lib\\site-packages\\xgboost\\core.py:158: UserWarning: [12:25:30] WARNING: C:\\buildkite-agent\\builds\\buildkite-windows-cpu-autoscaling-group-i-08cbc0333d8d4aae1-1\\xgboost\\xgboost-ci-windows\\src\\learner.cc:740: \n",
            "Parameters: { \"colsample_bytree\", \"gamma\", \"max_depth\", \"min_child_weight\", \"subsample\" } are not used.\n",
            "\n",
            "  warnings.warn(smsg, UserWarning)\n",
            "Best trial: 54. Best value: 0.711264:  78%|███████▊  | 78/100 [1:24:29<03:51, 10.52s/it]"
          ]
        },
        {
          "name": "stdout",
          "output_type": "stream",
          "text": [
            "[I 2025-02-09 12:25:30,814] Trial 77 finished with value: 0.7109495217313639 and parameters: {'booster': 'gblinear', 'max_depth': 10, 'learning_rate': 0.06548433725234429, 'n_estimators': 1150, 'subsample': 0.9439638557760901, 'colsample_bytree': 0.9185964254141402, 'reg_alpha': 0.00381523471307807, 'reg_lambda': 1.4626242047160167e-07, 'min_child_weight': 9, 'gamma': 3.0943163372413444e-08}. Best is trial 54 with value: 0.7112638671842374.\n"
          ]
        },
        {
          "name": "stderr",
          "output_type": "stream",
          "text": [
            "c:\\Users\\domdd\\Documents\\GitHub\\Soy-Crush\\.venv\\Lib\\site-packages\\xgboost\\core.py:158: UserWarning: [12:25:31] WARNING: C:\\buildkite-agent\\builds\\buildkite-windows-cpu-autoscaling-group-i-08cbc0333d8d4aae1-1\\xgboost\\xgboost-ci-windows\\src\\learner.cc:740: \n",
            "Parameters: { \"colsample_bytree\", \"gamma\", \"max_depth\", \"min_child_weight\", \"subsample\" } are not used.\n",
            "\n",
            "  warnings.warn(smsg, UserWarning)\n",
            "c:\\Users\\domdd\\Documents\\GitHub\\Soy-Crush\\.venv\\Lib\\site-packages\\xgboost\\core.py:158: UserWarning: [12:25:31] WARNING: C:\\buildkite-agent\\builds\\buildkite-windows-cpu-autoscaling-group-i-08cbc0333d8d4aae1-1\\xgboost\\xgboost-ci-windows\\src\\learner.cc:740: \n",
            "Parameters: { \"colsample_bytree\", \"gamma\", \"max_depth\", \"min_child_weight\", \"subsample\" } are not used.\n",
            "\n",
            "  warnings.warn(smsg, UserWarning)\n",
            "c:\\Users\\domdd\\Documents\\GitHub\\Soy-Crush\\.venv\\Lib\\site-packages\\xgboost\\core.py:158: UserWarning: [12:25:31] WARNING: C:\\buildkite-agent\\builds\\buildkite-windows-cpu-autoscaling-group-i-08cbc0333d8d4aae1-1\\xgboost\\xgboost-ci-windows\\src\\learner.cc:740: \n",
            "Parameters: { \"colsample_bytree\", \"gamma\", \"max_depth\", \"min_child_weight\", \"subsample\" } are not used.\n",
            "\n",
            "  warnings.warn(smsg, UserWarning)\n",
            "c:\\Users\\domdd\\Documents\\GitHub\\Soy-Crush\\.venv\\Lib\\site-packages\\xgboost\\core.py:158: UserWarning: [12:25:32] WARNING: C:\\buildkite-agent\\builds\\buildkite-windows-cpu-autoscaling-group-i-08cbc0333d8d4aae1-1\\xgboost\\xgboost-ci-windows\\src\\learner.cc:740: \n",
            "Parameters: { \"colsample_bytree\", \"gamma\", \"max_depth\", \"min_child_weight\", \"subsample\" } are not used.\n",
            "\n",
            "  warnings.warn(smsg, UserWarning)\n",
            "c:\\Users\\domdd\\Documents\\GitHub\\Soy-Crush\\.venv\\Lib\\site-packages\\xgboost\\core.py:158: UserWarning: [12:25:32] WARNING: C:\\buildkite-agent\\builds\\buildkite-windows-cpu-autoscaling-group-i-08cbc0333d8d4aae1-1\\xgboost\\xgboost-ci-windows\\src\\learner.cc:740: \n",
            "Parameters: { \"colsample_bytree\", \"gamma\", \"max_depth\", \"min_child_weight\", \"subsample\" } are not used.\n",
            "\n",
            "  warnings.warn(smsg, UserWarning)\n",
            "Best trial: 54. Best value: 0.711264:  79%|███████▉  | 79/100 [1:24:31<02:48,  8.01s/it]"
          ]
        },
        {
          "name": "stdout",
          "output_type": "stream",
          "text": [
            "[I 2025-02-09 12:25:32,976] Trial 78 finished with value: 0.5683239751494595 and parameters: {'booster': 'gblinear', 'max_depth': 10, 'learning_rate': 0.0001141321842003241, 'n_estimators': 1150, 'subsample': 0.9777967925272804, 'colsample_bytree': 0.8938101897501689, 'reg_alpha': 0.0032746217102217682, 'reg_lambda': 1.6020305877164148e-08, 'min_child_weight': 7, 'gamma': 1.634652130519681e-08}. Best is trial 54 with value: 0.7112638671842374.\n"
          ]
        },
        {
          "name": "stderr",
          "output_type": "stream",
          "text": [
            "c:\\Users\\domdd\\Documents\\GitHub\\Soy-Crush\\.venv\\Lib\\site-packages\\xgboost\\core.py:158: UserWarning: [12:25:33] WARNING: C:\\buildkite-agent\\builds\\buildkite-windows-cpu-autoscaling-group-i-08cbc0333d8d4aae1-1\\xgboost\\xgboost-ci-windows\\src\\learner.cc:740: \n",
            "Parameters: { \"colsample_bytree\", \"gamma\", \"max_depth\", \"min_child_weight\", \"subsample\" } are not used.\n",
            "\n",
            "  warnings.warn(smsg, UserWarning)\n",
            "c:\\Users\\domdd\\Documents\\GitHub\\Soy-Crush\\.venv\\Lib\\site-packages\\xgboost\\core.py:158: UserWarning: [12:25:33] WARNING: C:\\buildkite-agent\\builds\\buildkite-windows-cpu-autoscaling-group-i-08cbc0333d8d4aae1-1\\xgboost\\xgboost-ci-windows\\src\\learner.cc:740: \n",
            "Parameters: { \"colsample_bytree\", \"gamma\", \"max_depth\", \"min_child_weight\", \"subsample\" } are not used.\n",
            "\n",
            "  warnings.warn(smsg, UserWarning)\n",
            "c:\\Users\\domdd\\Documents\\GitHub\\Soy-Crush\\.venv\\Lib\\site-packages\\xgboost\\core.py:158: UserWarning: [12:25:34] WARNING: C:\\buildkite-agent\\builds\\buildkite-windows-cpu-autoscaling-group-i-08cbc0333d8d4aae1-1\\xgboost\\xgboost-ci-windows\\src\\learner.cc:740: \n",
            "Parameters: { \"colsample_bytree\", \"gamma\", \"max_depth\", \"min_child_weight\", \"subsample\" } are not used.\n",
            "\n",
            "  warnings.warn(smsg, UserWarning)\n",
            "c:\\Users\\domdd\\Documents\\GitHub\\Soy-Crush\\.venv\\Lib\\site-packages\\xgboost\\core.py:158: UserWarning: [12:25:34] WARNING: C:\\buildkite-agent\\builds\\buildkite-windows-cpu-autoscaling-group-i-08cbc0333d8d4aae1-1\\xgboost\\xgboost-ci-windows\\src\\learner.cc:740: \n",
            "Parameters: { \"colsample_bytree\", \"gamma\", \"max_depth\", \"min_child_weight\", \"subsample\" } are not used.\n",
            "\n",
            "  warnings.warn(smsg, UserWarning)\n",
            "c:\\Users\\domdd\\Documents\\GitHub\\Soy-Crush\\.venv\\Lib\\site-packages\\xgboost\\core.py:158: UserWarning: [12:25:35] WARNING: C:\\buildkite-agent\\builds\\buildkite-windows-cpu-autoscaling-group-i-08cbc0333d8d4aae1-1\\xgboost\\xgboost-ci-windows\\src\\learner.cc:740: \n",
            "Parameters: { \"colsample_bytree\", \"gamma\", \"max_depth\", \"min_child_weight\", \"subsample\" } are not used.\n",
            "\n",
            "  warnings.warn(smsg, UserWarning)\n",
            "Best trial: 54. Best value: 0.711264:  80%|████████  | 80/100 [1:24:33<02:05,  6.29s/it]"
          ]
        },
        {
          "name": "stdout",
          "output_type": "stream",
          "text": [
            "[I 2025-02-09 12:25:35,236] Trial 79 finished with value: 0.7106194575814536 and parameters: {'booster': 'gblinear', 'max_depth': 10, 'learning_rate': 0.09919587396520888, 'n_estimators': 1250, 'subsample': 0.9325231979697162, 'colsample_bytree': 0.9183767085069274, 'reg_alpha': 0.000999656303625806, 'reg_lambda': 1.386489803541395e-07, 'min_child_weight': 8, 'gamma': 5.1748651181651166e-08}. Best is trial 54 with value: 0.7112638671842374.\n"
          ]
        },
        {
          "name": "stderr",
          "output_type": "stream",
          "text": [
            "Best trial: 54. Best value: 0.711264:  81%|████████  | 81/100 [1:24:39<01:56,  6.11s/it]"
          ]
        },
        {
          "name": "stdout",
          "output_type": "stream",
          "text": [
            "[I 2025-02-09 12:25:40,948] Trial 80 finished with value: 0.64081431502423 and parameters: {'booster': 'gbtree', 'max_depth': 10, 'learning_rate': 0.06424228963421051, 'n_estimators': 1050, 'subsample': 0.9421776758229347, 'colsample_bytree': 0.964929623211018, 'reg_alpha': 0.00029876867852949467, 'reg_lambda': 9.146548129969417e-08, 'min_child_weight': 8, 'gamma': 3.444977132356268e-08}. Best is trial 54 with value: 0.7112638671842374.\n"
          ]
        },
        {
          "name": "stderr",
          "output_type": "stream",
          "text": [
            "c:\\Users\\domdd\\Documents\\GitHub\\Soy-Crush\\.venv\\Lib\\site-packages\\xgboost\\core.py:158: UserWarning: [12:25:41] WARNING: C:\\buildkite-agent\\builds\\buildkite-windows-cpu-autoscaling-group-i-08cbc0333d8d4aae1-1\\xgboost\\xgboost-ci-windows\\src\\learner.cc:740: \n",
            "Parameters: { \"colsample_bytree\", \"gamma\", \"max_depth\", \"min_child_weight\", \"subsample\" } are not used.\n",
            "\n",
            "  warnings.warn(smsg, UserWarning)\n",
            "c:\\Users\\domdd\\Documents\\GitHub\\Soy-Crush\\.venv\\Lib\\site-packages\\xgboost\\core.py:158: UserWarning: [12:25:41] WARNING: C:\\buildkite-agent\\builds\\buildkite-windows-cpu-autoscaling-group-i-08cbc0333d8d4aae1-1\\xgboost\\xgboost-ci-windows\\src\\learner.cc:740: \n",
            "Parameters: { \"colsample_bytree\", \"gamma\", \"max_depth\", \"min_child_weight\", \"subsample\" } are not used.\n",
            "\n",
            "  warnings.warn(smsg, UserWarning)\n",
            "c:\\Users\\domdd\\Documents\\GitHub\\Soy-Crush\\.venv\\Lib\\site-packages\\xgboost\\core.py:158: UserWarning: [12:25:42] WARNING: C:\\buildkite-agent\\builds\\buildkite-windows-cpu-autoscaling-group-i-08cbc0333d8d4aae1-1\\xgboost\\xgboost-ci-windows\\src\\learner.cc:740: \n",
            "Parameters: { \"colsample_bytree\", \"gamma\", \"max_depth\", \"min_child_weight\", \"subsample\" } are not used.\n",
            "\n",
            "  warnings.warn(smsg, UserWarning)\n",
            "c:\\Users\\domdd\\Documents\\GitHub\\Soy-Crush\\.venv\\Lib\\site-packages\\xgboost\\core.py:158: UserWarning: [12:25:42] WARNING: C:\\buildkite-agent\\builds\\buildkite-windows-cpu-autoscaling-group-i-08cbc0333d8d4aae1-1\\xgboost\\xgboost-ci-windows\\src\\learner.cc:740: \n",
            "Parameters: { \"colsample_bytree\", \"gamma\", \"max_depth\", \"min_child_weight\", \"subsample\" } are not used.\n",
            "\n",
            "  warnings.warn(smsg, UserWarning)\n",
            "c:\\Users\\domdd\\Documents\\GitHub\\Soy-Crush\\.venv\\Lib\\site-packages\\xgboost\\core.py:158: UserWarning: [12:25:42] WARNING: C:\\buildkite-agent\\builds\\buildkite-windows-cpu-autoscaling-group-i-08cbc0333d8d4aae1-1\\xgboost\\xgboost-ci-windows\\src\\learner.cc:740: \n",
            "Parameters: { \"colsample_bytree\", \"gamma\", \"max_depth\", \"min_child_weight\", \"subsample\" } are not used.\n",
            "\n",
            "  warnings.warn(smsg, UserWarning)\n",
            "Best trial: 54. Best value: 0.711264:  82%|████████▏ | 82/100 [1:24:41<01:28,  4.93s/it]"
          ]
        },
        {
          "name": "stdout",
          "output_type": "stream",
          "text": [
            "[I 2025-02-09 12:25:43,123] Trial 81 finished with value: 0.7099782686419867 and parameters: {'booster': 'gblinear', 'max_depth': 10, 'learning_rate': 0.0868170175542021, 'n_estimators': 1150, 'subsample': 0.9062547543365098, 'colsample_bytree': 0.920835769013929, 'reg_alpha': 0.00884875894391507, 'reg_lambda': 1.3768262668451395e-07, 'min_child_weight': 10, 'gamma': 2.820019349588558e-08}. Best is trial 54 with value: 0.7112638671842374.\n"
          ]
        },
        {
          "name": "stderr",
          "output_type": "stream",
          "text": [
            "c:\\Users\\domdd\\Documents\\GitHub\\Soy-Crush\\.venv\\Lib\\site-packages\\xgboost\\core.py:158: UserWarning: [12:25:43] WARNING: C:\\buildkite-agent\\builds\\buildkite-windows-cpu-autoscaling-group-i-08cbc0333d8d4aae1-1\\xgboost\\xgboost-ci-windows\\src\\learner.cc:740: \n",
            "Parameters: { \"colsample_bytree\", \"gamma\", \"max_depth\", \"min_child_weight\", \"subsample\" } are not used.\n",
            "\n",
            "  warnings.warn(smsg, UserWarning)\n",
            "c:\\Users\\domdd\\Documents\\GitHub\\Soy-Crush\\.venv\\Lib\\site-packages\\xgboost\\core.py:158: UserWarning: [12:25:43] WARNING: C:\\buildkite-agent\\builds\\buildkite-windows-cpu-autoscaling-group-i-08cbc0333d8d4aae1-1\\xgboost\\xgboost-ci-windows\\src\\learner.cc:740: \n",
            "Parameters: { \"colsample_bytree\", \"gamma\", \"max_depth\", \"min_child_weight\", \"subsample\" } are not used.\n",
            "\n",
            "  warnings.warn(smsg, UserWarning)\n",
            "c:\\Users\\domdd\\Documents\\GitHub\\Soy-Crush\\.venv\\Lib\\site-packages\\xgboost\\core.py:158: UserWarning: [12:25:44] WARNING: C:\\buildkite-agent\\builds\\buildkite-windows-cpu-autoscaling-group-i-08cbc0333d8d4aae1-1\\xgboost\\xgboost-ci-windows\\src\\learner.cc:740: \n",
            "Parameters: { \"colsample_bytree\", \"gamma\", \"max_depth\", \"min_child_weight\", \"subsample\" } are not used.\n",
            "\n",
            "  warnings.warn(smsg, UserWarning)\n",
            "c:\\Users\\domdd\\Documents\\GitHub\\Soy-Crush\\.venv\\Lib\\site-packages\\xgboost\\core.py:158: UserWarning: [12:25:44] WARNING: C:\\buildkite-agent\\builds\\buildkite-windows-cpu-autoscaling-group-i-08cbc0333d8d4aae1-1\\xgboost\\xgboost-ci-windows\\src\\learner.cc:740: \n",
            "Parameters: { \"colsample_bytree\", \"gamma\", \"max_depth\", \"min_child_weight\", \"subsample\" } are not used.\n",
            "\n",
            "  warnings.warn(smsg, UserWarning)\n",
            "c:\\Users\\domdd\\Documents\\GitHub\\Soy-Crush\\.venv\\Lib\\site-packages\\xgboost\\core.py:158: UserWarning: [12:25:45] WARNING: C:\\buildkite-agent\\builds\\buildkite-windows-cpu-autoscaling-group-i-08cbc0333d8d4aae1-1\\xgboost\\xgboost-ci-windows\\src\\learner.cc:740: \n",
            "Parameters: { \"colsample_bytree\", \"gamma\", \"max_depth\", \"min_child_weight\", \"subsample\" } are not used.\n",
            "\n",
            "  warnings.warn(smsg, UserWarning)\n",
            "Best trial: 54. Best value: 0.711264:  83%|████████▎ | 83/100 [1:24:43<01:10,  4.14s/it]"
          ]
        },
        {
          "name": "stdout",
          "output_type": "stream",
          "text": [
            "[I 2025-02-09 12:25:45,417] Trial 82 finished with value: 0.7104413541127803 and parameters: {'booster': 'gblinear', 'max_depth': 10, 'learning_rate': 0.09911185337048277, 'n_estimators': 1150, 'subsample': 0.9431856786850814, 'colsample_bytree': 0.931976431118212, 'reg_alpha': 0.0010087263593704864, 'reg_lambda': 6.747656659777729e-08, 'min_child_weight': 8, 'gamma': 3.056430794367213e-08}. Best is trial 54 with value: 0.7112638671842374.\n"
          ]
        },
        {
          "name": "stderr",
          "output_type": "stream",
          "text": [
            "c:\\Users\\domdd\\Documents\\GitHub\\Soy-Crush\\.venv\\Lib\\site-packages\\xgboost\\core.py:158: UserWarning: [12:25:45] WARNING: C:\\buildkite-agent\\builds\\buildkite-windows-cpu-autoscaling-group-i-08cbc0333d8d4aae1-1\\xgboost\\xgboost-ci-windows\\src\\learner.cc:740: \n",
            "Parameters: { \"colsample_bytree\", \"gamma\", \"max_depth\", \"min_child_weight\", \"subsample\" } are not used.\n",
            "\n",
            "  warnings.warn(smsg, UserWarning)\n",
            "c:\\Users\\domdd\\Documents\\GitHub\\Soy-Crush\\.venv\\Lib\\site-packages\\xgboost\\core.py:158: UserWarning: [12:25:46] WARNING: C:\\buildkite-agent\\builds\\buildkite-windows-cpu-autoscaling-group-i-08cbc0333d8d4aae1-1\\xgboost\\xgboost-ci-windows\\src\\learner.cc:740: \n",
            "Parameters: { \"colsample_bytree\", \"gamma\", \"max_depth\", \"min_child_weight\", \"subsample\" } are not used.\n",
            "\n",
            "  warnings.warn(smsg, UserWarning)\n",
            "c:\\Users\\domdd\\Documents\\GitHub\\Soy-Crush\\.venv\\Lib\\site-packages\\xgboost\\core.py:158: UserWarning: [12:25:46] WARNING: C:\\buildkite-agent\\builds\\buildkite-windows-cpu-autoscaling-group-i-08cbc0333d8d4aae1-1\\xgboost\\xgboost-ci-windows\\src\\learner.cc:740: \n",
            "Parameters: { \"colsample_bytree\", \"gamma\", \"max_depth\", \"min_child_weight\", \"subsample\" } are not used.\n",
            "\n",
            "  warnings.warn(smsg, UserWarning)\n",
            "c:\\Users\\domdd\\Documents\\GitHub\\Soy-Crush\\.venv\\Lib\\site-packages\\xgboost\\core.py:158: UserWarning: [12:25:47] WARNING: C:\\buildkite-agent\\builds\\buildkite-windows-cpu-autoscaling-group-i-08cbc0333d8d4aae1-1\\xgboost\\xgboost-ci-windows\\src\\learner.cc:740: \n",
            "Parameters: { \"colsample_bytree\", \"gamma\", \"max_depth\", \"min_child_weight\", \"subsample\" } are not used.\n",
            "\n",
            "  warnings.warn(smsg, UserWarning)\n",
            "c:\\Users\\domdd\\Documents\\GitHub\\Soy-Crush\\.venv\\Lib\\site-packages\\xgboost\\core.py:158: UserWarning: [12:25:47] WARNING: C:\\buildkite-agent\\builds\\buildkite-windows-cpu-autoscaling-group-i-08cbc0333d8d4aae1-1\\xgboost\\xgboost-ci-windows\\src\\learner.cc:740: \n",
            "Parameters: { \"colsample_bytree\", \"gamma\", \"max_depth\", \"min_child_weight\", \"subsample\" } are not used.\n",
            "\n",
            "  warnings.warn(smsg, UserWarning)\n",
            "Best trial: 54. Best value: 0.711264:  84%|████████▍ | 84/100 [1:24:46<00:57,  3.59s/it]"
          ]
        },
        {
          "name": "stdout",
          "output_type": "stream",
          "text": [
            "[I 2025-02-09 12:25:47,731] Trial 83 finished with value: 0.7104452311645474 and parameters: {'booster': 'gblinear', 'max_depth': 10, 'learning_rate': 0.0963293444436047, 'n_estimators': 1200, 'subsample': 0.9622662338822466, 'colsample_bytree': 0.9361808581487847, 'reg_alpha': 0.001008074455064477, 'reg_lambda': 5.4826301187051825e-08, 'min_child_weight': 8, 'gamma': 1.021221230693689e-08}. Best is trial 54 with value: 0.7112638671842374.\n"
          ]
        },
        {
          "name": "stderr",
          "output_type": "stream",
          "text": [
            "c:\\Users\\domdd\\Documents\\GitHub\\Soy-Crush\\.venv\\Lib\\site-packages\\xgboost\\core.py:158: UserWarning: [12:25:48] WARNING: C:\\buildkite-agent\\builds\\buildkite-windows-cpu-autoscaling-group-i-08cbc0333d8d4aae1-1\\xgboost\\xgboost-ci-windows\\src\\learner.cc:740: \n",
            "Parameters: { \"colsample_bytree\", \"gamma\", \"max_depth\", \"min_child_weight\", \"subsample\" } are not used.\n",
            "\n",
            "  warnings.warn(smsg, UserWarning)\n",
            "c:\\Users\\domdd\\Documents\\GitHub\\Soy-Crush\\.venv\\Lib\\site-packages\\xgboost\\core.py:158: UserWarning: [12:25:48] WARNING: C:\\buildkite-agent\\builds\\buildkite-windows-cpu-autoscaling-group-i-08cbc0333d8d4aae1-1\\xgboost\\xgboost-ci-windows\\src\\learner.cc:740: \n",
            "Parameters: { \"colsample_bytree\", \"gamma\", \"max_depth\", \"min_child_weight\", \"subsample\" } are not used.\n",
            "\n",
            "  warnings.warn(smsg, UserWarning)\n",
            "c:\\Users\\domdd\\Documents\\GitHub\\Soy-Crush\\.venv\\Lib\\site-packages\\xgboost\\core.py:158: UserWarning: [12:25:48] WARNING: C:\\buildkite-agent\\builds\\buildkite-windows-cpu-autoscaling-group-i-08cbc0333d8d4aae1-1\\xgboost\\xgboost-ci-windows\\src\\learner.cc:740: \n",
            "Parameters: { \"colsample_bytree\", \"gamma\", \"max_depth\", \"min_child_weight\", \"subsample\" } are not used.\n",
            "\n",
            "  warnings.warn(smsg, UserWarning)\n",
            "c:\\Users\\domdd\\Documents\\GitHub\\Soy-Crush\\.venv\\Lib\\site-packages\\xgboost\\core.py:158: UserWarning: [12:25:49] WARNING: C:\\buildkite-agent\\builds\\buildkite-windows-cpu-autoscaling-group-i-08cbc0333d8d4aae1-1\\xgboost\\xgboost-ci-windows\\src\\learner.cc:740: \n",
            "Parameters: { \"colsample_bytree\", \"gamma\", \"max_depth\", \"min_child_weight\", \"subsample\" } are not used.\n",
            "\n",
            "  warnings.warn(smsg, UserWarning)\n",
            "c:\\Users\\domdd\\Documents\\GitHub\\Soy-Crush\\.venv\\Lib\\site-packages\\xgboost\\core.py:158: UserWarning: [12:25:49] WARNING: C:\\buildkite-agent\\builds\\buildkite-windows-cpu-autoscaling-group-i-08cbc0333d8d4aae1-1\\xgboost\\xgboost-ci-windows\\src\\learner.cc:740: \n",
            "Parameters: { \"colsample_bytree\", \"gamma\", \"max_depth\", \"min_child_weight\", \"subsample\" } are not used.\n",
            "\n",
            "  warnings.warn(smsg, UserWarning)\n",
            "Best trial: 54. Best value: 0.711264:  85%|████████▌ | 85/100 [1:24:48<00:47,  3.20s/it]"
          ]
        },
        {
          "name": "stdout",
          "output_type": "stream",
          "text": [
            "[I 2025-02-09 12:25:50,001] Trial 84 finished with value: 0.7105161393640754 and parameters: {'booster': 'gblinear', 'max_depth': 10, 'learning_rate': 0.09894273985262286, 'n_estimators': 1200, 'subsample': 0.9888792682573692, 'colsample_bytree': 0.920186118298937, 'reg_alpha': 0.0010173283662920209, 'reg_lambda': 2.395080881776178e-08, 'min_child_weight': 7, 'gamma': 1.1252522043430694e-08}. Best is trial 54 with value: 0.7112638671842374.\n"
          ]
        },
        {
          "name": "stderr",
          "output_type": "stream",
          "text": [
            "c:\\Users\\domdd\\Documents\\GitHub\\Soy-Crush\\.venv\\Lib\\site-packages\\xgboost\\core.py:158: UserWarning: [12:25:50] WARNING: C:\\buildkite-agent\\builds\\buildkite-windows-cpu-autoscaling-group-i-08cbc0333d8d4aae1-1\\xgboost\\xgboost-ci-windows\\src\\learner.cc:740: \n",
            "Parameters: { \"colsample_bytree\", \"gamma\", \"max_depth\", \"min_child_weight\", \"subsample\" } are not used.\n",
            "\n",
            "  warnings.warn(smsg, UserWarning)\n",
            "c:\\Users\\domdd\\Documents\\GitHub\\Soy-Crush\\.venv\\Lib\\site-packages\\xgboost\\core.py:158: UserWarning: [12:25:50] WARNING: C:\\buildkite-agent\\builds\\buildkite-windows-cpu-autoscaling-group-i-08cbc0333d8d4aae1-1\\xgboost\\xgboost-ci-windows\\src\\learner.cc:740: \n",
            "Parameters: { \"colsample_bytree\", \"gamma\", \"max_depth\", \"min_child_weight\", \"subsample\" } are not used.\n",
            "\n",
            "  warnings.warn(smsg, UserWarning)\n",
            "c:\\Users\\domdd\\Documents\\GitHub\\Soy-Crush\\.venv\\Lib\\site-packages\\xgboost\\core.py:158: UserWarning: [12:25:51] WARNING: C:\\buildkite-agent\\builds\\buildkite-windows-cpu-autoscaling-group-i-08cbc0333d8d4aae1-1\\xgboost\\xgboost-ci-windows\\src\\learner.cc:740: \n",
            "Parameters: { \"colsample_bytree\", \"gamma\", \"max_depth\", \"min_child_weight\", \"subsample\" } are not used.\n",
            "\n",
            "  warnings.warn(smsg, UserWarning)\n",
            "c:\\Users\\domdd\\Documents\\GitHub\\Soy-Crush\\.venv\\Lib\\site-packages\\xgboost\\core.py:158: UserWarning: [12:25:51] WARNING: C:\\buildkite-agent\\builds\\buildkite-windows-cpu-autoscaling-group-i-08cbc0333d8d4aae1-1\\xgboost\\xgboost-ci-windows\\src\\learner.cc:740: \n",
            "Parameters: { \"colsample_bytree\", \"gamma\", \"max_depth\", \"min_child_weight\", \"subsample\" } are not used.\n",
            "\n",
            "  warnings.warn(smsg, UserWarning)\n",
            "c:\\Users\\domdd\\Documents\\GitHub\\Soy-Crush\\.venv\\Lib\\site-packages\\xgboost\\core.py:158: UserWarning: [12:25:52] WARNING: C:\\buildkite-agent\\builds\\buildkite-windows-cpu-autoscaling-group-i-08cbc0333d8d4aae1-1\\xgboost\\xgboost-ci-windows\\src\\learner.cc:740: \n",
            "Parameters: { \"colsample_bytree\", \"gamma\", \"max_depth\", \"min_child_weight\", \"subsample\" } are not used.\n",
            "\n",
            "  warnings.warn(smsg, UserWarning)\n",
            "Best trial: 54. Best value: 0.711264:  86%|████████▌ | 86/100 [1:24:50<00:40,  2.91s/it]"
          ]
        },
        {
          "name": "stdout",
          "output_type": "stream",
          "text": [
            "[I 2025-02-09 12:25:52,241] Trial 85 finished with value: 0.710358615743188 and parameters: {'booster': 'gblinear', 'max_depth': 10, 'learning_rate': 0.09372511870776509, 'n_estimators': 1250, 'subsample': 0.9974849891827234, 'colsample_bytree': 0.9007343160159741, 'reg_alpha': 0.0008691383637922518, 'reg_lambda': 4.871303271339362e-08, 'min_child_weight': 7, 'gamma': 1.1557913240218551e-08}. Best is trial 54 with value: 0.7112638671842374.\n"
          ]
        },
        {
          "name": "stderr",
          "output_type": "stream",
          "text": [
            "c:\\Users\\domdd\\Documents\\GitHub\\Soy-Crush\\.venv\\Lib\\site-packages\\xgboost\\core.py:158: UserWarning: [12:25:52] WARNING: C:\\buildkite-agent\\builds\\buildkite-windows-cpu-autoscaling-group-i-08cbc0333d8d4aae1-1\\xgboost\\xgboost-ci-windows\\src\\learner.cc:740: \n",
            "Parameters: { \"colsample_bytree\", \"gamma\", \"max_depth\", \"min_child_weight\", \"subsample\" } are not used.\n",
            "\n",
            "  warnings.warn(smsg, UserWarning)\n",
            "c:\\Users\\domdd\\Documents\\GitHub\\Soy-Crush\\.venv\\Lib\\site-packages\\xgboost\\core.py:158: UserWarning: [12:25:53] WARNING: C:\\buildkite-agent\\builds\\buildkite-windows-cpu-autoscaling-group-i-08cbc0333d8d4aae1-1\\xgboost\\xgboost-ci-windows\\src\\learner.cc:740: \n",
            "Parameters: { \"colsample_bytree\", \"gamma\", \"max_depth\", \"min_child_weight\", \"subsample\" } are not used.\n",
            "\n",
            "  warnings.warn(smsg, UserWarning)\n",
            "c:\\Users\\domdd\\Documents\\GitHub\\Soy-Crush\\.venv\\Lib\\site-packages\\xgboost\\core.py:158: UserWarning: [12:25:53] WARNING: C:\\buildkite-agent\\builds\\buildkite-windows-cpu-autoscaling-group-i-08cbc0333d8d4aae1-1\\xgboost\\xgboost-ci-windows\\src\\learner.cc:740: \n",
            "Parameters: { \"colsample_bytree\", \"gamma\", \"max_depth\", \"min_child_weight\", \"subsample\" } are not used.\n",
            "\n",
            "  warnings.warn(smsg, UserWarning)\n",
            "c:\\Users\\domdd\\Documents\\GitHub\\Soy-Crush\\.venv\\Lib\\site-packages\\xgboost\\core.py:158: UserWarning: [12:25:53] WARNING: C:\\buildkite-agent\\builds\\buildkite-windows-cpu-autoscaling-group-i-08cbc0333d8d4aae1-1\\xgboost\\xgboost-ci-windows\\src\\learner.cc:740: \n",
            "Parameters: { \"colsample_bytree\", \"gamma\", \"max_depth\", \"min_child_weight\", \"subsample\" } are not used.\n",
            "\n",
            "  warnings.warn(smsg, UserWarning)\n",
            "c:\\Users\\domdd\\Documents\\GitHub\\Soy-Crush\\.venv\\Lib\\site-packages\\xgboost\\core.py:158: UserWarning: [12:25:54] WARNING: C:\\buildkite-agent\\builds\\buildkite-windows-cpu-autoscaling-group-i-08cbc0333d8d4aae1-1\\xgboost\\xgboost-ci-windows\\src\\learner.cc:740: \n",
            "Parameters: { \"colsample_bytree\", \"gamma\", \"max_depth\", \"min_child_weight\", \"subsample\" } are not used.\n",
            "\n",
            "  warnings.warn(smsg, UserWarning)\n",
            "Best trial: 54. Best value: 0.711264:  87%|████████▋ | 87/100 [1:24:52<00:35,  2.72s/it]"
          ]
        },
        {
          "name": "stdout",
          "output_type": "stream",
          "text": [
            "[I 2025-02-09 12:25:54,518] Trial 86 finished with value: 0.7106324299681626 and parameters: {'booster': 'gblinear', 'max_depth': 10, 'learning_rate': 0.09907002248519144, 'n_estimators': 1250, 'subsample': 0.989312777901848, 'colsample_bytree': 0.8961881669154992, 'reg_alpha': 0.001005064882027037, 'reg_lambda': 5.554460041815341e-08, 'min_child_weight': 7, 'gamma': 1.1242679245672535e-08}. Best is trial 54 with value: 0.7112638671842374.\n"
          ]
        },
        {
          "name": "stderr",
          "output_type": "stream",
          "text": [
            "c:\\Users\\domdd\\Documents\\GitHub\\Soy-Crush\\.venv\\Lib\\site-packages\\xgboost\\core.py:158: UserWarning: [12:25:54] WARNING: C:\\buildkite-agent\\builds\\buildkite-windows-cpu-autoscaling-group-i-08cbc0333d8d4aae1-1\\xgboost\\xgboost-ci-windows\\src\\learner.cc:740: \n",
            "Parameters: { \"colsample_bytree\", \"gamma\", \"max_depth\", \"min_child_weight\", \"subsample\" } are not used.\n",
            "\n",
            "  warnings.warn(smsg, UserWarning)\n",
            "c:\\Users\\domdd\\Documents\\GitHub\\Soy-Crush\\.venv\\Lib\\site-packages\\xgboost\\core.py:158: UserWarning: [12:25:55] WARNING: C:\\buildkite-agent\\builds\\buildkite-windows-cpu-autoscaling-group-i-08cbc0333d8d4aae1-1\\xgboost\\xgboost-ci-windows\\src\\learner.cc:740: \n",
            "Parameters: { \"colsample_bytree\", \"gamma\", \"max_depth\", \"min_child_weight\", \"subsample\" } are not used.\n",
            "\n",
            "  warnings.warn(smsg, UserWarning)\n",
            "c:\\Users\\domdd\\Documents\\GitHub\\Soy-Crush\\.venv\\Lib\\site-packages\\xgboost\\core.py:158: UserWarning: [12:25:55] WARNING: C:\\buildkite-agent\\builds\\buildkite-windows-cpu-autoscaling-group-i-08cbc0333d8d4aae1-1\\xgboost\\xgboost-ci-windows\\src\\learner.cc:740: \n",
            "Parameters: { \"colsample_bytree\", \"gamma\", \"max_depth\", \"min_child_weight\", \"subsample\" } are not used.\n",
            "\n",
            "  warnings.warn(smsg, UserWarning)\n",
            "c:\\Users\\domdd\\Documents\\GitHub\\Soy-Crush\\.venv\\Lib\\site-packages\\xgboost\\core.py:158: UserWarning: [12:25:56] WARNING: C:\\buildkite-agent\\builds\\buildkite-windows-cpu-autoscaling-group-i-08cbc0333d8d4aae1-1\\xgboost\\xgboost-ci-windows\\src\\learner.cc:740: \n",
            "Parameters: { \"colsample_bytree\", \"gamma\", \"max_depth\", \"min_child_weight\", \"subsample\" } are not used.\n",
            "\n",
            "  warnings.warn(smsg, UserWarning)\n",
            "c:\\Users\\domdd\\Documents\\GitHub\\Soy-Crush\\.venv\\Lib\\site-packages\\xgboost\\core.py:158: UserWarning: [12:25:56] WARNING: C:\\buildkite-agent\\builds\\buildkite-windows-cpu-autoscaling-group-i-08cbc0333d8d4aae1-1\\xgboost\\xgboost-ci-windows\\src\\learner.cc:740: \n",
            "Parameters: { \"colsample_bytree\", \"gamma\", \"max_depth\", \"min_child_weight\", \"subsample\" } are not used.\n",
            "\n",
            "  warnings.warn(smsg, UserWarning)\n",
            "Best trial: 54. Best value: 0.711264:  88%|████████▊ | 88/100 [1:24:55<00:30,  2.56s/it]"
          ]
        },
        {
          "name": "stdout",
          "output_type": "stream",
          "text": [
            "[I 2025-02-09 12:25:56,723] Trial 87 finished with value: 0.7074208255258067 and parameters: {'booster': 'gblinear', 'max_depth': 10, 'learning_rate': 0.046002467875445645, 'n_estimators': 1200, 'subsample': 0.984140086266778, 'colsample_bytree': 0.93415492162727, 'reg_alpha': 0.0005027664117408002, 'reg_lambda': 2.057270746010544e-08, 'min_child_weight': 7, 'gamma': 1.0355977010499539e-08}. Best is trial 54 with value: 0.7112638671842374.\n"
          ]
        },
        {
          "name": "stderr",
          "output_type": "stream",
          "text": [
            "c:\\Users\\domdd\\Documents\\GitHub\\Soy-Crush\\.venv\\Lib\\site-packages\\xgboost\\core.py:158: UserWarning: [12:25:57] WARNING: C:\\buildkite-agent\\builds\\buildkite-windows-cpu-autoscaling-group-i-08cbc0333d8d4aae1-1\\xgboost\\xgboost-ci-windows\\src\\learner.cc:740: \n",
            "Parameters: { \"dropout_rate\" } are not used.\n",
            "\n",
            "  warnings.warn(smsg, UserWarning)\n",
            "c:\\Users\\domdd\\Documents\\GitHub\\Soy-Crush\\.venv\\Lib\\site-packages\\xgboost\\core.py:158: UserWarning: [12:27:57] WARNING: C:\\buildkite-agent\\builds\\buildkite-windows-cpu-autoscaling-group-i-08cbc0333d8d4aae1-1\\xgboost\\xgboost-ci-windows\\src\\learner.cc:740: \n",
            "Parameters: { \"dropout_rate\" } are not used.\n",
            "\n",
            "  warnings.warn(smsg, UserWarning)\n",
            "c:\\Users\\domdd\\Documents\\GitHub\\Soy-Crush\\.venv\\Lib\\site-packages\\xgboost\\core.py:158: UserWarning: [12:30:06] WARNING: C:\\buildkite-agent\\builds\\buildkite-windows-cpu-autoscaling-group-i-08cbc0333d8d4aae1-1\\xgboost\\xgboost-ci-windows\\src\\learner.cc:740: \n",
            "Parameters: { \"dropout_rate\" } are not used.\n",
            "\n",
            "  warnings.warn(smsg, UserWarning)\n",
            "c:\\Users\\domdd\\Documents\\GitHub\\Soy-Crush\\.venv\\Lib\\site-packages\\xgboost\\core.py:158: UserWarning: [12:32:12] WARNING: C:\\buildkite-agent\\builds\\buildkite-windows-cpu-autoscaling-group-i-08cbc0333d8d4aae1-1\\xgboost\\xgboost-ci-windows\\src\\learner.cc:740: \n",
            "Parameters: { \"dropout_rate\" } are not used.\n",
            "\n",
            "  warnings.warn(smsg, UserWarning)\n",
            "c:\\Users\\domdd\\Documents\\GitHub\\Soy-Crush\\.venv\\Lib\\site-packages\\xgboost\\core.py:158: UserWarning: [12:34:23] WARNING: C:\\buildkite-agent\\builds\\buildkite-windows-cpu-autoscaling-group-i-08cbc0333d8d4aae1-1\\xgboost\\xgboost-ci-windows\\src\\learner.cc:740: \n",
            "Parameters: { \"dropout_rate\" } are not used.\n",
            "\n",
            "  warnings.warn(smsg, UserWarning)\n",
            "Best trial: 54. Best value: 0.711264:  89%|████████▉ | 89/100 [1:35:32<35:21, 192.89s/it]"
          ]
        },
        {
          "name": "stdout",
          "output_type": "stream",
          "text": [
            "[I 2025-02-09 12:36:33,693] Trial 88 finished with value: 0.6365215039374453 and parameters: {'booster': 'dart', 'max_depth': 10, 'learning_rate': 0.09661949034194443, 'n_estimators': 1050, 'subsample': 0.9659842772971684, 'colsample_bytree': 0.883214710425855, 'reg_alpha': 0.0019856462950616437, 'reg_lambda': 7.329939722141004e-08, 'min_child_weight': 8, 'gamma': 4.7540395786873575e-08, 'dropout_rate': 0.7392840853950758}. Best is trial 54 with value: 0.7112638671842374.\n"
          ]
        },
        {
          "name": "stderr",
          "output_type": "stream",
          "text": [
            "c:\\Users\\domdd\\Documents\\GitHub\\Soy-Crush\\.venv\\Lib\\site-packages\\xgboost\\core.py:158: UserWarning: [12:36:34] WARNING: C:\\buildkite-agent\\builds\\buildkite-windows-cpu-autoscaling-group-i-08cbc0333d8d4aae1-1\\xgboost\\xgboost-ci-windows\\src\\learner.cc:740: \n",
            "Parameters: { \"colsample_bytree\", \"gamma\", \"max_depth\", \"min_child_weight\", \"subsample\" } are not used.\n",
            "\n",
            "  warnings.warn(smsg, UserWarning)\n",
            "c:\\Users\\domdd\\Documents\\GitHub\\Soy-Crush\\.venv\\Lib\\site-packages\\xgboost\\core.py:158: UserWarning: [12:36:34] WARNING: C:\\buildkite-agent\\builds\\buildkite-windows-cpu-autoscaling-group-i-08cbc0333d8d4aae1-1\\xgboost\\xgboost-ci-windows\\src\\learner.cc:740: \n",
            "Parameters: { \"colsample_bytree\", \"gamma\", \"max_depth\", \"min_child_weight\", \"subsample\" } are not used.\n",
            "\n",
            "  warnings.warn(smsg, UserWarning)\n",
            "c:\\Users\\domdd\\Documents\\GitHub\\Soy-Crush\\.venv\\Lib\\site-packages\\xgboost\\core.py:158: UserWarning: [12:36:34] WARNING: C:\\buildkite-agent\\builds\\buildkite-windows-cpu-autoscaling-group-i-08cbc0333d8d4aae1-1\\xgboost\\xgboost-ci-windows\\src\\learner.cc:740: \n",
            "Parameters: { \"colsample_bytree\", \"gamma\", \"max_depth\", \"min_child_weight\", \"subsample\" } are not used.\n",
            "\n",
            "  warnings.warn(smsg, UserWarning)\n",
            "c:\\Users\\domdd\\Documents\\GitHub\\Soy-Crush\\.venv\\Lib\\site-packages\\xgboost\\core.py:158: UserWarning: [12:36:35] WARNING: C:\\buildkite-agent\\builds\\buildkite-windows-cpu-autoscaling-group-i-08cbc0333d8d4aae1-1\\xgboost\\xgboost-ci-windows\\src\\learner.cc:740: \n",
            "Parameters: { \"colsample_bytree\", \"gamma\", \"max_depth\", \"min_child_weight\", \"subsample\" } are not used.\n",
            "\n",
            "  warnings.warn(smsg, UserWarning)\n",
            "c:\\Users\\domdd\\Documents\\GitHub\\Soy-Crush\\.venv\\Lib\\site-packages\\xgboost\\core.py:158: UserWarning: [12:36:35] WARNING: C:\\buildkite-agent\\builds\\buildkite-windows-cpu-autoscaling-group-i-08cbc0333d8d4aae1-1\\xgboost\\xgboost-ci-windows\\src\\learner.cc:740: \n",
            "Parameters: { \"colsample_bytree\", \"gamma\", \"max_depth\", \"min_child_weight\", \"subsample\" } are not used.\n",
            "\n",
            "  warnings.warn(smsg, UserWarning)\n",
            "Best trial: 54. Best value: 0.711264:  90%|█████████ | 90/100 [1:35:34<22:36, 135.68s/it]"
          ]
        },
        {
          "name": "stdout",
          "output_type": "stream",
          "text": [
            "[I 2025-02-09 12:36:35,891] Trial 89 finished with value: 0.7098602886474097 and parameters: {'booster': 'gblinear', 'max_depth': 10, 'learning_rate': 0.07296066702485719, 'n_estimators': 1150, 'subsample': 0.9446795097164007, 'colsample_bytree': 0.8202048747693131, 'reg_alpha': 0.0010467144760486604, 'reg_lambda': 3.18727654867991e-08, 'min_child_weight': 5, 'gamma': 2.2162205149199192e-08}. Best is trial 54 with value: 0.7112638671842374.\n"
          ]
        },
        {
          "name": "stderr",
          "output_type": "stream",
          "text": [
            "c:\\Users\\domdd\\Documents\\GitHub\\Soy-Crush\\.venv\\Lib\\site-packages\\xgboost\\core.py:158: UserWarning: [12:36:36] WARNING: C:\\buildkite-agent\\builds\\buildkite-windows-cpu-autoscaling-group-i-08cbc0333d8d4aae1-1\\xgboost\\xgboost-ci-windows\\src\\learner.cc:740: \n",
            "Parameters: { \"colsample_bytree\", \"gamma\", \"max_depth\", \"min_child_weight\", \"subsample\" } are not used.\n",
            "\n",
            "  warnings.warn(smsg, UserWarning)\n",
            "c:\\Users\\domdd\\Documents\\GitHub\\Soy-Crush\\.venv\\Lib\\site-packages\\xgboost\\core.py:158: UserWarning: [12:36:36] WARNING: C:\\buildkite-agent\\builds\\buildkite-windows-cpu-autoscaling-group-i-08cbc0333d8d4aae1-1\\xgboost\\xgboost-ci-windows\\src\\learner.cc:740: \n",
            "Parameters: { \"colsample_bytree\", \"gamma\", \"max_depth\", \"min_child_weight\", \"subsample\" } are not used.\n",
            "\n",
            "  warnings.warn(smsg, UserWarning)\n",
            "c:\\Users\\domdd\\Documents\\GitHub\\Soy-Crush\\.venv\\Lib\\site-packages\\xgboost\\core.py:158: UserWarning: [12:36:37] WARNING: C:\\buildkite-agent\\builds\\buildkite-windows-cpu-autoscaling-group-i-08cbc0333d8d4aae1-1\\xgboost\\xgboost-ci-windows\\src\\learner.cc:740: \n",
            "Parameters: { \"colsample_bytree\", \"gamma\", \"max_depth\", \"min_child_weight\", \"subsample\" } are not used.\n",
            "\n",
            "  warnings.warn(smsg, UserWarning)\n",
            "c:\\Users\\domdd\\Documents\\GitHub\\Soy-Crush\\.venv\\Lib\\site-packages\\xgboost\\core.py:158: UserWarning: [12:36:37] WARNING: C:\\buildkite-agent\\builds\\buildkite-windows-cpu-autoscaling-group-i-08cbc0333d8d4aae1-1\\xgboost\\xgboost-ci-windows\\src\\learner.cc:740: \n",
            "Parameters: { \"colsample_bytree\", \"gamma\", \"max_depth\", \"min_child_weight\", \"subsample\" } are not used.\n",
            "\n",
            "  warnings.warn(smsg, UserWarning)\n",
            "c:\\Users\\domdd\\Documents\\GitHub\\Soy-Crush\\.venv\\Lib\\site-packages\\xgboost\\core.py:158: UserWarning: [12:36:37] WARNING: C:\\buildkite-agent\\builds\\buildkite-windows-cpu-autoscaling-group-i-08cbc0333d8d4aae1-1\\xgboost\\xgboost-ci-windows\\src\\learner.cc:740: \n",
            "Parameters: { \"colsample_bytree\", \"gamma\", \"max_depth\", \"min_child_weight\", \"subsample\" } are not used.\n",
            "\n",
            "  warnings.warn(smsg, UserWarning)\n",
            "Best trial: 54. Best value: 0.711264:  91%|█████████ | 91/100 [1:35:36<14:20, 95.65s/it] "
          ]
        },
        {
          "name": "stdout",
          "output_type": "stream",
          "text": [
            "[I 2025-02-09 12:36:38,138] Trial 90 finished with value: 0.709014105762108 and parameters: {'booster': 'gblinear', 'max_depth': 10, 'learning_rate': 0.09966517466395976, 'n_estimators': 1250, 'subsample': 0.9611284853115946, 'colsample_bytree': 0.751846417913705, 'reg_alpha': 0.0002100316868686906, 'reg_lambda': 1.408719066554868e-08, 'min_child_weight': 7, 'gamma': 1.5984212470281567e-07}. Best is trial 54 with value: 0.7112638671842374.\n"
          ]
        },
        {
          "name": "stderr",
          "output_type": "stream",
          "text": [
            "c:\\Users\\domdd\\Documents\\GitHub\\Soy-Crush\\.venv\\Lib\\site-packages\\xgboost\\core.py:158: UserWarning: [12:36:38] WARNING: C:\\buildkite-agent\\builds\\buildkite-windows-cpu-autoscaling-group-i-08cbc0333d8d4aae1-1\\xgboost\\xgboost-ci-windows\\src\\learner.cc:740: \n",
            "Parameters: { \"colsample_bytree\", \"gamma\", \"max_depth\", \"min_child_weight\", \"subsample\" } are not used.\n",
            "\n",
            "  warnings.warn(smsg, UserWarning)\n",
            "c:\\Users\\domdd\\Documents\\GitHub\\Soy-Crush\\.venv\\Lib\\site-packages\\xgboost\\core.py:158: UserWarning: [12:36:38] WARNING: C:\\buildkite-agent\\builds\\buildkite-windows-cpu-autoscaling-group-i-08cbc0333d8d4aae1-1\\xgboost\\xgboost-ci-windows\\src\\learner.cc:740: \n",
            "Parameters: { \"colsample_bytree\", \"gamma\", \"max_depth\", \"min_child_weight\", \"subsample\" } are not used.\n",
            "\n",
            "  warnings.warn(smsg, UserWarning)\n",
            "c:\\Users\\domdd\\Documents\\GitHub\\Soy-Crush\\.venv\\Lib\\site-packages\\xgboost\\core.py:158: UserWarning: [12:36:39] WARNING: C:\\buildkite-agent\\builds\\buildkite-windows-cpu-autoscaling-group-i-08cbc0333d8d4aae1-1\\xgboost\\xgboost-ci-windows\\src\\learner.cc:740: \n",
            "Parameters: { \"colsample_bytree\", \"gamma\", \"max_depth\", \"min_child_weight\", \"subsample\" } are not used.\n",
            "\n",
            "  warnings.warn(smsg, UserWarning)\n",
            "c:\\Users\\domdd\\Documents\\GitHub\\Soy-Crush\\.venv\\Lib\\site-packages\\xgboost\\core.py:158: UserWarning: [12:36:39] WARNING: C:\\buildkite-agent\\builds\\buildkite-windows-cpu-autoscaling-group-i-08cbc0333d8d4aae1-1\\xgboost\\xgboost-ci-windows\\src\\learner.cc:740: \n",
            "Parameters: { \"colsample_bytree\", \"gamma\", \"max_depth\", \"min_child_weight\", \"subsample\" } are not used.\n",
            "\n",
            "  warnings.warn(smsg, UserWarning)\n",
            "c:\\Users\\domdd\\Documents\\GitHub\\Soy-Crush\\.venv\\Lib\\site-packages\\xgboost\\core.py:158: UserWarning: [12:36:40] WARNING: C:\\buildkite-agent\\builds\\buildkite-windows-cpu-autoscaling-group-i-08cbc0333d8d4aae1-1\\xgboost\\xgboost-ci-windows\\src\\learner.cc:740: \n",
            "Parameters: { \"colsample_bytree\", \"gamma\", \"max_depth\", \"min_child_weight\", \"subsample\" } are not used.\n",
            "\n",
            "  warnings.warn(smsg, UserWarning)\n",
            "Best trial: 54. Best value: 0.711264:  92%|█████████▏| 92/100 [1:35:38<09:01, 67.64s/it]"
          ]
        },
        {
          "name": "stdout",
          "output_type": "stream",
          "text": [
            "[I 2025-02-09 12:36:40,405] Trial 91 finished with value: 0.7101624263492429 and parameters: {'booster': 'gblinear', 'max_depth': 10, 'learning_rate': 0.09935274358699281, 'n_estimators': 1250, 'subsample': 0.9928183743415352, 'colsample_bytree': 0.9019441367969969, 'reg_alpha': 0.0006611021858210813, 'reg_lambda': 6.515305461097118e-08, 'min_child_weight': 7, 'gamma': 1.0231225063862457e-08}. Best is trial 54 with value: 0.7112638671842374.\n"
          ]
        },
        {
          "name": "stderr",
          "output_type": "stream",
          "text": [
            "c:\\Users\\domdd\\Documents\\GitHub\\Soy-Crush\\.venv\\Lib\\site-packages\\xgboost\\core.py:158: UserWarning: [12:36:40] WARNING: C:\\buildkite-agent\\builds\\buildkite-windows-cpu-autoscaling-group-i-08cbc0333d8d4aae1-1\\xgboost\\xgboost-ci-windows\\src\\learner.cc:740: \n",
            "Parameters: { \"colsample_bytree\", \"gamma\", \"max_depth\", \"min_child_weight\", \"subsample\" } are not used.\n",
            "\n",
            "  warnings.warn(smsg, UserWarning)\n",
            "c:\\Users\\domdd\\Documents\\GitHub\\Soy-Crush\\.venv\\Lib\\site-packages\\xgboost\\core.py:158: UserWarning: [12:36:41] WARNING: C:\\buildkite-agent\\builds\\buildkite-windows-cpu-autoscaling-group-i-08cbc0333d8d4aae1-1\\xgboost\\xgboost-ci-windows\\src\\learner.cc:740: \n",
            "Parameters: { \"colsample_bytree\", \"gamma\", \"max_depth\", \"min_child_weight\", \"subsample\" } are not used.\n",
            "\n",
            "  warnings.warn(smsg, UserWarning)\n",
            "c:\\Users\\domdd\\Documents\\GitHub\\Soy-Crush\\.venv\\Lib\\site-packages\\xgboost\\core.py:158: UserWarning: [12:36:41] WARNING: C:\\buildkite-agent\\builds\\buildkite-windows-cpu-autoscaling-group-i-08cbc0333d8d4aae1-1\\xgboost\\xgboost-ci-windows\\src\\learner.cc:740: \n",
            "Parameters: { \"colsample_bytree\", \"gamma\", \"max_depth\", \"min_child_weight\", \"subsample\" } are not used.\n",
            "\n",
            "  warnings.warn(smsg, UserWarning)\n",
            "c:\\Users\\domdd\\Documents\\GitHub\\Soy-Crush\\.venv\\Lib\\site-packages\\xgboost\\core.py:158: UserWarning: [12:36:41] WARNING: C:\\buildkite-agent\\builds\\buildkite-windows-cpu-autoscaling-group-i-08cbc0333d8d4aae1-1\\xgboost\\xgboost-ci-windows\\src\\learner.cc:740: \n",
            "Parameters: { \"colsample_bytree\", \"gamma\", \"max_depth\", \"min_child_weight\", \"subsample\" } are not used.\n",
            "\n",
            "  warnings.warn(smsg, UserWarning)\n",
            "c:\\Users\\domdd\\Documents\\GitHub\\Soy-Crush\\.venv\\Lib\\site-packages\\xgboost\\core.py:158: UserWarning: [12:36:42] WARNING: C:\\buildkite-agent\\builds\\buildkite-windows-cpu-autoscaling-group-i-08cbc0333d8d4aae1-1\\xgboost\\xgboost-ci-windows\\src\\learner.cc:740: \n",
            "Parameters: { \"colsample_bytree\", \"gamma\", \"max_depth\", \"min_child_weight\", \"subsample\" } are not used.\n",
            "\n",
            "  warnings.warn(smsg, UserWarning)\n",
            "Best trial: 54. Best value: 0.711264:  93%|█████████▎| 93/100 [1:35:40<05:36, 48.01s/it]"
          ]
        },
        {
          "name": "stdout",
          "output_type": "stream",
          "text": [
            "[I 2025-02-09 12:36:42,607] Trial 92 finished with value: 0.7098191080029155 and parameters: {'booster': 'gblinear', 'max_depth': 10, 'learning_rate': 0.07512522465771197, 'n_estimators': 1200, 'subsample': 0.997459650578004, 'colsample_bytree': 0.9170741579816523, 'reg_alpha': 0.0008905449726513239, 'reg_lambda': 4.1205490158731646e-08, 'min_child_weight': 7, 'gamma': 5.2939683918793616e-08}. Best is trial 54 with value: 0.7112638671842374.\n"
          ]
        },
        {
          "name": "stderr",
          "output_type": "stream",
          "text": [
            "c:\\Users\\domdd\\Documents\\GitHub\\Soy-Crush\\.venv\\Lib\\site-packages\\xgboost\\core.py:158: UserWarning: [12:36:42] WARNING: C:\\buildkite-agent\\builds\\buildkite-windows-cpu-autoscaling-group-i-08cbc0333d8d4aae1-1\\xgboost\\xgboost-ci-windows\\src\\learner.cc:740: \n",
            "Parameters: { \"colsample_bytree\", \"gamma\", \"max_depth\", \"min_child_weight\", \"subsample\" } are not used.\n",
            "\n",
            "  warnings.warn(smsg, UserWarning)\n",
            "c:\\Users\\domdd\\Documents\\GitHub\\Soy-Crush\\.venv\\Lib\\site-packages\\xgboost\\core.py:158: UserWarning: [12:36:43] WARNING: C:\\buildkite-agent\\builds\\buildkite-windows-cpu-autoscaling-group-i-08cbc0333d8d4aae1-1\\xgboost\\xgboost-ci-windows\\src\\learner.cc:740: \n",
            "Parameters: { \"colsample_bytree\", \"gamma\", \"max_depth\", \"min_child_weight\", \"subsample\" } are not used.\n",
            "\n",
            "  warnings.warn(smsg, UserWarning)\n",
            "c:\\Users\\domdd\\Documents\\GitHub\\Soy-Crush\\.venv\\Lib\\site-packages\\xgboost\\core.py:158: UserWarning: [12:36:43] WARNING: C:\\buildkite-agent\\builds\\buildkite-windows-cpu-autoscaling-group-i-08cbc0333d8d4aae1-1\\xgboost\\xgboost-ci-windows\\src\\learner.cc:740: \n",
            "Parameters: { \"colsample_bytree\", \"gamma\", \"max_depth\", \"min_child_weight\", \"subsample\" } are not used.\n",
            "\n",
            "  warnings.warn(smsg, UserWarning)\n",
            "c:\\Users\\domdd\\Documents\\GitHub\\Soy-Crush\\.venv\\Lib\\site-packages\\xgboost\\core.py:158: UserWarning: [12:36:44] WARNING: C:\\buildkite-agent\\builds\\buildkite-windows-cpu-autoscaling-group-i-08cbc0333d8d4aae1-1\\xgboost\\xgboost-ci-windows\\src\\learner.cc:740: \n",
            "Parameters: { \"colsample_bytree\", \"gamma\", \"max_depth\", \"min_child_weight\", \"subsample\" } are not used.\n",
            "\n",
            "  warnings.warn(smsg, UserWarning)\n",
            "c:\\Users\\domdd\\Documents\\GitHub\\Soy-Crush\\.venv\\Lib\\site-packages\\xgboost\\core.py:158: UserWarning: [12:36:44] WARNING: C:\\buildkite-agent\\builds\\buildkite-windows-cpu-autoscaling-group-i-08cbc0333d8d4aae1-1\\xgboost\\xgboost-ci-windows\\src\\learner.cc:740: \n",
            "Parameters: { \"colsample_bytree\", \"gamma\", \"max_depth\", \"min_child_weight\", \"subsample\" } are not used.\n",
            "\n",
            "  warnings.warn(smsg, UserWarning)\n",
            "Best trial: 54. Best value: 0.711264:  94%|█████████▍| 94/100 [1:35:43<03:25, 34.25s/it]"
          ]
        },
        {
          "name": "stdout",
          "output_type": "stream",
          "text": [
            "[I 2025-02-09 12:36:44,765] Trial 93 finished with value: 0.7104403276155812 and parameters: {'booster': 'gblinear', 'max_depth': 10, 'learning_rate': 0.06945127922085136, 'n_estimators': 1100, 'subsample': 0.975697547594102, 'colsample_bytree': 0.8931244944043127, 'reg_alpha': 0.0019118290398421058, 'reg_lambda': 5.4861370838020486e-08, 'min_child_weight': 6, 'gamma': 1.5358410860339467e-08}. Best is trial 54 with value: 0.7112638671842374.\n"
          ]
        },
        {
          "name": "stderr",
          "output_type": "stream",
          "text": [
            "c:\\Users\\domdd\\Documents\\GitHub\\Soy-Crush\\.venv\\Lib\\site-packages\\xgboost\\core.py:158: UserWarning: [12:36:45] WARNING: C:\\buildkite-agent\\builds\\buildkite-windows-cpu-autoscaling-group-i-08cbc0333d8d4aae1-1\\xgboost\\xgboost-ci-windows\\src\\learner.cc:740: \n",
            "Parameters: { \"colsample_bytree\", \"gamma\", \"max_depth\", \"min_child_weight\", \"subsample\" } are not used.\n",
            "\n",
            "  warnings.warn(smsg, UserWarning)\n",
            "c:\\Users\\domdd\\Documents\\GitHub\\Soy-Crush\\.venv\\Lib\\site-packages\\xgboost\\core.py:158: UserWarning: [12:36:45] WARNING: C:\\buildkite-agent\\builds\\buildkite-windows-cpu-autoscaling-group-i-08cbc0333d8d4aae1-1\\xgboost\\xgboost-ci-windows\\src\\learner.cc:740: \n",
            "Parameters: { \"colsample_bytree\", \"gamma\", \"max_depth\", \"min_child_weight\", \"subsample\" } are not used.\n",
            "\n",
            "  warnings.warn(smsg, UserWarning)\n",
            "c:\\Users\\domdd\\Documents\\GitHub\\Soy-Crush\\.venv\\Lib\\site-packages\\xgboost\\core.py:158: UserWarning: [12:36:45] WARNING: C:\\buildkite-agent\\builds\\buildkite-windows-cpu-autoscaling-group-i-08cbc0333d8d4aae1-1\\xgboost\\xgboost-ci-windows\\src\\learner.cc:740: \n",
            "Parameters: { \"colsample_bytree\", \"gamma\", \"max_depth\", \"min_child_weight\", \"subsample\" } are not used.\n",
            "\n",
            "  warnings.warn(smsg, UserWarning)\n",
            "c:\\Users\\domdd\\Documents\\GitHub\\Soy-Crush\\.venv\\Lib\\site-packages\\xgboost\\core.py:158: UserWarning: [12:36:46] WARNING: C:\\buildkite-agent\\builds\\buildkite-windows-cpu-autoscaling-group-i-08cbc0333d8d4aae1-1\\xgboost\\xgboost-ci-windows\\src\\learner.cc:740: \n",
            "Parameters: { \"colsample_bytree\", \"gamma\", \"max_depth\", \"min_child_weight\", \"subsample\" } are not used.\n",
            "\n",
            "  warnings.warn(smsg, UserWarning)\n",
            "c:\\Users\\domdd\\Documents\\GitHub\\Soy-Crush\\.venv\\Lib\\site-packages\\xgboost\\core.py:158: UserWarning: [12:36:46] WARNING: C:\\buildkite-agent\\builds\\buildkite-windows-cpu-autoscaling-group-i-08cbc0333d8d4aae1-1\\xgboost\\xgboost-ci-windows\\src\\learner.cc:740: \n",
            "Parameters: { \"colsample_bytree\", \"gamma\", \"max_depth\", \"min_child_weight\", \"subsample\" } are not used.\n",
            "\n",
            "  warnings.warn(smsg, UserWarning)\n",
            "Best trial: 54. Best value: 0.711264:  95%|█████████▌| 95/100 [1:35:45<02:03, 24.62s/it]"
          ]
        },
        {
          "name": "stdout",
          "output_type": "stream",
          "text": [
            "[I 2025-02-09 12:36:46,911] Trial 94 finished with value: 0.7102829087393059 and parameters: {'booster': 'gblinear', 'max_depth': 10, 'learning_rate': 0.06979791793263179, 'n_estimators': 1100, 'subsample': 0.9741548650454758, 'colsample_bytree': 0.6489726003883493, 'reg_alpha': 0.0017534485229328508, 'reg_lambda': 2.5506192751467454e-07, 'min_child_weight': 6, 'gamma': 2.3312589906539265e-08}. Best is trial 54 with value: 0.7112638671842374.\n"
          ]
        },
        {
          "name": "stderr",
          "output_type": "stream",
          "text": [
            "c:\\Users\\domdd\\Documents\\GitHub\\Soy-Crush\\.venv\\Lib\\site-packages\\xgboost\\core.py:158: UserWarning: [12:36:47] WARNING: C:\\buildkite-agent\\builds\\buildkite-windows-cpu-autoscaling-group-i-08cbc0333d8d4aae1-1\\xgboost\\xgboost-ci-windows\\src\\learner.cc:740: \n",
            "Parameters: { \"colsample_bytree\", \"gamma\", \"max_depth\", \"min_child_weight\", \"subsample\" } are not used.\n",
            "\n",
            "  warnings.warn(smsg, UserWarning)\n",
            "c:\\Users\\domdd\\Documents\\GitHub\\Soy-Crush\\.venv\\Lib\\site-packages\\xgboost\\core.py:158: UserWarning: [12:36:47] WARNING: C:\\buildkite-agent\\builds\\buildkite-windows-cpu-autoscaling-group-i-08cbc0333d8d4aae1-1\\xgboost\\xgboost-ci-windows\\src\\learner.cc:740: \n",
            "Parameters: { \"colsample_bytree\", \"gamma\", \"max_depth\", \"min_child_weight\", \"subsample\" } are not used.\n",
            "\n",
            "  warnings.warn(smsg, UserWarning)\n",
            "c:\\Users\\domdd\\Documents\\GitHub\\Soy-Crush\\.venv\\Lib\\site-packages\\xgboost\\core.py:158: UserWarning: [12:36:48] WARNING: C:\\buildkite-agent\\builds\\buildkite-windows-cpu-autoscaling-group-i-08cbc0333d8d4aae1-1\\xgboost\\xgboost-ci-windows\\src\\learner.cc:740: \n",
            "Parameters: { \"colsample_bytree\", \"gamma\", \"max_depth\", \"min_child_weight\", \"subsample\" } are not used.\n",
            "\n",
            "  warnings.warn(smsg, UserWarning)\n",
            "c:\\Users\\domdd\\Documents\\GitHub\\Soy-Crush\\.venv\\Lib\\site-packages\\xgboost\\core.py:158: UserWarning: [12:36:48] WARNING: C:\\buildkite-agent\\builds\\buildkite-windows-cpu-autoscaling-group-i-08cbc0333d8d4aae1-1\\xgboost\\xgboost-ci-windows\\src\\learner.cc:740: \n",
            "Parameters: { \"colsample_bytree\", \"gamma\", \"max_depth\", \"min_child_weight\", \"subsample\" } are not used.\n",
            "\n",
            "  warnings.warn(smsg, UserWarning)\n",
            "c:\\Users\\domdd\\Documents\\GitHub\\Soy-Crush\\.venv\\Lib\\site-packages\\xgboost\\core.py:158: UserWarning: [12:36:48] WARNING: C:\\buildkite-agent\\builds\\buildkite-windows-cpu-autoscaling-group-i-08cbc0333d8d4aae1-1\\xgboost\\xgboost-ci-windows\\src\\learner.cc:740: \n",
            "Parameters: { \"colsample_bytree\", \"gamma\", \"max_depth\", \"min_child_weight\", \"subsample\" } are not used.\n",
            "\n",
            "  warnings.warn(smsg, UserWarning)\n",
            "Best trial: 54. Best value: 0.711264:  96%|█████████▌| 96/100 [1:35:47<01:11, 17.90s/it]"
          ]
        },
        {
          "name": "stdout",
          "output_type": "stream",
          "text": [
            "[I 2025-02-09 12:36:49,122] Trial 95 finished with value: 0.7099485605347582 and parameters: {'booster': 'gblinear', 'max_depth': 10, 'learning_rate': 0.05062660505152556, 'n_estimators': 1200, 'subsample': 0.9290936070666613, 'colsample_bytree': 0.8856479966318156, 'reg_alpha': 0.003209323155670017, 'reg_lambda': 2.0475240411673385e-08, 'min_child_weight': 8, 'gamma': 1.819287303093428e-08}. Best is trial 54 with value: 0.7112638671842374.\n"
          ]
        },
        {
          "name": "stderr",
          "output_type": "stream",
          "text": [
            "c:\\Users\\domdd\\Documents\\GitHub\\Soy-Crush\\.venv\\Lib\\site-packages\\xgboost\\core.py:158: UserWarning: [12:36:49] WARNING: C:\\buildkite-agent\\builds\\buildkite-windows-cpu-autoscaling-group-i-08cbc0333d8d4aae1-1\\xgboost\\xgboost-ci-windows\\src\\learner.cc:740: \n",
            "Parameters: { \"colsample_bytree\", \"gamma\", \"max_depth\", \"min_child_weight\", \"subsample\" } are not used.\n",
            "\n",
            "  warnings.warn(smsg, UserWarning)\n",
            "c:\\Users\\domdd\\Documents\\GitHub\\Soy-Crush\\.venv\\Lib\\site-packages\\xgboost\\core.py:158: UserWarning: [12:36:49] WARNING: C:\\buildkite-agent\\builds\\buildkite-windows-cpu-autoscaling-group-i-08cbc0333d8d4aae1-1\\xgboost\\xgboost-ci-windows\\src\\learner.cc:740: \n",
            "Parameters: { \"colsample_bytree\", \"gamma\", \"max_depth\", \"min_child_weight\", \"subsample\" } are not used.\n",
            "\n",
            "  warnings.warn(smsg, UserWarning)\n",
            "c:\\Users\\domdd\\Documents\\GitHub\\Soy-Crush\\.venv\\Lib\\site-packages\\xgboost\\core.py:158: UserWarning: [12:36:50] WARNING: C:\\buildkite-agent\\builds\\buildkite-windows-cpu-autoscaling-group-i-08cbc0333d8d4aae1-1\\xgboost\\xgboost-ci-windows\\src\\learner.cc:740: \n",
            "Parameters: { \"colsample_bytree\", \"gamma\", \"max_depth\", \"min_child_weight\", \"subsample\" } are not used.\n",
            "\n",
            "  warnings.warn(smsg, UserWarning)\n",
            "c:\\Users\\domdd\\Documents\\GitHub\\Soy-Crush\\.venv\\Lib\\site-packages\\xgboost\\core.py:158: UserWarning: [12:36:50] WARNING: C:\\buildkite-agent\\builds\\buildkite-windows-cpu-autoscaling-group-i-08cbc0333d8d4aae1-1\\xgboost\\xgboost-ci-windows\\src\\learner.cc:740: \n",
            "Parameters: { \"colsample_bytree\", \"gamma\", \"max_depth\", \"min_child_weight\", \"subsample\" } are not used.\n",
            "\n",
            "  warnings.warn(smsg, UserWarning)\n",
            "c:\\Users\\domdd\\Documents\\GitHub\\Soy-Crush\\.venv\\Lib\\site-packages\\xgboost\\core.py:158: UserWarning: [12:36:51] WARNING: C:\\buildkite-agent\\builds\\buildkite-windows-cpu-autoscaling-group-i-08cbc0333d8d4aae1-1\\xgboost\\xgboost-ci-windows\\src\\learner.cc:740: \n",
            "Parameters: { \"colsample_bytree\", \"gamma\", \"max_depth\", \"min_child_weight\", \"subsample\" } are not used.\n",
            "\n",
            "  warnings.warn(smsg, UserWarning)\n",
            "Best trial: 54. Best value: 0.711264:  97%|█████████▋| 97/100 [1:35:49<00:39, 13.18s/it]"
          ]
        },
        {
          "name": "stdout",
          "output_type": "stream",
          "text": [
            "[I 2025-02-09 12:36:51,291] Trial 96 finished with value: 0.7089344583593192 and parameters: {'booster': 'gblinear', 'max_depth': 10, 'learning_rate': 0.08442937505955775, 'n_estimators': 1150, 'subsample': 0.9419361217737968, 'colsample_bytree': 0.9359473726038572, 'reg_alpha': 0.000331368259488429, 'reg_lambda': 5.877318910034561e-08, 'min_child_weight': 5, 'gamma': 3.6230923836274657e-08}. Best is trial 54 with value: 0.7112638671842374.\n"
          ]
        },
        {
          "name": "stderr",
          "output_type": "stream",
          "text": [
            "c:\\Users\\domdd\\Documents\\GitHub\\Soy-Crush\\.venv\\Lib\\site-packages\\xgboost\\core.py:158: UserWarning: [12:36:51] WARNING: C:\\buildkite-agent\\builds\\buildkite-windows-cpu-autoscaling-group-i-08cbc0333d8d4aae1-1\\xgboost\\xgboost-ci-windows\\src\\learner.cc:740: \n",
            "Parameters: { \"colsample_bytree\", \"gamma\", \"max_depth\", \"min_child_weight\", \"subsample\" } are not used.\n",
            "\n",
            "  warnings.warn(smsg, UserWarning)\n",
            "c:\\Users\\domdd\\Documents\\GitHub\\Soy-Crush\\.venv\\Lib\\site-packages\\xgboost\\core.py:158: UserWarning: [12:36:52] WARNING: C:\\buildkite-agent\\builds\\buildkite-windows-cpu-autoscaling-group-i-08cbc0333d8d4aae1-1\\xgboost\\xgboost-ci-windows\\src\\learner.cc:740: \n",
            "Parameters: { \"colsample_bytree\", \"gamma\", \"max_depth\", \"min_child_weight\", \"subsample\" } are not used.\n",
            "\n",
            "  warnings.warn(smsg, UserWarning)\n",
            "c:\\Users\\domdd\\Documents\\GitHub\\Soy-Crush\\.venv\\Lib\\site-packages\\xgboost\\core.py:158: UserWarning: [12:36:52] WARNING: C:\\buildkite-agent\\builds\\buildkite-windows-cpu-autoscaling-group-i-08cbc0333d8d4aae1-1\\xgboost\\xgboost-ci-windows\\src\\learner.cc:740: \n",
            "Parameters: { \"colsample_bytree\", \"gamma\", \"max_depth\", \"min_child_weight\", \"subsample\" } are not used.\n",
            "\n",
            "  warnings.warn(smsg, UserWarning)\n",
            "c:\\Users\\domdd\\Documents\\GitHub\\Soy-Crush\\.venv\\Lib\\site-packages\\xgboost\\core.py:158: UserWarning: [12:36:52] WARNING: C:\\buildkite-agent\\builds\\buildkite-windows-cpu-autoscaling-group-i-08cbc0333d8d4aae1-1\\xgboost\\xgboost-ci-windows\\src\\learner.cc:740: \n",
            "Parameters: { \"colsample_bytree\", \"gamma\", \"max_depth\", \"min_child_weight\", \"subsample\" } are not used.\n",
            "\n",
            "  warnings.warn(smsg, UserWarning)\n",
            "c:\\Users\\domdd\\Documents\\GitHub\\Soy-Crush\\.venv\\Lib\\site-packages\\xgboost\\core.py:158: UserWarning: [12:36:53] WARNING: C:\\buildkite-agent\\builds\\buildkite-windows-cpu-autoscaling-group-i-08cbc0333d8d4aae1-1\\xgboost\\xgboost-ci-windows\\src\\learner.cc:740: \n",
            "Parameters: { \"colsample_bytree\", \"gamma\", \"max_depth\", \"min_child_weight\", \"subsample\" } are not used.\n",
            "\n",
            "  warnings.warn(smsg, UserWarning)\n",
            "Best trial: 54. Best value: 0.711264:  98%|█████████▊| 98/100 [1:35:51<00:19,  9.85s/it]"
          ]
        },
        {
          "name": "stdout",
          "output_type": "stream",
          "text": [
            "[I 2025-02-09 12:36:53,369] Trial 97 finished with value: 0.6984119577949025 and parameters: {'booster': 'gblinear', 'max_depth': 10, 'learning_rate': 0.04362695266891111, 'n_estimators': 1050, 'subsample': 0.9546515919580882, 'colsample_bytree': 0.9180043218220124, 'reg_alpha': 0.0038333168076298105, 'reg_lambda': 0.004712254581546196, 'min_child_weight': 6, 'gamma': 1.525468091182193e-08}. Best is trial 54 with value: 0.7112638671842374.\n"
          ]
        },
        {
          "name": "stderr",
          "output_type": "stream",
          "text": [
            "c:\\Users\\domdd\\Documents\\GitHub\\Soy-Crush\\.venv\\Lib\\site-packages\\xgboost\\core.py:158: UserWarning: [12:36:53] WARNING: C:\\buildkite-agent\\builds\\buildkite-windows-cpu-autoscaling-group-i-08cbc0333d8d4aae1-1\\xgboost\\xgboost-ci-windows\\src\\learner.cc:740: \n",
            "Parameters: { \"colsample_bytree\", \"gamma\", \"max_depth\", \"min_child_weight\", \"subsample\" } are not used.\n",
            "\n",
            "  warnings.warn(smsg, UserWarning)\n",
            "c:\\Users\\domdd\\Documents\\GitHub\\Soy-Crush\\.venv\\Lib\\site-packages\\xgboost\\core.py:158: UserWarning: [12:36:54] WARNING: C:\\buildkite-agent\\builds\\buildkite-windows-cpu-autoscaling-group-i-08cbc0333d8d4aae1-1\\xgboost\\xgboost-ci-windows\\src\\learner.cc:740: \n",
            "Parameters: { \"colsample_bytree\", \"gamma\", \"max_depth\", \"min_child_weight\", \"subsample\" } are not used.\n",
            "\n",
            "  warnings.warn(smsg, UserWarning)\n",
            "c:\\Users\\domdd\\Documents\\GitHub\\Soy-Crush\\.venv\\Lib\\site-packages\\xgboost\\core.py:158: UserWarning: [12:36:54] WARNING: C:\\buildkite-agent\\builds\\buildkite-windows-cpu-autoscaling-group-i-08cbc0333d8d4aae1-1\\xgboost\\xgboost-ci-windows\\src\\learner.cc:740: \n",
            "Parameters: { \"colsample_bytree\", \"gamma\", \"max_depth\", \"min_child_weight\", \"subsample\" } are not used.\n",
            "\n",
            "  warnings.warn(smsg, UserWarning)\n",
            "c:\\Users\\domdd\\Documents\\GitHub\\Soy-Crush\\.venv\\Lib\\site-packages\\xgboost\\core.py:158: UserWarning: [12:36:54] WARNING: C:\\buildkite-agent\\builds\\buildkite-windows-cpu-autoscaling-group-i-08cbc0333d8d4aae1-1\\xgboost\\xgboost-ci-windows\\src\\learner.cc:740: \n",
            "Parameters: { \"colsample_bytree\", \"gamma\", \"max_depth\", \"min_child_weight\", \"subsample\" } are not used.\n",
            "\n",
            "  warnings.warn(smsg, UserWarning)\n",
            "c:\\Users\\domdd\\Documents\\GitHub\\Soy-Crush\\.venv\\Lib\\site-packages\\xgboost\\core.py:158: UserWarning: [12:36:55] WARNING: C:\\buildkite-agent\\builds\\buildkite-windows-cpu-autoscaling-group-i-08cbc0333d8d4aae1-1\\xgboost\\xgboost-ci-windows\\src\\learner.cc:740: \n",
            "Parameters: { \"colsample_bytree\", \"gamma\", \"max_depth\", \"min_child_weight\", \"subsample\" } are not used.\n",
            "\n",
            "  warnings.warn(smsg, UserWarning)\n",
            "Best trial: 54. Best value: 0.711264:  99%|█████████▉| 99/100 [1:35:53<00:07,  7.52s/it]"
          ]
        },
        {
          "name": "stdout",
          "output_type": "stream",
          "text": [
            "[I 2025-02-09 12:36:55,448] Trial 98 finished with value: 0.7099208550511111 and parameters: {'booster': 'gblinear', 'max_depth': 10, 'learning_rate': 0.06534300971989053, 'n_estimators': 950, 'subsample': 0.9835384954443108, 'colsample_bytree': 0.8936136418810259, 'reg_alpha': 0.0023739390352928054, 'reg_lambda': 2.967558632163084e-08, 'min_child_weight': 8, 'gamma': 2.9026542030215262e-08}. Best is trial 54 with value: 0.7112638671842374.\n"
          ]
        },
        {
          "name": "stderr",
          "output_type": "stream",
          "text": [
            "c:\\Users\\domdd\\Documents\\GitHub\\Soy-Crush\\.venv\\Lib\\site-packages\\xgboost\\core.py:158: UserWarning: [12:36:55] WARNING: C:\\buildkite-agent\\builds\\buildkite-windows-cpu-autoscaling-group-i-08cbc0333d8d4aae1-1\\xgboost\\xgboost-ci-windows\\src\\learner.cc:740: \n",
            "Parameters: { \"colsample_bytree\", \"gamma\", \"max_depth\", \"min_child_weight\", \"subsample\" } are not used.\n",
            "\n",
            "  warnings.warn(smsg, UserWarning)\n",
            "c:\\Users\\domdd\\Documents\\GitHub\\Soy-Crush\\.venv\\Lib\\site-packages\\xgboost\\core.py:158: UserWarning: [12:36:56] WARNING: C:\\buildkite-agent\\builds\\buildkite-windows-cpu-autoscaling-group-i-08cbc0333d8d4aae1-1\\xgboost\\xgboost-ci-windows\\src\\learner.cc:740: \n",
            "Parameters: { \"colsample_bytree\", \"gamma\", \"max_depth\", \"min_child_weight\", \"subsample\" } are not used.\n",
            "\n",
            "  warnings.warn(smsg, UserWarning)\n",
            "c:\\Users\\domdd\\Documents\\GitHub\\Soy-Crush\\.venv\\Lib\\site-packages\\xgboost\\core.py:158: UserWarning: [12:36:56] WARNING: C:\\buildkite-agent\\builds\\buildkite-windows-cpu-autoscaling-group-i-08cbc0333d8d4aae1-1\\xgboost\\xgboost-ci-windows\\src\\learner.cc:740: \n",
            "Parameters: { \"colsample_bytree\", \"gamma\", \"max_depth\", \"min_child_weight\", \"subsample\" } are not used.\n",
            "\n",
            "  warnings.warn(smsg, UserWarning)\n",
            "c:\\Users\\domdd\\Documents\\GitHub\\Soy-Crush\\.venv\\Lib\\site-packages\\xgboost\\core.py:158: UserWarning: [12:36:57] WARNING: C:\\buildkite-agent\\builds\\buildkite-windows-cpu-autoscaling-group-i-08cbc0333d8d4aae1-1\\xgboost\\xgboost-ci-windows\\src\\learner.cc:740: \n",
            "Parameters: { \"colsample_bytree\", \"gamma\", \"max_depth\", \"min_child_weight\", \"subsample\" } are not used.\n",
            "\n",
            "  warnings.warn(smsg, UserWarning)\n",
            "c:\\Users\\domdd\\Documents\\GitHub\\Soy-Crush\\.venv\\Lib\\site-packages\\xgboost\\core.py:158: UserWarning: [12:36:57] WARNING: C:\\buildkite-agent\\builds\\buildkite-windows-cpu-autoscaling-group-i-08cbc0333d8d4aae1-1\\xgboost\\xgboost-ci-windows\\src\\learner.cc:740: \n",
            "Parameters: { \"colsample_bytree\", \"gamma\", \"max_depth\", \"min_child_weight\", \"subsample\" } are not used.\n",
            "\n",
            "  warnings.warn(smsg, UserWarning)\n",
            "Best trial: 54. Best value: 0.711264: 100%|██████████| 100/100 [1:35:55<00:00, 57.56s/it]\n"
          ]
        },
        {
          "name": "stdout",
          "output_type": "stream",
          "text": [
            "[I 2025-02-09 12:36:57,606] Trial 99 finished with value: 0.7085032252580693 and parameters: {'booster': 'gblinear', 'max_depth': 10, 'learning_rate': 0.08735312722474607, 'n_estimators': 1150, 'subsample': 0.9672537371956053, 'colsample_bytree': 0.8507337384970968, 'reg_alpha': 0.00015531478816676732, 'reg_lambda': 5.302712081383233e-07, 'min_child_weight': 5, 'gamma': 5.210226383339986e-08}. Best is trial 54 with value: 0.7112638671842374.\n"
          ]
        },
        {
          "name": "stderr",
          "output_type": "stream",
          "text": [
            "c:\\Users\\domdd\\Documents\\GitHub\\Soy-Crush\\.venv\\Lib\\site-packages\\xgboost\\core.py:158: UserWarning: [12:36:57] WARNING: C:\\buildkite-agent\\builds\\buildkite-windows-cpu-autoscaling-group-i-08cbc0333d8d4aae1-1\\xgboost\\xgboost-ci-windows\\src\\learner.cc:740: \n",
            "Parameters: { \"colsample_bytree\", \"gamma\", \"max_depth\", \"min_child_weight\", \"predictor\", \"subsample\", \"tree_method\" } are not used.\n",
            "\n",
            "  warnings.warn(smsg, UserWarning)\n"
          ]
        },
        {
          "name": "stdout",
          "output_type": "stream",
          "text": [
            "Accuracy: 0.6438\n",
            "Precision: 0.3822\n",
            "Recall: 0.5794\n",
            "F1 Score: 0.4606\n",
            "AUC-ROC: 0.6412\n"
          ]
        },
        {
          "data": {
            "image/png": "[encoded data removed]",
            "text/plain": [
              "<Figure size 1000x700 with 2 Axes>"
            ]
          },
          "metadata": {},
          "output_type": "display_data"
        },
        {
          "ename": "ValueError",
          "evalue": "All arrays must be of the same length",
          "output_type": "error",
          "traceback": [
            "\u001b[1;31m---------------------------------------------------------------------------\u001b[0m",
            "\u001b[1;31mValueError\u001b[0m                                Traceback (most recent call last)",
            "Cell \u001b[1;32mIn[8], line 198\u001b[0m\n\u001b[0;32m    196\u001b[0m feature_importance \u001b[38;5;241m=\u001b[39m final_pipeline\u001b[38;5;241m.\u001b[39mnamed_steps[\u001b[38;5;124m'\u001b[39m\u001b[38;5;124mclassifier\u001b[39m\u001b[38;5;124m'\u001b[39m]\u001b[38;5;241m.\u001b[39mfeature_importances_\n\u001b[0;32m    197\u001b[0m feature_names \u001b[38;5;241m=\u001b[39m df\u001b[38;5;241m.\u001b[39mdrop([\u001b[38;5;124m'\u001b[39m\u001b[38;5;124mtarget\u001b[39m\u001b[38;5;124m'\u001b[39m, \u001b[38;5;124m'\u001b[39m\u001b[38;5;124mprice\u001b[39m\u001b[38;5;124m'\u001b[39m, \u001b[38;5;124m'\u001b[39m\u001b[38;5;124mvolume\u001b[39m\u001b[38;5;124m'\u001b[39m, \u001b[38;5;124m'\u001b[39m\u001b[38;5;124mlog_return\u001b[39m\u001b[38;5;124m'\u001b[39m], axis\u001b[38;5;241m=\u001b[39m\u001b[38;5;241m1\u001b[39m)\u001b[38;5;241m.\u001b[39mcolumns\n\u001b[1;32m--> 198\u001b[0m feature_importance_df \u001b[38;5;241m=\u001b[39m \u001b[43mpd\u001b[49m\u001b[38;5;241;43m.\u001b[39;49m\u001b[43mDataFrame\u001b[49m\u001b[43m(\u001b[49m\u001b[43m{\u001b[49m\u001b[38;5;124;43m'\u001b[39;49m\u001b[38;5;124;43mfeature\u001b[39;49m\u001b[38;5;124;43m'\u001b[39;49m\u001b[43m:\u001b[49m\u001b[43m \u001b[49m\u001b[43mfeature_names\u001b[49m\u001b[43m,\u001b[49m\u001b[43m \u001b[49m\u001b[38;5;124;43m'\u001b[39;49m\u001b[38;5;124;43mimportance\u001b[39;49m\u001b[38;5;124;43m'\u001b[39;49m\u001b[43m:\u001b[49m\u001b[43m \u001b[49m\u001b[43mfeature_importance\u001b[49m\u001b[43m}\u001b[49m\u001b[43m)\u001b[49m\n\u001b[0;32m    199\u001b[0m feature_importance_df \u001b[38;5;241m=\u001b[39m feature_importance_df\u001b[38;5;241m.\u001b[39msort_values(\u001b[38;5;124m'\u001b[39m\u001b[38;5;124mimportance\u001b[39m\u001b[38;5;124m'\u001b[39m, ascending\u001b[38;5;241m=\u001b[39m\u001b[38;5;28;01mFalse\u001b[39;00m)\u001b[38;5;241m.\u001b[39mhead(\u001b[38;5;241m10\u001b[39m)\n\u001b[0;32m    201\u001b[0m plt\u001b[38;5;241m.\u001b[39mfigure(figsize\u001b[38;5;241m=\u001b[39m(\u001b[38;5;241m12\u001b[39m, \u001b[38;5;241m8\u001b[39m))\n",
            "File \u001b[1;32mc:\\Users\\domdd\\Documents\\GitHub\\Soy-Crush\\.venv\\Lib\\site-packages\\pandas\\core\\frame.py:778\u001b[0m, in \u001b[0;36mDataFrame.__init__\u001b[1;34m(self, data, index, columns, dtype, copy)\u001b[0m\n\u001b[0;32m    772\u001b[0m     mgr \u001b[38;5;241m=\u001b[39m \u001b[38;5;28mself\u001b[39m\u001b[38;5;241m.\u001b[39m_init_mgr(\n\u001b[0;32m    773\u001b[0m         data, axes\u001b[38;5;241m=\u001b[39m{\u001b[38;5;124m\"\u001b[39m\u001b[38;5;124mindex\u001b[39m\u001b[38;5;124m\"\u001b[39m: index, \u001b[38;5;124m\"\u001b[39m\u001b[38;5;124mcolumns\u001b[39m\u001b[38;5;124m\"\u001b[39m: columns}, dtype\u001b[38;5;241m=\u001b[39mdtype, copy\u001b[38;5;241m=\u001b[39mcopy\n\u001b[0;32m    774\u001b[0m     )\n\u001b[0;32m    776\u001b[0m \u001b[38;5;28;01melif\u001b[39;00m \u001b[38;5;28misinstance\u001b[39m(data, \u001b[38;5;28mdict\u001b[39m):\n\u001b[0;32m    777\u001b[0m     \u001b[38;5;66;03m# GH#38939 de facto copy defaults to False only in non-dict cases\u001b[39;00m\n\u001b[1;32m--> 778\u001b[0m     mgr \u001b[38;5;241m=\u001b[39m \u001b[43mdict_to_mgr\u001b[49m\u001b[43m(\u001b[49m\u001b[43mdata\u001b[49m\u001b[43m,\u001b[49m\u001b[43m \u001b[49m\u001b[43mindex\u001b[49m\u001b[43m,\u001b[49m\u001b[43m \u001b[49m\u001b[43mcolumns\u001b[49m\u001b[43m,\u001b[49m\u001b[43m \u001b[49m\u001b[43mdtype\u001b[49m\u001b[38;5;241;43m=\u001b[39;49m\u001b[43mdtype\u001b[49m\u001b[43m,\u001b[49m\u001b[43m \u001b[49m\u001b[43mcopy\u001b[49m\u001b[38;5;241;43m=\u001b[39;49m\u001b[43mcopy\u001b[49m\u001b[43m,\u001b[49m\u001b[43m \u001b[49m\u001b[43mtyp\u001b[49m\u001b[38;5;241;43m=\u001b[39;49m\u001b[43mmanager\u001b[49m\u001b[43m)\u001b[49m\n\u001b[0;32m    779\u001b[0m \u001b[38;5;28;01melif\u001b[39;00m \u001b[38;5;28misinstance\u001b[39m(data, ma\u001b[38;5;241m.\u001b[39mMaskedArray):\n\u001b[0;32m    780\u001b[0m     \u001b[38;5;28;01mfrom\u001b[39;00m\u001b[38;5;250m \u001b[39m\u001b[38;5;21;01mnumpy\u001b[39;00m\u001b[38;5;21;01m.\u001b[39;00m\u001b[38;5;21;01mma\u001b[39;00m\u001b[38;5;250m \u001b[39m\u001b[38;5;28;01mimport\u001b[39;00m mrecords\n",
            "File \u001b[1;32mc:\\Users\\domdd\\Documents\\GitHub\\Soy-Crush\\.venv\\Lib\\site-packages\\pandas\\core\\internals\\construction.py:503\u001b[0m, in \u001b[0;36mdict_to_mgr\u001b[1;34m(data, index, columns, dtype, typ, copy)\u001b[0m\n\u001b[0;32m    499\u001b[0m     \u001b[38;5;28;01melse\u001b[39;00m:\n\u001b[0;32m    500\u001b[0m         \u001b[38;5;66;03m# dtype check to exclude e.g. range objects, scalars\u001b[39;00m\n\u001b[0;32m    501\u001b[0m         arrays \u001b[38;5;241m=\u001b[39m [x\u001b[38;5;241m.\u001b[39mcopy() \u001b[38;5;28;01mif\u001b[39;00m \u001b[38;5;28mhasattr\u001b[39m(x, \u001b[38;5;124m\"\u001b[39m\u001b[38;5;124mdtype\u001b[39m\u001b[38;5;124m\"\u001b[39m) \u001b[38;5;28;01melse\u001b[39;00m x \u001b[38;5;28;01mfor\u001b[39;00m x \u001b[38;5;129;01min\u001b[39;00m arrays]\n\u001b[1;32m--> 503\u001b[0m \u001b[38;5;28;01mreturn\u001b[39;00m \u001b[43marrays_to_mgr\u001b[49m\u001b[43m(\u001b[49m\u001b[43marrays\u001b[49m\u001b[43m,\u001b[49m\u001b[43m \u001b[49m\u001b[43mcolumns\u001b[49m\u001b[43m,\u001b[49m\u001b[43m \u001b[49m\u001b[43mindex\u001b[49m\u001b[43m,\u001b[49m\u001b[43m \u001b[49m\u001b[43mdtype\u001b[49m\u001b[38;5;241;43m=\u001b[39;49m\u001b[43mdtype\u001b[49m\u001b[43m,\u001b[49m\u001b[43m \u001b[49m\u001b[43mtyp\u001b[49m\u001b[38;5;241;43m=\u001b[39;49m\u001b[43mtyp\u001b[49m\u001b[43m,\u001b[49m\u001b[43m \u001b[49m\u001b[43mconsolidate\u001b[49m\u001b[38;5;241;43m=\u001b[39;49m\u001b[43mcopy\u001b[49m\u001b[43m)\u001b[49m\n",
            "File \u001b[1;32mc:\\Users\\domdd\\Documents\\GitHub\\Soy-Crush\\.venv\\Lib\\site-packages\\pandas\\core\\internals\\construction.py:114\u001b[0m, in \u001b[0;36marrays_to_mgr\u001b[1;34m(arrays, columns, index, dtype, verify_integrity, typ, consolidate)\u001b[0m\n\u001b[0;32m    111\u001b[0m \u001b[38;5;28;01mif\u001b[39;00m verify_integrity:\n\u001b[0;32m    112\u001b[0m     \u001b[38;5;66;03m# figure out the index, if necessary\u001b[39;00m\n\u001b[0;32m    113\u001b[0m     \u001b[38;5;28;01mif\u001b[39;00m index \u001b[38;5;129;01mis\u001b[39;00m \u001b[38;5;28;01mNone\u001b[39;00m:\n\u001b[1;32m--> 114\u001b[0m         index \u001b[38;5;241m=\u001b[39m \u001b[43m_extract_index\u001b[49m\u001b[43m(\u001b[49m\u001b[43marrays\u001b[49m\u001b[43m)\u001b[49m\n\u001b[0;32m    115\u001b[0m     \u001b[38;5;28;01melse\u001b[39;00m:\n\u001b[0;32m    116\u001b[0m         index \u001b[38;5;241m=\u001b[39m ensure_index(index)\n",
            "File \u001b[1;32mc:\\Users\\domdd\\Documents\\GitHub\\Soy-Crush\\.venv\\Lib\\site-packages\\pandas\\core\\internals\\construction.py:677\u001b[0m, in \u001b[0;36m_extract_index\u001b[1;34m(data)\u001b[0m\n\u001b[0;32m    675\u001b[0m lengths \u001b[38;5;241m=\u001b[39m \u001b[38;5;28mlist\u001b[39m(\u001b[38;5;28mset\u001b[39m(raw_lengths))\n\u001b[0;32m    676\u001b[0m \u001b[38;5;28;01mif\u001b[39;00m \u001b[38;5;28mlen\u001b[39m(lengths) \u001b[38;5;241m>\u001b[39m \u001b[38;5;241m1\u001b[39m:\n\u001b[1;32m--> 677\u001b[0m     \u001b[38;5;28;01mraise\u001b[39;00m \u001b[38;5;167;01mValueError\u001b[39;00m(\u001b[38;5;124m\"\u001b[39m\u001b[38;5;124mAll arrays must be of the same length\u001b[39m\u001b[38;5;124m\"\u001b[39m)\n\u001b[0;32m    679\u001b[0m \u001b[38;5;28;01mif\u001b[39;00m have_dicts:\n\u001b[0;32m    680\u001b[0m     \u001b[38;5;28;01mraise\u001b[39;00m \u001b[38;5;167;01mValueError\u001b[39;00m(\n\u001b[0;32m    681\u001b[0m         \u001b[38;5;124m\"\u001b[39m\u001b[38;5;124mMixing dicts with non-Series may lead to ambiguous ordering.\u001b[39m\u001b[38;5;124m\"\u001b[39m\n\u001b[0;32m    682\u001b[0m     )\n",
            "\u001b[1;31mValueError\u001b[0m: All arrays must be of the same length"
          ]
        }
      ],
      "source": [
        "import xgboost as xgb\n",
        "import numpy as np\n",
        "import pandas as pd\n",
        "from sklearn.model_selection import StratifiedKFold\n",
        "from sklearn.metrics import accuracy_score, precision_score, recall_score, f1_score, roc_auc_score, confusion_matrix\n",
        "from sklearn.preprocessing import RobustScaler\n",
        "from imblearn.over_sampling import SMOTE\n",
        "from imblearn.pipeline import Pipeline as ImbPipeline\n",
        "import optuna\n",
        "import matplotlib.pyplot as plt\n",
        "import seaborn as sns\n",
        "from statsmodels.tsa.seasonal import seasonal_decompose\n",
        "from sklearn.feature_selection import SelectFromModel\n",
        "import warnings\n",
        "import joblib\n",
        "\n",
        "\n",
        "warnings.filterwarnings('ignore', category=FutureWarning)\n",
        "warnings.filterwarnings('ignore', category=RuntimeWarning)\n",
        "\n",
        "def handle_inf_nan(df):\n",
        "\n",
        "    df = df.replace([np.inf, -np.inf], np.nan)\n",
        "    df = df.ffill().bfill()\n",
        "    return df\n",
        "\n",
        "\n",
        "def create_features(price_series, volume_series, lookahead=1):\n",
        "    df = pd.DataFrame({'price': price_series, 'volume': volume_series})\n",
        "    df.index = pd.to_datetime(df.index)\n",
        "\n",
        "\n",
        "    with np.errstate(invalid='ignore', divide='ignore'):\n",
        "        log_returns = np.log1p(df['price'] / df['price'].shift(1) - 1)\n",
        "    df['log_return'] = log_returns.replace([np.inf, -np.inf], np.nan).fillna(0)\n",
        "\n",
        "\n",
        "    decomp = seasonal_decompose(df['log_return'], model='additive', period=20, extrapolate_trend='freq')\n",
        "    df['trend'] = decomp.trend.fillna(method='bfill').fillna(method='ffill')\n",
        "    df['seasonal'] = decomp.seasonal.fillna(method='bfill').fillna(method='ffill')\n",
        "    df['residual'] = decomp.resid.fillna(method='bfill').fillna(method='ffill')\n",
        "\n",
        "\n",
        "    for window in [5, 20, 50]:\n",
        "        df[f'volatility_{window}'] = df['log_return'].rolling(window).std().fillna(0)\n",
        "\n",
        "\n",
        "    df['day_of_week'] = df.index.dayofweek\n",
        "    df['month'] = df.index.month\n",
        "    df['quarter'] = df.index.quarter\n",
        "\n",
        "\n",
        "    df['month_sin'] = np.sin(2 * np.pi * df['month'] / 12)\n",
        "    df['month_cos'] = np.cos(2 * np.pi * df['month'] / 12)\n",
        "\n",
        "\n",
        "    df['volume_ma_ratio'] = (df['volume'] / df['volume'].rolling(20).mean()).fillna(1)\n",
        "\n",
        "\n",
        "    df['price_ma_ratio'] = (df['price'] / df['price'].rolling(20).mean()).fillna(1)\n",
        "\n",
        "\n",
        "    df['target'] = np.where(df['log_return'].shift(-lookahead) > 0, 1, 0)\n",
        "\n",
        "\n",
        "    df = handle_inf_nan(df)\n",
        "\n",
        "    return df\n",
        "\n",
        "\n",
        "def prepare_data(df, lookback=10):\n",
        "    X = df.drop(['target', 'price', 'volume', 'log_return', 'day_of_week', 'month', 'quarter'], axis=1)\n",
        "    y = df['target']\n",
        "\n",
        "    X_array = np.array([X.iloc[i-lookback:i].values for i in range(lookback, len(X))])\n",
        "    y_array = y.iloc[lookback:].values\n",
        "\n",
        "    return X_array, y_array\n",
        "\n",
        "\n",
        "def objective(trial, X, y):\n",
        "    params = {\n",
        "        'objective': 'binary:logistic',\n",
        "        'eval_metric': 'auc',\n",
        "        'booster': trial.suggest_categorical('booster', ['gbtree', 'gblinear', 'dart']),\n",
        "        'max_depth': trial.suggest_int('max_depth', 3, 10),\n",
        "        'learning_rate': trial.suggest_float('learning_rate', 1e-4, 0.1, log=True),\n",
        "        'n_estimators': trial.suggest_int('n_estimators', 100, 1500, step=50),\n",
        "        'subsample': trial.suggest_float('subsample', 0.5, 1.0),\n",
        "        'colsample_bytree': trial.suggest_float('colsample_bytree', 0.5, 1.0),\n",
        "        'reg_alpha': trial.suggest_float('reg_alpha', 1e-8, 1.0, log=True),\n",
        "        'reg_lambda': trial.suggest_float('reg_lambda', 1e-8, 1.0, log=True),\n",
        "        'min_child_weight': trial.suggest_int('min_child_weight', 1, 10),\n",
        "        'gamma': trial.suggest_float('gamma', 1e-8, 1.0, log=True)\n",
        "    }\n",
        "\n",
        "    if params['booster'] == 'dart':\n",
        "        params['dropout_rate'] = trial.suggest_float('dropout_rate', 0.0, 1.0)\n",
        "\n",
        "\n",
        "    n_splits = 5\n",
        "    skf = StratifiedKFold(n_splits=n_splits, shuffle=True, random_state=42)\n",
        "    auc_scores = []\n",
        "\n",
        "    for train_index, val_index in skf.split(X.reshape(X.shape[0], -1), y):\n",
        "        X_train, X_val = X[train_index], X[val_index]\n",
        "        y_train, y_val = y[train_index], y[val_index]\n",
        "\n",
        "\n",
        "        pipeline = ImbPipeline([\n",
        "            ('scaler', RobustScaler()),\n",
        "            ('smote', SMOTE(random_state=42)),\n",
        "            ('feature_selection', SelectFromModel(xgb.XGBClassifier(random_state=42, eval_metric='logloss'))), \n",
        "            ('classifier', xgb.XGBClassifier(**params, random_state=42))\n",
        "        ])\n",
        "\n",
        "        pipeline.fit(X_train.reshape(X_train.shape[0], -1), y_train)\n",
        "        y_pred_proba = pipeline.predict_proba(X_val.reshape(X_val.shape[0], -1))[:, 1]\n",
        "        auc = roc_auc_score(y_val, y_pred_proba)\n",
        "        auc_scores.append(auc)\n",
        "\n",
        "    return np.mean(auc_scores)\n",
        "\n",
        "\n",
        "if __name__ == \"__main__\":\n",
        "\n",
        "    df = create_features(differentiated_spread, differentiated_spread_volume)\n",
        "    X, y = prepare_data(df)\n",
        "\n",
        "\n",
        "    if np.isinf(X).any() or np.isnan(X).any():\n",
        "        print(\"Warning: Infinity or NaN values detected in X. Handling them...\")\n",
        "        X = np.nan_to_num(X, nan=0, posinf=np.finfo(float).max, neginf=np.finfo(float).min)\n",
        "\n",
        "\n",
        "    study = optuna.create_study(direction='maximize')\n",
        "    study.optimize(lambda trial: objective(trial, X, y), n_trials=100, show_progress_bar=True)\n",
        "\n",
        "\n",
        "    best_params = study.best_params\n",
        "    best_params['eval_metric'] = 'auc'\n",
        "    best_params['device'] = 'cuda'\n",
        "    best_params['tree_method'] = 'gpu_hist'\n",
        "    best_params['predictor'] = 'gpu_predictor'\n",
        "\n",
        "\n",
        "\n",
        "    final_pipeline = ImbPipeline([\n",
        "        ('scaler', RobustScaler()),\n",
        "        ('smote', SMOTE(random_state=42)),\n",
        "        ('feature_selection', SelectFromModel(xgb.XGBClassifier(random_state=42, eval_metric='logloss'))),  # Added eval_metric\n",
        "        ('classifier', xgb.XGBClassifier(**best_params, random_state=42))\n",
        "    ])\n",
        "\n",
        "\n",
        "    split_point = int(0.85 * len(X))\n",
        "    X_train, X_test = X[:split_point], X[split_point:]\n",
        "    y_train, y_test = y[:split_point], y[split_point:]\n",
        "\n",
        "\n",
        "    final_pipeline.fit(X_train.reshape(X_train.shape[0], -1), y_train)\n",
        "    y_pred = final_pipeline.predict(X_test.reshape(X_test.shape[0], -1))\n",
        "    y_prob = final_pipeline.predict_proba(X_test.reshape(X_test.shape[0], -1))[:, 1]\n",
        "\n",
        "\n",
        "    accuracy = accuracy_score(y_test, y_pred)\n",
        "    precision = precision_score(y_test, y_pred)\n",
        "    recall = recall_score(y_test, y_pred)\n",
        "    f1 = f1_score(y_test, y_pred)\n",
        "    auc_roc = roc_auc_score(y_test, y_prob)\n",
        "\n",
        "    print(f\"Accuracy: {accuracy:.4f}\")\n",
        "    print(f\"Precision: {precision:.4f}\")\n",
        "    print(f\"Recall: {recall:.4f}\")\n",
        "    print(f\"F1 Score: {f1:.4f}\")\n",
        "    print(f\"AUC-ROC: {auc_roc:.4f}\")\n",
        "\n",
        "\n",
        "    cm = confusion_matrix(y_test, y_pred)\n",
        "    plt.figure(figsize=(10,7))\n",
        "    sns.heatmap(cm, annot=True, fmt='d')\n",
        "    plt.title('Confusion Matrix')\n",
        "    plt.ylabel('Actual')\n",
        "    plt.xlabel('Predicted')\n",
        "    plt.show()\n",
        "\n",
        "    # Extract the trained XGBoost classifier from the pipeline\n",
        "    xgb_classifier = final_pipeline.named_steps['classifier']\n",
        "\n",
        "    # Save the model in JSON format\n",
        "    xgb_classifier.save_model(\"xgboost_model.json\")\n",
        "\n",
        "    # Save the entire pipeline using joblib\n",
        "    joblib.dump(final_pipeline, \"final_pipeline.pkl\")\n",
        "    \n",
        "    feature_importance = final_pipeline.named_steps['classifier'].feature_importances_\n",
        "    feature_names = df.drop(['target', 'price', 'volume', 'log_return'], axis=1).columns\n",
        "    feature_importance_df = pd.DataFrame({'feature': feature_names, 'importance': feature_importance})\n",
        "    feature_importance_df = feature_importance_df.sort_values('importance', ascending=False).head(10)\n",
        "\n",
        "    plt.figure(figsize=(12, 8))\n",
        "    sns.barplot(x='importance', y='feature', data=feature_importance_df)\n",
        "    plt.title('Top 10 Feature Importances')\n",
        "    plt.show()\n",
        "\n"
      ]
    }
  ],
  "metadata": {
    "accelerator": "GPU",
    "colab": {
      "gpuType": "T4",
      "provenance": []
    },
    "kernelspec": {
      "display_name": ".venv",
      "language": "python",
      "name": "python3"
    },
    "language_info": {
      "codemirror_mode": {
        "name": "ipython",
        "version": 3
      },
      "file_extension": ".py",
      "mimetype": "text/x-python",
      "name": "python",
      "nbconvert_exporter": "python",
      "pygments_lexer": "ipython3",
      "version": "3.12.0"
    }
  },
  "nbformat": 4,
  "nbformat_minor": 0
}
